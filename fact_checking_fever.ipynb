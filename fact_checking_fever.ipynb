{
  "nbformat": 4,
  "nbformat_minor": 0,
  "metadata": {
    "accelerator": "GPU",
    "colab": {
      "name": "fact_checking_fever.ipynb",
      "provenance": [],
      "collapsed_sections": [],
      "toc_visible": true,
      "include_colab_link": true
    },
    "kernelspec": {
      "display_name": "Python 3",
      "name": "python3"
    },
    "widgets": {
      "application/vnd.jupyter.widget-state+json": {
        "2055e25ad59e4d3489443b730793cc2f": {
          "model_module": "@jupyter-widgets/controls",
          "model_name": "HBoxModel",
          "model_module_version": "1.5.0",
          "state": {
            "_view_name": "HBoxView",
            "_dom_classes": [],
            "_model_name": "HBoxModel",
            "_view_module": "@jupyter-widgets/controls",
            "_model_module_version": "1.5.0",
            "_view_count": null,
            "_view_module_version": "1.5.0",
            "box_style": "",
            "layout": "IPY_MODEL_2fa10b89c72249b98085a9b8038e8a15",
            "_model_module": "@jupyter-widgets/controls",
            "children": [
              "IPY_MODEL_6bd604fefa6741a1a82c20689734c585",
              "IPY_MODEL_3af5b0e4e806427ea943ccd5c8396c76"
            ]
          }
        },
        "2fa10b89c72249b98085a9b8038e8a15": {
          "model_module": "@jupyter-widgets/base",
          "model_name": "LayoutModel",
          "model_module_version": "1.2.0",
          "state": {
            "_view_name": "LayoutView",
            "grid_template_rows": null,
            "right": null,
            "justify_content": null,
            "_view_module": "@jupyter-widgets/base",
            "overflow": null,
            "_model_module_version": "1.2.0",
            "_view_count": null,
            "flex_flow": null,
            "width": null,
            "min_width": null,
            "border": null,
            "align_items": null,
            "bottom": null,
            "_model_module": "@jupyter-widgets/base",
            "top": null,
            "grid_column": null,
            "overflow_y": null,
            "overflow_x": null,
            "grid_auto_flow": null,
            "grid_area": null,
            "grid_template_columns": null,
            "flex": null,
            "_model_name": "LayoutModel",
            "justify_items": null,
            "grid_row": null,
            "max_height": null,
            "align_content": null,
            "visibility": null,
            "align_self": null,
            "height": null,
            "min_height": null,
            "padding": null,
            "grid_auto_rows": null,
            "grid_gap": null,
            "max_width": null,
            "order": null,
            "_view_module_version": "1.2.0",
            "grid_template_areas": null,
            "object_position": null,
            "object_fit": null,
            "grid_auto_columns": null,
            "margin": null,
            "display": null,
            "left": null
          }
        },
        "6bd604fefa6741a1a82c20689734c585": {
          "model_module": "@jupyter-widgets/controls",
          "model_name": "FloatProgressModel",
          "model_module_version": "1.5.0",
          "state": {
            "_view_name": "ProgressView",
            "style": "IPY_MODEL_dafd9bb1f01941d7860b80a3c1927d53",
            "_dom_classes": [],
            "description": "100%",
            "_model_name": "FloatProgressModel",
            "bar_style": "success",
            "max": 121740,
            "_view_module": "@jupyter-widgets/controls",
            "_model_module_version": "1.5.0",
            "value": 121740,
            "_view_count": null,
            "_view_module_version": "1.5.0",
            "orientation": "horizontal",
            "min": 0,
            "description_tooltip": null,
            "_model_module": "@jupyter-widgets/controls",
            "layout": "IPY_MODEL_fa568710d3a7463aa7a1d4779c484622"
          }
        },
        "3af5b0e4e806427ea943ccd5c8396c76": {
          "model_module": "@jupyter-widgets/controls",
          "model_name": "HTMLModel",
          "model_module_version": "1.5.0",
          "state": {
            "_view_name": "HTMLView",
            "style": "IPY_MODEL_b0a1cefe01714277a3a95cb158fb5e21",
            "_dom_classes": [],
            "description": "",
            "_model_name": "HTMLModel",
            "placeholder": "​",
            "_view_module": "@jupyter-widgets/controls",
            "_model_module_version": "1.5.0",
            "value": " 121740/121740 [00:02&lt;00:00, 45322.27it/s]",
            "_view_count": null,
            "_view_module_version": "1.5.0",
            "description_tooltip": null,
            "_model_module": "@jupyter-widgets/controls",
            "layout": "IPY_MODEL_7c22764a007249e59fa6cc20fb900a3a"
          }
        },
        "dafd9bb1f01941d7860b80a3c1927d53": {
          "model_module": "@jupyter-widgets/controls",
          "model_name": "ProgressStyleModel",
          "model_module_version": "1.5.0",
          "state": {
            "_view_name": "StyleView",
            "_model_name": "ProgressStyleModel",
            "description_width": "initial",
            "_view_module": "@jupyter-widgets/base",
            "_model_module_version": "1.5.0",
            "_view_count": null,
            "_view_module_version": "1.2.0",
            "bar_color": null,
            "_model_module": "@jupyter-widgets/controls"
          }
        },
        "fa568710d3a7463aa7a1d4779c484622": {
          "model_module": "@jupyter-widgets/base",
          "model_name": "LayoutModel",
          "model_module_version": "1.2.0",
          "state": {
            "_view_name": "LayoutView",
            "grid_template_rows": null,
            "right": null,
            "justify_content": null,
            "_view_module": "@jupyter-widgets/base",
            "overflow": null,
            "_model_module_version": "1.2.0",
            "_view_count": null,
            "flex_flow": null,
            "width": null,
            "min_width": null,
            "border": null,
            "align_items": null,
            "bottom": null,
            "_model_module": "@jupyter-widgets/base",
            "top": null,
            "grid_column": null,
            "overflow_y": null,
            "overflow_x": null,
            "grid_auto_flow": null,
            "grid_area": null,
            "grid_template_columns": null,
            "flex": null,
            "_model_name": "LayoutModel",
            "justify_items": null,
            "grid_row": null,
            "max_height": null,
            "align_content": null,
            "visibility": null,
            "align_self": null,
            "height": null,
            "min_height": null,
            "padding": null,
            "grid_auto_rows": null,
            "grid_gap": null,
            "max_width": null,
            "order": null,
            "_view_module_version": "1.2.0",
            "grid_template_areas": null,
            "object_position": null,
            "object_fit": null,
            "grid_auto_columns": null,
            "margin": null,
            "display": null,
            "left": null
          }
        },
        "b0a1cefe01714277a3a95cb158fb5e21": {
          "model_module": "@jupyter-widgets/controls",
          "model_name": "DescriptionStyleModel",
          "model_module_version": "1.5.0",
          "state": {
            "_view_name": "StyleView",
            "_model_name": "DescriptionStyleModel",
            "description_width": "",
            "_view_module": "@jupyter-widgets/base",
            "_model_module_version": "1.5.0",
            "_view_count": null,
            "_view_module_version": "1.2.0",
            "_model_module": "@jupyter-widgets/controls"
          }
        },
        "7c22764a007249e59fa6cc20fb900a3a": {
          "model_module": "@jupyter-widgets/base",
          "model_name": "LayoutModel",
          "model_module_version": "1.2.0",
          "state": {
            "_view_name": "LayoutView",
            "grid_template_rows": null,
            "right": null,
            "justify_content": null,
            "_view_module": "@jupyter-widgets/base",
            "overflow": null,
            "_model_module_version": "1.2.0",
            "_view_count": null,
            "flex_flow": null,
            "width": null,
            "min_width": null,
            "border": null,
            "align_items": null,
            "bottom": null,
            "_model_module": "@jupyter-widgets/base",
            "top": null,
            "grid_column": null,
            "overflow_y": null,
            "overflow_x": null,
            "grid_auto_flow": null,
            "grid_area": null,
            "grid_template_columns": null,
            "flex": null,
            "_model_name": "LayoutModel",
            "justify_items": null,
            "grid_row": null,
            "max_height": null,
            "align_content": null,
            "visibility": null,
            "align_self": null,
            "height": null,
            "min_height": null,
            "padding": null,
            "grid_auto_rows": null,
            "grid_gap": null,
            "max_width": null,
            "order": null,
            "_view_module_version": "1.2.0",
            "grid_template_areas": null,
            "object_position": null,
            "object_fit": null,
            "grid_auto_columns": null,
            "margin": null,
            "display": null,
            "left": null
          }
        },
        "17f758d619584c0282401db91bf27ea6": {
          "model_module": "@jupyter-widgets/controls",
          "model_name": "HBoxModel",
          "model_module_version": "1.5.0",
          "state": {
            "_view_name": "HBoxView",
            "_dom_classes": [],
            "_model_name": "HBoxModel",
            "_view_module": "@jupyter-widgets/controls",
            "_model_module_version": "1.5.0",
            "_view_count": null,
            "_view_module_version": "1.5.0",
            "box_style": "",
            "layout": "IPY_MODEL_756e2b55ba1642439b73d3d5571c5788",
            "_model_module": "@jupyter-widgets/controls",
            "children": [
              "IPY_MODEL_c63733f0ec6045aebc9ecbd71a7b321b",
              "IPY_MODEL_47e597621a8c4c579e3c779257623f4c"
            ]
          }
        },
        "756e2b55ba1642439b73d3d5571c5788": {
          "model_module": "@jupyter-widgets/base",
          "model_name": "LayoutModel",
          "model_module_version": "1.2.0",
          "state": {
            "_view_name": "LayoutView",
            "grid_template_rows": null,
            "right": null,
            "justify_content": null,
            "_view_module": "@jupyter-widgets/base",
            "overflow": null,
            "_model_module_version": "1.2.0",
            "_view_count": null,
            "flex_flow": null,
            "width": null,
            "min_width": null,
            "border": null,
            "align_items": null,
            "bottom": null,
            "_model_module": "@jupyter-widgets/base",
            "top": null,
            "grid_column": null,
            "overflow_y": null,
            "overflow_x": null,
            "grid_auto_flow": null,
            "grid_area": null,
            "grid_template_columns": null,
            "flex": null,
            "_model_name": "LayoutModel",
            "justify_items": null,
            "grid_row": null,
            "max_height": null,
            "align_content": null,
            "visibility": null,
            "align_self": null,
            "height": null,
            "min_height": null,
            "padding": null,
            "grid_auto_rows": null,
            "grid_gap": null,
            "max_width": null,
            "order": null,
            "_view_module_version": "1.2.0",
            "grid_template_areas": null,
            "object_position": null,
            "object_fit": null,
            "grid_auto_columns": null,
            "margin": null,
            "display": null,
            "left": null
          }
        },
        "c63733f0ec6045aebc9ecbd71a7b321b": {
          "model_module": "@jupyter-widgets/controls",
          "model_name": "FloatProgressModel",
          "model_module_version": "1.5.0",
          "state": {
            "_view_name": "ProgressView",
            "style": "IPY_MODEL_9a73d073df454044bc316d9a1f3426b6",
            "_dom_classes": [],
            "description": "100%",
            "_model_name": "FloatProgressModel",
            "bar_style": "success",
            "max": 7165,
            "_view_module": "@jupyter-widgets/controls",
            "_model_module_version": "1.5.0",
            "value": 7165,
            "_view_count": null,
            "_view_module_version": "1.5.0",
            "orientation": "horizontal",
            "min": 0,
            "description_tooltip": null,
            "_model_module": "@jupyter-widgets/controls",
            "layout": "IPY_MODEL_cc9637567cbb46ca9adfc91f54f7d749"
          }
        },
        "47e597621a8c4c579e3c779257623f4c": {
          "model_module": "@jupyter-widgets/controls",
          "model_name": "HTMLModel",
          "model_module_version": "1.5.0",
          "state": {
            "_view_name": "HTMLView",
            "style": "IPY_MODEL_7d8497410c584fc3b3db5a756e776196",
            "_dom_classes": [],
            "description": "",
            "_model_name": "HTMLModel",
            "placeholder": "​",
            "_view_module": "@jupyter-widgets/controls",
            "_model_module_version": "1.5.0",
            "value": " 7165/7165 [00:00&lt;00:00, 11195.80it/s]",
            "_view_count": null,
            "_view_module_version": "1.5.0",
            "description_tooltip": null,
            "_model_module": "@jupyter-widgets/controls",
            "layout": "IPY_MODEL_c4c9b72735a34819aebfb8803252713b"
          }
        },
        "9a73d073df454044bc316d9a1f3426b6": {
          "model_module": "@jupyter-widgets/controls",
          "model_name": "ProgressStyleModel",
          "model_module_version": "1.5.0",
          "state": {
            "_view_name": "StyleView",
            "_model_name": "ProgressStyleModel",
            "description_width": "initial",
            "_view_module": "@jupyter-widgets/base",
            "_model_module_version": "1.5.0",
            "_view_count": null,
            "_view_module_version": "1.2.0",
            "bar_color": null,
            "_model_module": "@jupyter-widgets/controls"
          }
        },
        "cc9637567cbb46ca9adfc91f54f7d749": {
          "model_module": "@jupyter-widgets/base",
          "model_name": "LayoutModel",
          "model_module_version": "1.2.0",
          "state": {
            "_view_name": "LayoutView",
            "grid_template_rows": null,
            "right": null,
            "justify_content": null,
            "_view_module": "@jupyter-widgets/base",
            "overflow": null,
            "_model_module_version": "1.2.0",
            "_view_count": null,
            "flex_flow": null,
            "width": null,
            "min_width": null,
            "border": null,
            "align_items": null,
            "bottom": null,
            "_model_module": "@jupyter-widgets/base",
            "top": null,
            "grid_column": null,
            "overflow_y": null,
            "overflow_x": null,
            "grid_auto_flow": null,
            "grid_area": null,
            "grid_template_columns": null,
            "flex": null,
            "_model_name": "LayoutModel",
            "justify_items": null,
            "grid_row": null,
            "max_height": null,
            "align_content": null,
            "visibility": null,
            "align_self": null,
            "height": null,
            "min_height": null,
            "padding": null,
            "grid_auto_rows": null,
            "grid_gap": null,
            "max_width": null,
            "order": null,
            "_view_module_version": "1.2.0",
            "grid_template_areas": null,
            "object_position": null,
            "object_fit": null,
            "grid_auto_columns": null,
            "margin": null,
            "display": null,
            "left": null
          }
        },
        "7d8497410c584fc3b3db5a756e776196": {
          "model_module": "@jupyter-widgets/controls",
          "model_name": "DescriptionStyleModel",
          "model_module_version": "1.5.0",
          "state": {
            "_view_name": "StyleView",
            "_model_name": "DescriptionStyleModel",
            "description_width": "",
            "_view_module": "@jupyter-widgets/base",
            "_model_module_version": "1.5.0",
            "_view_count": null,
            "_view_module_version": "1.2.0",
            "_model_module": "@jupyter-widgets/controls"
          }
        },
        "c4c9b72735a34819aebfb8803252713b": {
          "model_module": "@jupyter-widgets/base",
          "model_name": "LayoutModel",
          "model_module_version": "1.2.0",
          "state": {
            "_view_name": "LayoutView",
            "grid_template_rows": null,
            "right": null,
            "justify_content": null,
            "_view_module": "@jupyter-widgets/base",
            "overflow": null,
            "_model_module_version": "1.2.0",
            "_view_count": null,
            "flex_flow": null,
            "width": null,
            "min_width": null,
            "border": null,
            "align_items": null,
            "bottom": null,
            "_model_module": "@jupyter-widgets/base",
            "top": null,
            "grid_column": null,
            "overflow_y": null,
            "overflow_x": null,
            "grid_auto_flow": null,
            "grid_area": null,
            "grid_template_columns": null,
            "flex": null,
            "_model_name": "LayoutModel",
            "justify_items": null,
            "grid_row": null,
            "max_height": null,
            "align_content": null,
            "visibility": null,
            "align_self": null,
            "height": null,
            "min_height": null,
            "padding": null,
            "grid_auto_rows": null,
            "grid_gap": null,
            "max_width": null,
            "order": null,
            "_view_module_version": "1.2.0",
            "grid_template_areas": null,
            "object_position": null,
            "object_fit": null,
            "grid_auto_columns": null,
            "margin": null,
            "display": null,
            "left": null
          }
        },
        "b1cd0115e2754be78d5041e6dfeca8c9": {
          "model_module": "@jupyter-widgets/controls",
          "model_name": "HBoxModel",
          "model_module_version": "1.5.0",
          "state": {
            "_view_name": "HBoxView",
            "_dom_classes": [],
            "_model_name": "HBoxModel",
            "_view_module": "@jupyter-widgets/controls",
            "_model_module_version": "1.5.0",
            "_view_count": null,
            "_view_module_version": "1.5.0",
            "box_style": "",
            "layout": "IPY_MODEL_6ec37e04e7b6491ba9a66aafa1b8f618",
            "_model_module": "@jupyter-widgets/controls",
            "children": [
              "IPY_MODEL_0628448f280d4a4fa4d45c3dc8271542",
              "IPY_MODEL_c20672a764a242dc9792f3b7c9bf04f0"
            ]
          }
        },
        "6ec37e04e7b6491ba9a66aafa1b8f618": {
          "model_module": "@jupyter-widgets/base",
          "model_name": "LayoutModel",
          "model_module_version": "1.2.0",
          "state": {
            "_view_name": "LayoutView",
            "grid_template_rows": null,
            "right": null,
            "justify_content": null,
            "_view_module": "@jupyter-widgets/base",
            "overflow": null,
            "_model_module_version": "1.2.0",
            "_view_count": null,
            "flex_flow": null,
            "width": null,
            "min_width": null,
            "border": null,
            "align_items": null,
            "bottom": null,
            "_model_module": "@jupyter-widgets/base",
            "top": null,
            "grid_column": null,
            "overflow_y": null,
            "overflow_x": null,
            "grid_auto_flow": null,
            "grid_area": null,
            "grid_template_columns": null,
            "flex": null,
            "_model_name": "LayoutModel",
            "justify_items": null,
            "grid_row": null,
            "max_height": null,
            "align_content": null,
            "visibility": null,
            "align_self": null,
            "height": null,
            "min_height": null,
            "padding": null,
            "grid_auto_rows": null,
            "grid_gap": null,
            "max_width": null,
            "order": null,
            "_view_module_version": "1.2.0",
            "grid_template_areas": null,
            "object_position": null,
            "object_fit": null,
            "grid_auto_columns": null,
            "margin": null,
            "display": null,
            "left": null
          }
        },
        "0628448f280d4a4fa4d45c3dc8271542": {
          "model_module": "@jupyter-widgets/controls",
          "model_name": "FloatProgressModel",
          "model_module_version": "1.5.0",
          "state": {
            "_view_name": "ProgressView",
            "style": "IPY_MODEL_1d6e5a3ea6b7494e8b4d797f30212352",
            "_dom_classes": [],
            "description": "100%",
            "_model_name": "FloatProgressModel",
            "bar_style": "success",
            "max": 7189,
            "_view_module": "@jupyter-widgets/controls",
            "_model_module_version": "1.5.0",
            "value": 7189,
            "_view_count": null,
            "_view_module_version": "1.5.0",
            "orientation": "horizontal",
            "min": 0,
            "description_tooltip": null,
            "_model_module": "@jupyter-widgets/controls",
            "layout": "IPY_MODEL_9689bd533b064155a2701f915015ca53"
          }
        },
        "c20672a764a242dc9792f3b7c9bf04f0": {
          "model_module": "@jupyter-widgets/controls",
          "model_name": "HTMLModel",
          "model_module_version": "1.5.0",
          "state": {
            "_view_name": "HTMLView",
            "style": "IPY_MODEL_0457dbbfb5aa491e9be104992a73157a",
            "_dom_classes": [],
            "description": "",
            "_model_name": "HTMLModel",
            "placeholder": "​",
            "_view_module": "@jupyter-widgets/controls",
            "_model_module_version": "1.5.0",
            "value": " 7189/7189 [00:00&lt;00:00, 14962.63it/s]",
            "_view_count": null,
            "_view_module_version": "1.5.0",
            "description_tooltip": null,
            "_model_module": "@jupyter-widgets/controls",
            "layout": "IPY_MODEL_909127969be4494098a9efec83f2c0f4"
          }
        },
        "1d6e5a3ea6b7494e8b4d797f30212352": {
          "model_module": "@jupyter-widgets/controls",
          "model_name": "ProgressStyleModel",
          "model_module_version": "1.5.0",
          "state": {
            "_view_name": "StyleView",
            "_model_name": "ProgressStyleModel",
            "description_width": "initial",
            "_view_module": "@jupyter-widgets/base",
            "_model_module_version": "1.5.0",
            "_view_count": null,
            "_view_module_version": "1.2.0",
            "bar_color": null,
            "_model_module": "@jupyter-widgets/controls"
          }
        },
        "9689bd533b064155a2701f915015ca53": {
          "model_module": "@jupyter-widgets/base",
          "model_name": "LayoutModel",
          "model_module_version": "1.2.0",
          "state": {
            "_view_name": "LayoutView",
            "grid_template_rows": null,
            "right": null,
            "justify_content": null,
            "_view_module": "@jupyter-widgets/base",
            "overflow": null,
            "_model_module_version": "1.2.0",
            "_view_count": null,
            "flex_flow": null,
            "width": null,
            "min_width": null,
            "border": null,
            "align_items": null,
            "bottom": null,
            "_model_module": "@jupyter-widgets/base",
            "top": null,
            "grid_column": null,
            "overflow_y": null,
            "overflow_x": null,
            "grid_auto_flow": null,
            "grid_area": null,
            "grid_template_columns": null,
            "flex": null,
            "_model_name": "LayoutModel",
            "justify_items": null,
            "grid_row": null,
            "max_height": null,
            "align_content": null,
            "visibility": null,
            "align_self": null,
            "height": null,
            "min_height": null,
            "padding": null,
            "grid_auto_rows": null,
            "grid_gap": null,
            "max_width": null,
            "order": null,
            "_view_module_version": "1.2.0",
            "grid_template_areas": null,
            "object_position": null,
            "object_fit": null,
            "grid_auto_columns": null,
            "margin": null,
            "display": null,
            "left": null
          }
        },
        "0457dbbfb5aa491e9be104992a73157a": {
          "model_module": "@jupyter-widgets/controls",
          "model_name": "DescriptionStyleModel",
          "model_module_version": "1.5.0",
          "state": {
            "_view_name": "StyleView",
            "_model_name": "DescriptionStyleModel",
            "description_width": "",
            "_view_module": "@jupyter-widgets/base",
            "_model_module_version": "1.5.0",
            "_view_count": null,
            "_view_module_version": "1.2.0",
            "_model_module": "@jupyter-widgets/controls"
          }
        },
        "909127969be4494098a9efec83f2c0f4": {
          "model_module": "@jupyter-widgets/base",
          "model_name": "LayoutModel",
          "model_module_version": "1.2.0",
          "state": {
            "_view_name": "LayoutView",
            "grid_template_rows": null,
            "right": null,
            "justify_content": null,
            "_view_module": "@jupyter-widgets/base",
            "overflow": null,
            "_model_module_version": "1.2.0",
            "_view_count": null,
            "flex_flow": null,
            "width": null,
            "min_width": null,
            "border": null,
            "align_items": null,
            "bottom": null,
            "_model_module": "@jupyter-widgets/base",
            "top": null,
            "grid_column": null,
            "overflow_y": null,
            "overflow_x": null,
            "grid_auto_flow": null,
            "grid_area": null,
            "grid_template_columns": null,
            "flex": null,
            "_model_name": "LayoutModel",
            "justify_items": null,
            "grid_row": null,
            "max_height": null,
            "align_content": null,
            "visibility": null,
            "align_self": null,
            "height": null,
            "min_height": null,
            "padding": null,
            "grid_auto_rows": null,
            "grid_gap": null,
            "max_width": null,
            "order": null,
            "_view_module_version": "1.2.0",
            "grid_template_areas": null,
            "object_position": null,
            "object_fit": null,
            "grid_auto_columns": null,
            "margin": null,
            "display": null,
            "left": null
          }
        },
        "483d2fbfa6814105a97716e8857e6420": {
          "model_module": "@jupyter-widgets/controls",
          "model_name": "HBoxModel",
          "model_module_version": "1.5.0",
          "state": {
            "_view_name": "HBoxView",
            "_dom_classes": [],
            "_model_name": "HBoxModel",
            "_view_module": "@jupyter-widgets/controls",
            "_model_module_version": "1.5.0",
            "_view_count": null,
            "_view_module_version": "1.5.0",
            "box_style": "",
            "layout": "IPY_MODEL_4e4e7b9dd22e4774b158ab5b9078e7e3",
            "_model_module": "@jupyter-widgets/controls",
            "children": [
              "IPY_MODEL_08ce9bbcf8d5405eab0fb25cd061e5bb",
              "IPY_MODEL_e352e5de26844131b534c2297aa4cadf"
            ]
          }
        },
        "4e4e7b9dd22e4774b158ab5b9078e7e3": {
          "model_module": "@jupyter-widgets/base",
          "model_name": "LayoutModel",
          "model_module_version": "1.2.0",
          "state": {
            "_view_name": "LayoutView",
            "grid_template_rows": null,
            "right": null,
            "justify_content": null,
            "_view_module": "@jupyter-widgets/base",
            "overflow": null,
            "_model_module_version": "1.2.0",
            "_view_count": null,
            "flex_flow": null,
            "width": null,
            "min_width": null,
            "border": null,
            "align_items": null,
            "bottom": null,
            "_model_module": "@jupyter-widgets/base",
            "top": null,
            "grid_column": null,
            "overflow_y": null,
            "overflow_x": null,
            "grid_auto_flow": null,
            "grid_area": null,
            "grid_template_columns": null,
            "flex": null,
            "_model_name": "LayoutModel",
            "justify_items": null,
            "grid_row": null,
            "max_height": null,
            "align_content": null,
            "visibility": null,
            "align_self": null,
            "height": null,
            "min_height": null,
            "padding": null,
            "grid_auto_rows": null,
            "grid_gap": null,
            "max_width": null,
            "order": null,
            "_view_module_version": "1.2.0",
            "grid_template_areas": null,
            "object_position": null,
            "object_fit": null,
            "grid_auto_columns": null,
            "margin": null,
            "display": null,
            "left": null
          }
        },
        "08ce9bbcf8d5405eab0fb25cd061e5bb": {
          "model_module": "@jupyter-widgets/controls",
          "model_name": "FloatProgressModel",
          "model_module_version": "1.5.0",
          "state": {
            "_view_name": "ProgressView",
            "style": "IPY_MODEL_afcb138c8c954823a5e9d4935e82998a",
            "_dom_classes": [],
            "description": "100%",
            "_model_name": "FloatProgressModel",
            "bar_style": "success",
            "max": 121707,
            "_view_module": "@jupyter-widgets/controls",
            "_model_module_version": "1.5.0",
            "value": 121707,
            "_view_count": null,
            "_view_module_version": "1.5.0",
            "orientation": "horizontal",
            "min": 0,
            "description_tooltip": null,
            "_model_module": "@jupyter-widgets/controls",
            "layout": "IPY_MODEL_266777441ae446f09d510bfe94233f95"
          }
        },
        "e352e5de26844131b534c2297aa4cadf": {
          "model_module": "@jupyter-widgets/controls",
          "model_name": "HTMLModel",
          "model_module_version": "1.5.0",
          "state": {
            "_view_name": "HTMLView",
            "style": "IPY_MODEL_503be5e182794fd395ef711e96952b3f",
            "_dom_classes": [],
            "description": "",
            "_model_name": "HTMLModel",
            "placeholder": "​",
            "_view_module": "@jupyter-widgets/controls",
            "_model_module_version": "1.5.0",
            "value": " 121707/121707 [01:08&lt;00:00, 1769.08it/s]",
            "_view_count": null,
            "_view_module_version": "1.5.0",
            "description_tooltip": null,
            "_model_module": "@jupyter-widgets/controls",
            "layout": "IPY_MODEL_2fd49cbb6d734a4c998fa5d4fe581748"
          }
        },
        "afcb138c8c954823a5e9d4935e82998a": {
          "model_module": "@jupyter-widgets/controls",
          "model_name": "ProgressStyleModel",
          "model_module_version": "1.5.0",
          "state": {
            "_view_name": "StyleView",
            "_model_name": "ProgressStyleModel",
            "description_width": "initial",
            "_view_module": "@jupyter-widgets/base",
            "_model_module_version": "1.5.0",
            "_view_count": null,
            "_view_module_version": "1.2.0",
            "bar_color": null,
            "_model_module": "@jupyter-widgets/controls"
          }
        },
        "266777441ae446f09d510bfe94233f95": {
          "model_module": "@jupyter-widgets/base",
          "model_name": "LayoutModel",
          "model_module_version": "1.2.0",
          "state": {
            "_view_name": "LayoutView",
            "grid_template_rows": null,
            "right": null,
            "justify_content": null,
            "_view_module": "@jupyter-widgets/base",
            "overflow": null,
            "_model_module_version": "1.2.0",
            "_view_count": null,
            "flex_flow": null,
            "width": null,
            "min_width": null,
            "border": null,
            "align_items": null,
            "bottom": null,
            "_model_module": "@jupyter-widgets/base",
            "top": null,
            "grid_column": null,
            "overflow_y": null,
            "overflow_x": null,
            "grid_auto_flow": null,
            "grid_area": null,
            "grid_template_columns": null,
            "flex": null,
            "_model_name": "LayoutModel",
            "justify_items": null,
            "grid_row": null,
            "max_height": null,
            "align_content": null,
            "visibility": null,
            "align_self": null,
            "height": null,
            "min_height": null,
            "padding": null,
            "grid_auto_rows": null,
            "grid_gap": null,
            "max_width": null,
            "order": null,
            "_view_module_version": "1.2.0",
            "grid_template_areas": null,
            "object_position": null,
            "object_fit": null,
            "grid_auto_columns": null,
            "margin": null,
            "display": null,
            "left": null
          }
        },
        "503be5e182794fd395ef711e96952b3f": {
          "model_module": "@jupyter-widgets/controls",
          "model_name": "DescriptionStyleModel",
          "model_module_version": "1.5.0",
          "state": {
            "_view_name": "StyleView",
            "_model_name": "DescriptionStyleModel",
            "description_width": "",
            "_view_module": "@jupyter-widgets/base",
            "_model_module_version": "1.5.0",
            "_view_count": null,
            "_view_module_version": "1.2.0",
            "_model_module": "@jupyter-widgets/controls"
          }
        },
        "2fd49cbb6d734a4c998fa5d4fe581748": {
          "model_module": "@jupyter-widgets/base",
          "model_name": "LayoutModel",
          "model_module_version": "1.2.0",
          "state": {
            "_view_name": "LayoutView",
            "grid_template_rows": null,
            "right": null,
            "justify_content": null,
            "_view_module": "@jupyter-widgets/base",
            "overflow": null,
            "_model_module_version": "1.2.0",
            "_view_count": null,
            "flex_flow": null,
            "width": null,
            "min_width": null,
            "border": null,
            "align_items": null,
            "bottom": null,
            "_model_module": "@jupyter-widgets/base",
            "top": null,
            "grid_column": null,
            "overflow_y": null,
            "overflow_x": null,
            "grid_auto_flow": null,
            "grid_area": null,
            "grid_template_columns": null,
            "flex": null,
            "_model_name": "LayoutModel",
            "justify_items": null,
            "grid_row": null,
            "max_height": null,
            "align_content": null,
            "visibility": null,
            "align_self": null,
            "height": null,
            "min_height": null,
            "padding": null,
            "grid_auto_rows": null,
            "grid_gap": null,
            "max_width": null,
            "order": null,
            "_view_module_version": "1.2.0",
            "grid_template_areas": null,
            "object_position": null,
            "object_fit": null,
            "grid_auto_columns": null,
            "margin": null,
            "display": null,
            "left": null
          }
        },
        "f3a05272c7474e37811c709cbf4eddef": {
          "model_module": "@jupyter-widgets/controls",
          "model_name": "HBoxModel",
          "model_module_version": "1.5.0",
          "state": {
            "_view_name": "HBoxView",
            "_dom_classes": [],
            "_model_name": "HBoxModel",
            "_view_module": "@jupyter-widgets/controls",
            "_model_module_version": "1.5.0",
            "_view_count": null,
            "_view_module_version": "1.5.0",
            "box_style": "",
            "layout": "IPY_MODEL_a82c8d1d50e84135851388620b665d64",
            "_model_module": "@jupyter-widgets/controls",
            "children": [
              "IPY_MODEL_42c3082341a54615b00f707443b6cd44",
              "IPY_MODEL_afda72dfa9684646bd03f52856c263ee"
            ]
          }
        },
        "a82c8d1d50e84135851388620b665d64": {
          "model_module": "@jupyter-widgets/base",
          "model_name": "LayoutModel",
          "model_module_version": "1.2.0",
          "state": {
            "_view_name": "LayoutView",
            "grid_template_rows": null,
            "right": null,
            "justify_content": null,
            "_view_module": "@jupyter-widgets/base",
            "overflow": null,
            "_model_module_version": "1.2.0",
            "_view_count": null,
            "flex_flow": null,
            "width": null,
            "min_width": null,
            "border": null,
            "align_items": null,
            "bottom": null,
            "_model_module": "@jupyter-widgets/base",
            "top": null,
            "grid_column": null,
            "overflow_y": null,
            "overflow_x": null,
            "grid_auto_flow": null,
            "grid_area": null,
            "grid_template_columns": null,
            "flex": null,
            "_model_name": "LayoutModel",
            "justify_items": null,
            "grid_row": null,
            "max_height": null,
            "align_content": null,
            "visibility": null,
            "align_self": null,
            "height": null,
            "min_height": null,
            "padding": null,
            "grid_auto_rows": null,
            "grid_gap": null,
            "max_width": null,
            "order": null,
            "_view_module_version": "1.2.0",
            "grid_template_areas": null,
            "object_position": null,
            "object_fit": null,
            "grid_auto_columns": null,
            "margin": null,
            "display": null,
            "left": null
          }
        },
        "42c3082341a54615b00f707443b6cd44": {
          "model_module": "@jupyter-widgets/controls",
          "model_name": "FloatProgressModel",
          "model_module_version": "1.5.0",
          "state": {
            "_view_name": "ProgressView",
            "style": "IPY_MODEL_81f47c6efe7d4f89a8991cda844a4f91",
            "_dom_classes": [],
            "description": "100%",
            "_model_name": "FloatProgressModel",
            "bar_style": "success",
            "max": 7165,
            "_view_module": "@jupyter-widgets/controls",
            "_model_module_version": "1.5.0",
            "value": 7165,
            "_view_count": null,
            "_view_module_version": "1.5.0",
            "orientation": "horizontal",
            "min": 0,
            "description_tooltip": null,
            "_model_module": "@jupyter-widgets/controls",
            "layout": "IPY_MODEL_784c796011424e3c80fe61da9348c5c4"
          }
        },
        "afda72dfa9684646bd03f52856c263ee": {
          "model_module": "@jupyter-widgets/controls",
          "model_name": "HTMLModel",
          "model_module_version": "1.5.0",
          "state": {
            "_view_name": "HTMLView",
            "style": "IPY_MODEL_0bd74cebf1a5436dafce98ed88f01ca5",
            "_dom_classes": [],
            "description": "",
            "_model_name": "HTMLModel",
            "placeholder": "​",
            "_view_module": "@jupyter-widgets/controls",
            "_model_module_version": "1.5.0",
            "value": " 7165/7165 [00:03&lt;00:00, 2171.97it/s]",
            "_view_count": null,
            "_view_module_version": "1.5.0",
            "description_tooltip": null,
            "_model_module": "@jupyter-widgets/controls",
            "layout": "IPY_MODEL_94b65babfe1643038fb37d98f8392100"
          }
        },
        "81f47c6efe7d4f89a8991cda844a4f91": {
          "model_module": "@jupyter-widgets/controls",
          "model_name": "ProgressStyleModel",
          "model_module_version": "1.5.0",
          "state": {
            "_view_name": "StyleView",
            "_model_name": "ProgressStyleModel",
            "description_width": "initial",
            "_view_module": "@jupyter-widgets/base",
            "_model_module_version": "1.5.0",
            "_view_count": null,
            "_view_module_version": "1.2.0",
            "bar_color": null,
            "_model_module": "@jupyter-widgets/controls"
          }
        },
        "784c796011424e3c80fe61da9348c5c4": {
          "model_module": "@jupyter-widgets/base",
          "model_name": "LayoutModel",
          "model_module_version": "1.2.0",
          "state": {
            "_view_name": "LayoutView",
            "grid_template_rows": null,
            "right": null,
            "justify_content": null,
            "_view_module": "@jupyter-widgets/base",
            "overflow": null,
            "_model_module_version": "1.2.0",
            "_view_count": null,
            "flex_flow": null,
            "width": null,
            "min_width": null,
            "border": null,
            "align_items": null,
            "bottom": null,
            "_model_module": "@jupyter-widgets/base",
            "top": null,
            "grid_column": null,
            "overflow_y": null,
            "overflow_x": null,
            "grid_auto_flow": null,
            "grid_area": null,
            "grid_template_columns": null,
            "flex": null,
            "_model_name": "LayoutModel",
            "justify_items": null,
            "grid_row": null,
            "max_height": null,
            "align_content": null,
            "visibility": null,
            "align_self": null,
            "height": null,
            "min_height": null,
            "padding": null,
            "grid_auto_rows": null,
            "grid_gap": null,
            "max_width": null,
            "order": null,
            "_view_module_version": "1.2.0",
            "grid_template_areas": null,
            "object_position": null,
            "object_fit": null,
            "grid_auto_columns": null,
            "margin": null,
            "display": null,
            "left": null
          }
        },
        "0bd74cebf1a5436dafce98ed88f01ca5": {
          "model_module": "@jupyter-widgets/controls",
          "model_name": "DescriptionStyleModel",
          "model_module_version": "1.5.0",
          "state": {
            "_view_name": "StyleView",
            "_model_name": "DescriptionStyleModel",
            "description_width": "",
            "_view_module": "@jupyter-widgets/base",
            "_model_module_version": "1.5.0",
            "_view_count": null,
            "_view_module_version": "1.2.0",
            "_model_module": "@jupyter-widgets/controls"
          }
        },
        "94b65babfe1643038fb37d98f8392100": {
          "model_module": "@jupyter-widgets/base",
          "model_name": "LayoutModel",
          "model_module_version": "1.2.0",
          "state": {
            "_view_name": "LayoutView",
            "grid_template_rows": null,
            "right": null,
            "justify_content": null,
            "_view_module": "@jupyter-widgets/base",
            "overflow": null,
            "_model_module_version": "1.2.0",
            "_view_count": null,
            "flex_flow": null,
            "width": null,
            "min_width": null,
            "border": null,
            "align_items": null,
            "bottom": null,
            "_model_module": "@jupyter-widgets/base",
            "top": null,
            "grid_column": null,
            "overflow_y": null,
            "overflow_x": null,
            "grid_auto_flow": null,
            "grid_area": null,
            "grid_template_columns": null,
            "flex": null,
            "_model_name": "LayoutModel",
            "justify_items": null,
            "grid_row": null,
            "max_height": null,
            "align_content": null,
            "visibility": null,
            "align_self": null,
            "height": null,
            "min_height": null,
            "padding": null,
            "grid_auto_rows": null,
            "grid_gap": null,
            "max_width": null,
            "order": null,
            "_view_module_version": "1.2.0",
            "grid_template_areas": null,
            "object_position": null,
            "object_fit": null,
            "grid_auto_columns": null,
            "margin": null,
            "display": null,
            "left": null
          }
        },
        "83673ca101ba4ac8bad480e1db4562de": {
          "model_module": "@jupyter-widgets/controls",
          "model_name": "HBoxModel",
          "model_module_version": "1.5.0",
          "state": {
            "_view_name": "HBoxView",
            "_dom_classes": [],
            "_model_name": "HBoxModel",
            "_view_module": "@jupyter-widgets/controls",
            "_model_module_version": "1.5.0",
            "_view_count": null,
            "_view_module_version": "1.5.0",
            "box_style": "",
            "layout": "IPY_MODEL_ff39171c0641426e98a948f7f6cda211",
            "_model_module": "@jupyter-widgets/controls",
            "children": [
              "IPY_MODEL_0f6ea1b57d704784bfcc4ed192fd27cd",
              "IPY_MODEL_66b07e4fd14b4739ae4b65558b8703d3"
            ]
          }
        },
        "ff39171c0641426e98a948f7f6cda211": {
          "model_module": "@jupyter-widgets/base",
          "model_name": "LayoutModel",
          "model_module_version": "1.2.0",
          "state": {
            "_view_name": "LayoutView",
            "grid_template_rows": null,
            "right": null,
            "justify_content": null,
            "_view_module": "@jupyter-widgets/base",
            "overflow": null,
            "_model_module_version": "1.2.0",
            "_view_count": null,
            "flex_flow": null,
            "width": null,
            "min_width": null,
            "border": null,
            "align_items": null,
            "bottom": null,
            "_model_module": "@jupyter-widgets/base",
            "top": null,
            "grid_column": null,
            "overflow_y": null,
            "overflow_x": null,
            "grid_auto_flow": null,
            "grid_area": null,
            "grid_template_columns": null,
            "flex": null,
            "_model_name": "LayoutModel",
            "justify_items": null,
            "grid_row": null,
            "max_height": null,
            "align_content": null,
            "visibility": null,
            "align_self": null,
            "height": null,
            "min_height": null,
            "padding": null,
            "grid_auto_rows": null,
            "grid_gap": null,
            "max_width": null,
            "order": null,
            "_view_module_version": "1.2.0",
            "grid_template_areas": null,
            "object_position": null,
            "object_fit": null,
            "grid_auto_columns": null,
            "margin": null,
            "display": null,
            "left": null
          }
        },
        "0f6ea1b57d704784bfcc4ed192fd27cd": {
          "model_module": "@jupyter-widgets/controls",
          "model_name": "FloatProgressModel",
          "model_module_version": "1.5.0",
          "state": {
            "_view_name": "ProgressView",
            "style": "IPY_MODEL_8fbd56668c5a437ebf36d9166ea67219",
            "_dom_classes": [],
            "description": "100%",
            "_model_name": "FloatProgressModel",
            "bar_style": "success",
            "max": 7189,
            "_view_module": "@jupyter-widgets/controls",
            "_model_module_version": "1.5.0",
            "value": 7189,
            "_view_count": null,
            "_view_module_version": "1.5.0",
            "orientation": "horizontal",
            "min": 0,
            "description_tooltip": null,
            "_model_module": "@jupyter-widgets/controls",
            "layout": "IPY_MODEL_5b49bc2315944554946aea6fc0f9288d"
          }
        },
        "66b07e4fd14b4739ae4b65558b8703d3": {
          "model_module": "@jupyter-widgets/controls",
          "model_name": "HTMLModel",
          "model_module_version": "1.5.0",
          "state": {
            "_view_name": "HTMLView",
            "style": "IPY_MODEL_c966f2ceb1eb4e8a8672b1c93fd839df",
            "_dom_classes": [],
            "description": "",
            "_model_name": "HTMLModel",
            "placeholder": "​",
            "_view_module": "@jupyter-widgets/controls",
            "_model_module_version": "1.5.0",
            "value": " 7189/7189 [00:03&lt;00:00, 2133.77it/s]",
            "_view_count": null,
            "_view_module_version": "1.5.0",
            "description_tooltip": null,
            "_model_module": "@jupyter-widgets/controls",
            "layout": "IPY_MODEL_5ea6f895e0a04697baf75917d999368e"
          }
        },
        "8fbd56668c5a437ebf36d9166ea67219": {
          "model_module": "@jupyter-widgets/controls",
          "model_name": "ProgressStyleModel",
          "model_module_version": "1.5.0",
          "state": {
            "_view_name": "StyleView",
            "_model_name": "ProgressStyleModel",
            "description_width": "initial",
            "_view_module": "@jupyter-widgets/base",
            "_model_module_version": "1.5.0",
            "_view_count": null,
            "_view_module_version": "1.2.0",
            "bar_color": null,
            "_model_module": "@jupyter-widgets/controls"
          }
        },
        "5b49bc2315944554946aea6fc0f9288d": {
          "model_module": "@jupyter-widgets/base",
          "model_name": "LayoutModel",
          "model_module_version": "1.2.0",
          "state": {
            "_view_name": "LayoutView",
            "grid_template_rows": null,
            "right": null,
            "justify_content": null,
            "_view_module": "@jupyter-widgets/base",
            "overflow": null,
            "_model_module_version": "1.2.0",
            "_view_count": null,
            "flex_flow": null,
            "width": null,
            "min_width": null,
            "border": null,
            "align_items": null,
            "bottom": null,
            "_model_module": "@jupyter-widgets/base",
            "top": null,
            "grid_column": null,
            "overflow_y": null,
            "overflow_x": null,
            "grid_auto_flow": null,
            "grid_area": null,
            "grid_template_columns": null,
            "flex": null,
            "_model_name": "LayoutModel",
            "justify_items": null,
            "grid_row": null,
            "max_height": null,
            "align_content": null,
            "visibility": null,
            "align_self": null,
            "height": null,
            "min_height": null,
            "padding": null,
            "grid_auto_rows": null,
            "grid_gap": null,
            "max_width": null,
            "order": null,
            "_view_module_version": "1.2.0",
            "grid_template_areas": null,
            "object_position": null,
            "object_fit": null,
            "grid_auto_columns": null,
            "margin": null,
            "display": null,
            "left": null
          }
        },
        "c966f2ceb1eb4e8a8672b1c93fd839df": {
          "model_module": "@jupyter-widgets/controls",
          "model_name": "DescriptionStyleModel",
          "model_module_version": "1.5.0",
          "state": {
            "_view_name": "StyleView",
            "_model_name": "DescriptionStyleModel",
            "description_width": "",
            "_view_module": "@jupyter-widgets/base",
            "_model_module_version": "1.5.0",
            "_view_count": null,
            "_view_module_version": "1.2.0",
            "_model_module": "@jupyter-widgets/controls"
          }
        },
        "5ea6f895e0a04697baf75917d999368e": {
          "model_module": "@jupyter-widgets/base",
          "model_name": "LayoutModel",
          "model_module_version": "1.2.0",
          "state": {
            "_view_name": "LayoutView",
            "grid_template_rows": null,
            "right": null,
            "justify_content": null,
            "_view_module": "@jupyter-widgets/base",
            "overflow": null,
            "_model_module_version": "1.2.0",
            "_view_count": null,
            "flex_flow": null,
            "width": null,
            "min_width": null,
            "border": null,
            "align_items": null,
            "bottom": null,
            "_model_module": "@jupyter-widgets/base",
            "top": null,
            "grid_column": null,
            "overflow_y": null,
            "overflow_x": null,
            "grid_auto_flow": null,
            "grid_area": null,
            "grid_template_columns": null,
            "flex": null,
            "_model_name": "LayoutModel",
            "justify_items": null,
            "grid_row": null,
            "max_height": null,
            "align_content": null,
            "visibility": null,
            "align_self": null,
            "height": null,
            "min_height": null,
            "padding": null,
            "grid_auto_rows": null,
            "grid_gap": null,
            "max_width": null,
            "order": null,
            "_view_module_version": "1.2.0",
            "grid_template_areas": null,
            "object_position": null,
            "object_fit": null,
            "grid_auto_columns": null,
            "margin": null,
            "display": null,
            "left": null
          }
        },
        "83b6cbdf9d054ba6b46419df0940296a": {
          "model_module": "@jupyter-widgets/controls",
          "model_name": "HBoxModel",
          "model_module_version": "1.5.0",
          "state": {
            "_view_name": "HBoxView",
            "_dom_classes": [],
            "_model_name": "HBoxModel",
            "_view_module": "@jupyter-widgets/controls",
            "_model_module_version": "1.5.0",
            "_view_count": null,
            "_view_module_version": "1.5.0",
            "box_style": "",
            "layout": "IPY_MODEL_913ad7960cae4682b79f763388c04012",
            "_model_module": "@jupyter-widgets/controls",
            "children": [
              "IPY_MODEL_fd241428de2049d7915f4cf154272b7e",
              "IPY_MODEL_b2414c8816144a7d8ed4f4968ce410e5"
            ]
          }
        },
        "913ad7960cae4682b79f763388c04012": {
          "model_module": "@jupyter-widgets/base",
          "model_name": "LayoutModel",
          "model_module_version": "1.2.0",
          "state": {
            "_view_name": "LayoutView",
            "grid_template_rows": null,
            "right": null,
            "justify_content": null,
            "_view_module": "@jupyter-widgets/base",
            "overflow": null,
            "_model_module_version": "1.2.0",
            "_view_count": null,
            "flex_flow": null,
            "width": null,
            "min_width": null,
            "border": null,
            "align_items": null,
            "bottom": null,
            "_model_module": "@jupyter-widgets/base",
            "top": null,
            "grid_column": null,
            "overflow_y": null,
            "overflow_x": null,
            "grid_auto_flow": null,
            "grid_area": null,
            "grid_template_columns": null,
            "flex": null,
            "_model_name": "LayoutModel",
            "justify_items": null,
            "grid_row": null,
            "max_height": null,
            "align_content": null,
            "visibility": null,
            "align_self": null,
            "height": null,
            "min_height": null,
            "padding": null,
            "grid_auto_rows": null,
            "grid_gap": null,
            "max_width": null,
            "order": null,
            "_view_module_version": "1.2.0",
            "grid_template_areas": null,
            "object_position": null,
            "object_fit": null,
            "grid_auto_columns": null,
            "margin": null,
            "display": null,
            "left": null
          }
        },
        "fd241428de2049d7915f4cf154272b7e": {
          "model_module": "@jupyter-widgets/controls",
          "model_name": "FloatProgressModel",
          "model_module_version": "1.5.0",
          "state": {
            "_view_name": "ProgressView",
            "style": "IPY_MODEL_bfb7ff24d11645ee8a5c63959eafeec1",
            "_dom_classes": [],
            "description": "100%",
            "_model_name": "FloatProgressModel",
            "bar_style": "success",
            "max": 57,
            "_view_module": "@jupyter-widgets/controls",
            "_model_module_version": "1.5.0",
            "value": 57,
            "_view_count": null,
            "_view_module_version": "1.5.0",
            "orientation": "horizontal",
            "min": 0,
            "description_tooltip": null,
            "_model_module": "@jupyter-widgets/controls",
            "layout": "IPY_MODEL_ae97efe95fc24bc0b45ae26c29df63ac"
          }
        },
        "b2414c8816144a7d8ed4f4968ce410e5": {
          "model_module": "@jupyter-widgets/controls",
          "model_name": "HTMLModel",
          "model_module_version": "1.5.0",
          "state": {
            "_view_name": "HTMLView",
            "style": "IPY_MODEL_b71d86ed7cc84709b5195240d569e66a",
            "_dom_classes": [],
            "description": "",
            "_model_name": "HTMLModel",
            "placeholder": "​",
            "_view_module": "@jupyter-widgets/controls",
            "_model_module_version": "1.5.0",
            "value": " 57/57 [00:01&lt;00:00, 29.17it/s]",
            "_view_count": null,
            "_view_module_version": "1.5.0",
            "description_tooltip": null,
            "_model_module": "@jupyter-widgets/controls",
            "layout": "IPY_MODEL_10790c782af349cbb364cd260fb03d88"
          }
        },
        "bfb7ff24d11645ee8a5c63959eafeec1": {
          "model_module": "@jupyter-widgets/controls",
          "model_name": "ProgressStyleModel",
          "model_module_version": "1.5.0",
          "state": {
            "_view_name": "StyleView",
            "_model_name": "ProgressStyleModel",
            "description_width": "initial",
            "_view_module": "@jupyter-widgets/base",
            "_model_module_version": "1.5.0",
            "_view_count": null,
            "_view_module_version": "1.2.0",
            "bar_color": null,
            "_model_module": "@jupyter-widgets/controls"
          }
        },
        "ae97efe95fc24bc0b45ae26c29df63ac": {
          "model_module": "@jupyter-widgets/base",
          "model_name": "LayoutModel",
          "model_module_version": "1.2.0",
          "state": {
            "_view_name": "LayoutView",
            "grid_template_rows": null,
            "right": null,
            "justify_content": null,
            "_view_module": "@jupyter-widgets/base",
            "overflow": null,
            "_model_module_version": "1.2.0",
            "_view_count": null,
            "flex_flow": null,
            "width": null,
            "min_width": null,
            "border": null,
            "align_items": null,
            "bottom": null,
            "_model_module": "@jupyter-widgets/base",
            "top": null,
            "grid_column": null,
            "overflow_y": null,
            "overflow_x": null,
            "grid_auto_flow": null,
            "grid_area": null,
            "grid_template_columns": null,
            "flex": null,
            "_model_name": "LayoutModel",
            "justify_items": null,
            "grid_row": null,
            "max_height": null,
            "align_content": null,
            "visibility": null,
            "align_self": null,
            "height": null,
            "min_height": null,
            "padding": null,
            "grid_auto_rows": null,
            "grid_gap": null,
            "max_width": null,
            "order": null,
            "_view_module_version": "1.2.0",
            "grid_template_areas": null,
            "object_position": null,
            "object_fit": null,
            "grid_auto_columns": null,
            "margin": null,
            "display": null,
            "left": null
          }
        },
        "b71d86ed7cc84709b5195240d569e66a": {
          "model_module": "@jupyter-widgets/controls",
          "model_name": "DescriptionStyleModel",
          "model_module_version": "1.5.0",
          "state": {
            "_view_name": "StyleView",
            "_model_name": "DescriptionStyleModel",
            "description_width": "",
            "_view_module": "@jupyter-widgets/base",
            "_model_module_version": "1.5.0",
            "_view_count": null,
            "_view_module_version": "1.2.0",
            "_model_module": "@jupyter-widgets/controls"
          }
        },
        "10790c782af349cbb364cd260fb03d88": {
          "model_module": "@jupyter-widgets/base",
          "model_name": "LayoutModel",
          "model_module_version": "1.2.0",
          "state": {
            "_view_name": "LayoutView",
            "grid_template_rows": null,
            "right": null,
            "justify_content": null,
            "_view_module": "@jupyter-widgets/base",
            "overflow": null,
            "_model_module_version": "1.2.0",
            "_view_count": null,
            "flex_flow": null,
            "width": null,
            "min_width": null,
            "border": null,
            "align_items": null,
            "bottom": null,
            "_model_module": "@jupyter-widgets/base",
            "top": null,
            "grid_column": null,
            "overflow_y": null,
            "overflow_x": null,
            "grid_auto_flow": null,
            "grid_area": null,
            "grid_template_columns": null,
            "flex": null,
            "_model_name": "LayoutModel",
            "justify_items": null,
            "grid_row": null,
            "max_height": null,
            "align_content": null,
            "visibility": null,
            "align_self": null,
            "height": null,
            "min_height": null,
            "padding": null,
            "grid_auto_rows": null,
            "grid_gap": null,
            "max_width": null,
            "order": null,
            "_view_module_version": "1.2.0",
            "grid_template_areas": null,
            "object_position": null,
            "object_fit": null,
            "grid_auto_columns": null,
            "margin": null,
            "display": null,
            "left": null
          }
        }
      }
    }
  },
  "cells": [
    {
      "cell_type": "markdown",
      "metadata": {
        "id": "view-in-github",
        "colab_type": "text"
      },
      "source": [
        "<a href=\"https://colab.research.google.com/github/claudio-bon/fact-checking-fever/blob/main/fact_checking_fever.ipynb\" target=\"_parent\"><img src=\"https://colab.research.google.com/assets/colab-badge.svg\" alt=\"Open In Colab\"/></a>"
      ]
    },
    {
      "cell_type": "markdown",
      "metadata": {
        "id": "3GM9DBN-Qz3k"
      },
      "source": [
        "# Assignment 4\n",
        "\n",
        "**Due to**: TBD\n",
        "\n",
        "**Credits**: Andrea Galassi, Federico Ruggeri, Paolo Torroni\n",
        "\n",
        "**Summary**: Fact checking, Neural Languange Inference (**NLI**)"
      ]
    },
    {
      "cell_type": "markdown",
      "metadata": {
        "id": "tO_-4CZeRCO7"
      },
      "source": [
        "# Intro\n",
        "\n",
        "This assignment is centred on a particular and emerging NLP task, formally known as **fact checking** (or fake checking). As AI techniques become more and more powerful, reaching amazing results, such as image and text generation, it is more than ever necessary to build tools able to distinguish what is real from what is fake.\n",
        "\n",
        "Here we focus on a small portion of the whole fact checking problem, which aims to determine whether a given statement (fact) conveys a trustworthy information or not. \n",
        "\n",
        "More precisely, given a set of evidences and a fact to verify, we would like our model to correctly predict whether the fact is true or fake.\n",
        "\n",
        "In particular, we will see:\n",
        "\n",
        "*   Dataset preparation (analysis and pre-processing)\n",
        "*   Problem formulation: multi-input binary classification\n",
        "*   Defining an evaluation method\n",
        "*   Simple sentence embedding\n",
        "*   Neural building blocks\n",
        "*   Neural architecture extension"
      ]
    },
    {
      "cell_type": "markdown",
      "metadata": {
        "id": "hGDwg78PS_uy"
      },
      "source": [
        "# The FEVER dataset\n",
        "\n",
        "First of all, we need to choose a dataset. In this assignment we will rely on the [FEVER dataset](https://fever.ai).\n",
        "\n",
        "The dataset is about facts taken from Wikipedia documents that have to be verified. In particular, facts could face manual modifications in order to define fake information or to give different formulations of the same concept.\n",
        "\n",
        "The dataset consists of 185,445 claims manually verified against the introductory sections of Wikipedia pages and classified as ```Supported```, ```Refuted``` or ```NotEnoughInfo```. For the first two classes, systems and annotators need to also return the combination of sentences forming the necessary evidence supporting or refuting the claim."
      ]
    },
    {
      "cell_type": "markdown",
      "metadata": {
        "id": "4Oa5FpVpT7p4"
      },
      "source": [
        "## Dataset structure\n",
        "\n",
        "Relevant data is divided into two file types. Information concerning the fact to verify, its verdict and associated supporting/opposing statements are stored in **.jsonl** format. In particular, each JSON element is a python dictionary with the following relevant fields:\n",
        "\n",
        "*    **ID**: ID associated to the fact to verify.\n",
        "\n",
        "*    **Verifiable**: whether the fact has been verified or not: ```VERIFIABLE``` or ```NOT VERIFIABLE```.\n",
        "    \n",
        "*    **Label**: the final verdict on the fact to verify: ```SUPPORTS```, ```REFUTES``` or ```NOT ENOUGH INFO```.\n",
        "    \n",
        "*    **Claim**: the fact to verify.\n",
        "    \n",
        "*    **Evidence**: a nested list of document IDs along with the sentence ID that is associated to the fact to verify. In particular, each list element is a tuple of four elements: the first two are internal annotator IDs that can be safely ignored; the third term is the document ID (called URL) and the last one is the sentence number (ID) in the pointed document to consider.\n",
        "\n",
        "**Some Examples**\n",
        "\n",
        "---\n",
        "\n",
        "**Verifiable**\n",
        "\n",
        "{\"id\": 202314, \"verifiable\": \"VERIFIABLE\", \"label\": \"REFUTES\", \"claim\": \"The New Jersey Turnpike has zero shoulders.\", \"evidence\": [[[238335, 240393, \"New_Jersey_Turnpike\", 15]]]}\n",
        "\n",
        "---\n",
        "\n",
        "**Not Verifiable**\n",
        "\n",
        "{\"id\": 113501, \"verifiable\": \"NOT VERIFIABLE\", \"label\": \"NOT ENOUGH INFO\", \"claim\": \"Grease had bad reviews.\", \"evidence\": [[[133128, null, null, null]]]}\n",
        "\n",
        "---"
      ]
    },
    {
      "cell_type": "markdown",
      "metadata": {
        "id": "nex_8UM4VWuY"
      },
      "source": [
        "## Some simplifications and pre-processing\n",
        "\n",
        "We are only interested in verifiable facts. Thus, we can filter out all non-verifiable claims.\n",
        "\n",
        "Additionally, the current dataset format does not contain all necessary information for our classification purposes. In particular, we need to download Wikipedia documents and replace reported evidence IDs with the corresponding text.\n",
        "\n",
        "Don't worry about that! We are providing you the already pre-processed dataset so that you can concentrate on the classification pipeline (pre-processing, model definition, evaluation and training).\n",
        "\n",
        "You can download the zip file containing all set splits (train, validation and test) of the FEVER dataset by clicking on this [link](https://drive.google.com/file/d/1wArZhF9_SHW17WKNGeLmX-QTYw9Zscl1/view?usp=sharing). Alternatively, run the below code cell to automatically download it on this notebook.\n",
        "\n",
        "**Note**: each dataset split is in .csv format. Feel free to inspect the whole dataset!"
      ]
    },
    {
      "cell_type": "markdown",
      "metadata": {
        "id": "RbH_8errW5MH"
      },
      "source": [
        "# Classification dataset\n",
        "\n",
        "At this point, you should have a reay-to-go dataset! Note that the dataset format changed as well! In particular, we split the evidence set associated to each claim, in order to build (claim, evidence) pairs. The classification label is propagated as well.\n",
        "\n",
        "We'll motivate this decision in the next section!\n",
        "\n",
        "Just for clarity, here's an example of the pre-processed dataset:\n",
        "\n",
        "---\n",
        "\n",
        "**Claim**: \"Wentworth Miller is yet to make his screenwriting debut.\"\n",
        "\n",
        "**Evidence**: \"2\tHe made his screenwriting debut with the 2013 thriller film Stoker .\tStoker\tStoker (film)\"\n",
        "\n",
        "**Label**: Refutes\n",
        "\n",
        "---\n",
        "\n",
        "**Note**: The dataset requires some text cleaning as you may notice!\n"
      ]
    },
    {
      "cell_type": "markdown",
      "metadata": {
        "id": "gH8hIK21Xrl0"
      },
      "source": [
        "# Problem formulation\n",
        "\n",
        "As mentioned at the beginning of the assignment, we are going to formulate the fact checking problem as a binary classification task.\n",
        "\n",
        "In particular, each dataset sample is comprised of:\n",
        "\n",
        "*     A claim to verify\n",
        "*     A set of semantically related statements (evidence set)\n",
        "*     Fact checking label: either evidences support or refute the claim.\n",
        "\n",
        "Handling the evidence set from the point of view of neural models may imply some additional complexity: if the evidence set is comprised of several sentences we might incur in memory problems.\n",
        "\n",
        "To this end, we further simplify the problem by building (claim, evidence) pairs. The fact checking label is propagated as well.\n",
        "\n",
        "Example:\n",
        "\n",
        "     Claim: c1 \n",
        "     Evidence set: [e1, e2, e3]\n",
        "     Label: S (support)\n",
        "\n",
        "--->\n",
        "\n",
        "    (c1, e1, S),\n",
        "    (c1, e2, S),\n",
        "    (c1, e3, S)"
      ]
    },
    {
      "cell_type": "markdown",
      "metadata": {
        "id": "E46flIz_zQy-"
      },
      "source": [
        "## Schema\n",
        "\n",
        "The overall binary classification problem is summed up by the following (simplified) schema\n",
        "\n",
        "![](https://drive.google.com/uc?export=view&id=1Wm_YBnFwgJtxcWEBpPbTBEVkpKaL08Jp)\n",
        "\n",
        "Don't worry too much about the **Encoding** block for now. We'll give you some simple guidelines about its definition. For the moment, stick to the binary classification task definition where, in this case, we have 2 inputs: the claim to verify and one of its associated evidences."
      ]
    },
    {
      "cell_type": "markdown",
      "metadata": {
        "id": "LsiTV-NVdgsF"
      },
      "source": [
        "# Architecture Guidelines\n",
        "\n",
        "There are many neural architectures that follow the above schema. To avoid phenomena like the writer's block, in this section we are going to give you some implementation guidelines.\n",
        "\n",
        "In particular, we would like you to test some implementations so that you explore basic approaches (neural baselines) and use them as building blocks for possible extensions."
      ]
    },
    {
      "cell_type": "markdown",
      "metadata": {
        "id": "ZJBQm47fe7iE"
      },
      "source": [
        "## Handling multiple inputs\n",
        "\n",
        "The first thing to notice is that we are in a multi-input scenario. In particular, each sample is comprised of a fact and its associated evidence statement.\n",
        "\n",
        "Each of these input is encoded as a sequence of tokens. In particular, we will have the following input matrices:\n",
        "\n",
        "*    Claim: [batch_size, max_tokens]\n",
        "*    Evidence: [batch_size, max_tokens]\n",
        "\n",
        "Moreover, after the embedding layer, we'll have:\n",
        "\n",
        "*    Claim: [batch_size, max_tokens, embedding_dim]\n",
        "*    Evidence: [batch_size, max_tokens, embedding_dim]\n",
        "\n",
        "But, we would like to have a 2D input to our classifier, since we have to give an answer at pair level. Therefore, for each sample, we would expect the following input shape to our classification block:\n",
        "\n",
        "*   Classification input shape: [batch_size, dim]\n",
        "\n",
        "**How to do that?**\n",
        "\n",
        "We inherently need to reduce the token sequence to a single representation. This operation is formally known as **sentence embedding**. Indeed, we are trying to compress the information of a whole sequence into a single embedding vector.\n",
        "\n",
        "Here are some simple solutions that we ask you to try out:\n",
        "\n",
        "*   Encode token sequences via a RNN and take the last state as the sentence embedding.\n",
        "\n",
        "*   Encode token sequences via a RNN and average all the output states.\n",
        "\n",
        "*   Encode token sequences via a simple MLP layer. In particular, if your input is a [batch_size, max_tokens, embedding_dim] tensor, the matrix multiplication works on the **max_tokens** dimension, resulting in a [batch_size, embedding_dim] 2D matrix.\n",
        "\n",
        "*   Compute the sentence embedding as the mean of its token embeddings (**bag of vectors**)."
      ]
    },
    {
      "cell_type": "markdown",
      "metadata": {
        "id": "Gypl5z5ElJo1"
      },
      "source": [
        "## Merging multi-inputs\n",
        "\n",
        "At this point, we have to think about **how** we should merge evidence and claim sentence embeddings.\n",
        "\n",
        "For simplicity, we stick to simple merging strategies:\n",
        "\n",
        "*     **Concatenation**: define the classification input as the concatenation of evidence and claim sentence embeddings\n",
        "\n",
        "*     **Sum**: define the classification input as the sum of evidence and claim sentence embeddings\n",
        "\n",
        "*     **Mean**: define the classification input as the mean of evidence and claim sentence embeddings\n",
        "\n",
        "For clarity, if we the sentence embedding of a single input has shape [batch_size, embedding_dim], then the classification input has shape:\n",
        "\n",
        "*     **Concatenation**: [batch_size, 2 * embedding_dim]\n",
        "\n",
        "*     **Sum**: [batch_size, embedding_dim]\n",
        "\n",
        "*     **Mean**: [batch_size, embedding_dim]"
      ]
    },
    {
      "cell_type": "markdown",
      "metadata": {
        "id": "IhVg9ZLymOUc"
      },
      "source": [
        "# A simple extension\n",
        "\n",
        "Lastly, we ask you to modify previously defined neural architectures by adding an additional feature to the classification input.\n",
        "\n",
        "We would like to see if some similarity information between the claim to verify and one of its associated evidence might be useful to the classification.\n",
        "\n",
        "Compute the cosine similarity metric between the two sentence embeddings and concatenate the result to the classification input.\n",
        "\n",
        "For clarity, since the cosine similarity of two vectors outputs a scalar value, the classification input shape is modified as follows:\n",
        "\n",
        "*     **Concatenation**: [batch_size, 2 * embedding_dim + 1]\n",
        "\n",
        "*     **Sum**: [batch_size, embedding_dim + 1]\n",
        "\n",
        "*     **Mean**: [batch_size, embedding_dim + 1]\n",
        "\n"
      ]
    },
    {
      "cell_type": "markdown",
      "metadata": {
        "id": "Nd74ULgpnJrc"
      },
      "source": [
        "# Performance evaluation\n",
        "\n",
        "Due to our simplifications, obtained results are not directly compatible with a traditional fact checking method that considers the evidence set as a whole.\n",
        "\n",
        "Thus, we need to consider two types of evaluations.\n",
        "\n",
        "**Multi-input classification evaluation**\n",
        "\n",
        "This type of evaluation is the easiest and concerns computing evaluation metrics, such as accuracy, f1-score, recall and precision, of our pre-processed dataset.\n",
        "\n",
        "In other words, we assess the performance of chosen classifiers.\n",
        "\n",
        "**Claim verification evaluation**\n",
        "\n",
        "However, if we want to give an answer concerning the claim itself, we need to consider the whole evidence set. \n",
        "\n",
        "Intuitively, for a given claim, we consider all its corresponding (claim, evidence) pairs and their corresponding classification outputs. \n",
        "\n",
        "At this point, all we need to do is to compute the final predicted claim label via majority voting.\n",
        "\n",
        "Example:\n",
        "\n",
        "    Claim: c1\n",
        "    Evidence set: e1, e2, e3\n",
        "    True label: S\n",
        "\n",
        "    Pair outputs:\n",
        "    (c1, e1) -> S (supports)\n",
        "    (c1, e2) -> S (supports)\n",
        "    (c1, e3) -> R (refutes)\n",
        "\n",
        "    Majority voting:\n",
        "    S -> 2 votes\n",
        "    R -> 1 vote\n",
        "\n",
        "    Final label:\n",
        "    c1 -> S\n",
        "\n",
        "Lastly, we have to compute classification metrics just like before."
      ]
    },
    {
      "cell_type": "markdown",
      "metadata": {
        "id": "W4LJ2yPxsUOV"
      },
      "source": [
        "# Tips and Extras"
      ]
    },
    {
      "cell_type": "markdown",
      "metadata": {
        "id": "Uf80UVRNrXve"
      },
      "source": [
        "## Extensions are welcome!\n",
        "\n",
        "Is this task too easy for you? Are you curious to try out things you have seen during lectures (e.g. attention)? Feel free to try everything you want!\n",
        "\n",
        "Don't forget to try neural baselines first!"
      ]
    },
    {
      "cell_type": "markdown",
      "metadata": {
        "id": "COXeCXdYsBEf"
      },
      "source": [
        "## Comments and documentation\n",
        "\n",
        "Remember to properly comment your code (it is not necessary to comment each single line) and don't forget to describe your work!"
      ]
    },
    {
      "cell_type": "markdown",
      "metadata": {
        "id": "Ejv6SDE8xc4_"
      },
      "source": [
        "## Organization\n",
        "\n",
        "We suggest you to divide your work into sections. This allows you to build clean and modular code, as well as easy to read and to debug.\n",
        "\n",
        "A possible schema:\n",
        "\n",
        "*   Dataset pre-processing\n",
        "*   Dataset conversion\n",
        "*   Model definition\n",
        "*   Training\n",
        "*   Evaluation\n",
        "*   Comments/Summary"
      ]
    },
    {
      "cell_type": "markdown",
      "metadata": {
        "id": "9DR70uh7pabo"
      },
      "source": [
        "# Contact\n",
        "\n",
        "For any doubt, question, issue or help, you can always contact us at the following email addresses:\n",
        "\n",
        "Teaching Assistants:\n",
        "\n",
        "* Andrea Galassi -> a.galassi@unibo.it\n",
        "* Federico Ruggeri -> federico.ruggeri6@unibo.it\n",
        "\n",
        "Professor:\n",
        "\n",
        "* Paolo Torroni -> p.torroni@unibo.it\n",
        "\n",
        "Don't forget that your feedback is very important! Your suggestions help us improving course material."
      ]
    },
    {
      "cell_type": "markdown",
      "metadata": {
        "id": "Jc0gNWU2pgKQ"
      },
      "source": [
        "# FAQ\n",
        "\n",
        "---\n",
        "\n",
        "**Q: Can I do something text pre-processing?**\n",
        "\n",
        "**A:** You have to! If you check text data, the majority of sentences need some cleaning.\n",
        "\n",
        "---\n",
        "\n",
        "**Q: I'm struggling with the implementation. Can you help me?**\n",
        "\n",
        "**A:** Yes sure! Write us an email about your issue. If you are looking for a particular type of operation, you can easily check the documentation of the deep learning framework you are using (google is your friend).\n",
        "\n",
        "---\n",
        "\n",
        "**Q: Can I try other encoding strategies or neural architectures?**\n",
        "\n",
        "**A:** Absolutely! Remember to try out recommended neural baselines first and only then proceed with your extensions.\n",
        "\n",
        "---"
      ]
    },
    {
      "cell_type": "markdown",
      "metadata": {
        "id": "MT1-aJ4YbhKs"
      },
      "source": [
        "# Initial Imports"
      ]
    },
    {
      "cell_type": "code",
      "metadata": {
        "colab": {
          "base_uri": "https://localhost:8080/"
        },
        "id": "vgwHLfIbhSfD",
        "outputId": "a41bfa6e-67cf-4301-ee9a-615419d03a4e"
      },
      "source": [
        "# Ignore warnings\n",
        "import warnings\n",
        "warnings.simplefilter(action='ignore', category=FutureWarning)\n",
        "\n",
        "# system packages\n",
        "import os\n",
        "import shutil\n",
        "import sys\n",
        "import time\n",
        "import random\n",
        "import gc\n",
        "\n",
        "# data and numerical management packages\n",
        "import pandas as pd\n",
        "import numpy as np\n",
        "import torch\n",
        "import math\n",
        "\n",
        "# data for preprocessing\n",
        "import re\n",
        "from functools import reduce\n",
        "! pip install joblib\n",
        "import spacy\n",
        "from spacy.lang.en.stop_words import STOP_WORDS\n",
        "from wordcloud import WordCloud, ImageColorGenerator\n",
        "import nltk\n",
        "nltk.download('stopwords')\n",
        "nltk.download('punkt')\n",
        "nltk.download('wordnet')\n",
        "from nltk.corpus import stopwords\n",
        "from nltk.tokenize import word_tokenize \n",
        "from nltk.stem.snowball import SnowballStemmer\n",
        "from nltk.stem import PorterStemmer \n",
        "from nltk.stem import LancasterStemmer\n",
        "from nltk.stem import WordNetLemmatizer\n",
        "import json\n",
        "! pip install pytorch-nlp\n",
        "from torchnlp.word_to_vector import FastText  # doctest: +SKIP\n",
        "\n",
        "# plotting-displaying packages\n",
        "from matplotlib import pyplot as plt\n",
        "import seaborn as sns\n",
        "%matplotlib inline\n",
        "from IPython.display import display\n",
        "import matplotlib.pyplot as plt\n",
        "\n",
        "# debugging packages (progress bars)\n",
        "from tqdm.notebook import tqdm\n",
        "\n",
        "\n",
        "\n",
        "random_seed = 42\n",
        "\n",
        "random.seed(random_seed)\n",
        "np.random.seed(random_seed)\n",
        "torch.manual_seed(random_seed)\n",
        "torch.backends.cudnn.deterministic = True\n",
        "\n",
        "\n",
        "if torch.cuda.is_available():\n",
        "    print('Used device: GPU')\n",
        "    device = torch.device(\"cuda\")\n",
        "else:\n",
        "    print('Used device: CPU')\n",
        "    device = torch.device(\"cpu\")"
      ],
      "execution_count": null,
      "outputs": [
        {
          "output_type": "stream",
          "text": [
            "Requirement already satisfied: joblib in /usr/local/lib/python3.6/dist-packages (1.0.0)\n",
            "[nltk_data] Downloading package stopwords to /root/nltk_data...\n",
            "[nltk_data]   Unzipping corpora/stopwords.zip.\n",
            "[nltk_data] Downloading package punkt to /root/nltk_data...\n",
            "[nltk_data]   Unzipping tokenizers/punkt.zip.\n",
            "[nltk_data] Downloading package wordnet to /root/nltk_data...\n",
            "[nltk_data]   Unzipping corpora/wordnet.zip.\n",
            "Collecting pytorch-nlp\n",
            "\u001b[?25l  Downloading https://files.pythonhosted.org/packages/4f/51/f0ee1efb75f7cc2e3065c5da1363d6be2eec79691b2821594f3f2329528c/pytorch_nlp-0.5.0-py3-none-any.whl (90kB)\n",
            "\u001b[K     |████████████████████████████████| 92kB 7.8MB/s \n",
            "\u001b[?25hRequirement already satisfied: tqdm in /usr/local/lib/python3.6/dist-packages (from pytorch-nlp) (4.41.1)\n",
            "Requirement already satisfied: numpy in /usr/local/lib/python3.6/dist-packages (from pytorch-nlp) (1.19.4)\n",
            "Installing collected packages: pytorch-nlp\n",
            "Successfully installed pytorch-nlp-0.5.0\n",
            "Used device: GPU\n"
          ],
          "name": "stdout"
        }
      ]
    },
    {
      "cell_type": "markdown",
      "metadata": {
        "id": "gNvVvFbQufrk"
      },
      "source": [
        "# Data Loading"
      ]
    },
    {
      "cell_type": "markdown",
      "metadata": {
        "id": "KvVn1TonbtP7"
      },
      "source": [
        "### Dataset Downloading"
      ]
    },
    {
      "cell_type": "code",
      "metadata": {
        "id": "BspxZcRjW0NG",
        "colab": {
          "base_uri": "https://localhost:8080/"
        },
        "outputId": "50b7a325-2c7d-481f-ad3d-a83edd08cf32"
      },
      "source": [
        "import os\n",
        "import requests\n",
        "import zipfile\n",
        "\n",
        "def save_response_content(response, destination):\n",
        "    CHUNK_SIZE = 32768\n",
        "\n",
        "    with open(destination, \"wb\") as f:\n",
        "        for chunk in response.iter_content(CHUNK_SIZE):\n",
        "            if chunk: # filter out keep-alive new chunks\n",
        "                f.write(chunk)\n",
        "\n",
        "def download_data(data_path):\n",
        "    toy_data_path = os.path.join(data_path, 'fever_data.zip')\n",
        "    toy_data_url_id = \"1wArZhF9_SHW17WKNGeLmX-QTYw9Zscl1\"\n",
        "    toy_url = \"https://docs.google.com/uc?export=download\"\n",
        "\n",
        "    if not os.path.exists(data_path):\n",
        "        os.makedirs(data_path)\n",
        "\n",
        "    if not os.path.exists(toy_data_path):\n",
        "        print(\"Downloading FEVER data splits...\")\n",
        "        with requests.Session() as current_session:\n",
        "            response = current_session.get(toy_url,\n",
        "                                   params={'id': toy_data_url_id},\n",
        "                                   stream=True)\n",
        "        save_response_content(response, toy_data_path)\n",
        "        print(\"Download completed!\")\n",
        "\n",
        "        print(\"Extracting dataset...\")\n",
        "        with zipfile.ZipFile(toy_data_path) as loaded_zip:\n",
        "            loaded_zip.extractall(data_path)\n",
        "        print(\"Extraction completed!\")\n",
        "\n",
        "download_data('dataset')"
      ],
      "execution_count": null,
      "outputs": [
        {
          "output_type": "stream",
          "text": [
            "Downloading FEVER data splits...\n",
            "Download completed!\n",
            "Extracting dataset...\n",
            "Extraction completed!\n"
          ],
          "name": "stdout"
        }
      ]
    },
    {
      "cell_type": "markdown",
      "metadata": {
        "id": "TMdbRZ-Jb2rT"
      },
      "source": [
        "### DataFrame Creation"
      ]
    },
    {
      "cell_type": "markdown",
      "metadata": {
        "id": "Z74gGxTlbl9c"
      },
      "source": [
        "# Dataset Preprocessing"
      ]
    },
    {
      "cell_type": "code",
      "metadata": {
        "colab": {
          "base_uri": "https://localhost:8080/",
          "height": 205,
          "referenced_widgets": [
            "2055e25ad59e4d3489443b730793cc2f",
            "2fa10b89c72249b98085a9b8038e8a15",
            "6bd604fefa6741a1a82c20689734c585",
            "3af5b0e4e806427ea943ccd5c8396c76",
            "dafd9bb1f01941d7860b80a3c1927d53",
            "fa568710d3a7463aa7a1d4779c484622",
            "b0a1cefe01714277a3a95cb158fb5e21",
            "7c22764a007249e59fa6cc20fb900a3a",
            "17f758d619584c0282401db91bf27ea6",
            "756e2b55ba1642439b73d3d5571c5788",
            "c63733f0ec6045aebc9ecbd71a7b321b",
            "47e597621a8c4c579e3c779257623f4c",
            "9a73d073df454044bc316d9a1f3426b6",
            "cc9637567cbb46ca9adfc91f54f7d749",
            "7d8497410c584fc3b3db5a756e776196",
            "c4c9b72735a34819aebfb8803252713b",
            "b1cd0115e2754be78d5041e6dfeca8c9",
            "6ec37e04e7b6491ba9a66aafa1b8f618",
            "0628448f280d4a4fa4d45c3dc8271542",
            "c20672a764a242dc9792f3b7c9bf04f0",
            "1d6e5a3ea6b7494e8b4d797f30212352",
            "9689bd533b064155a2701f915015ca53",
            "0457dbbfb5aa491e9be104992a73157a",
            "909127969be4494098a9efec83f2c0f4"
          ]
        },
        "id": "FYz2k4pdj1Ua",
        "outputId": "97be6052-3252-4575-d39f-81dc3f292a92"
      },
      "source": [
        "def create_df(dataset_name):\n",
        "    dataframe_rows = []\n",
        "    file_path = os.path.join(os.getcwd(), \"dataset\", dataset_name)\n",
        "    try:\n",
        "        if os.path.isfile(file_path):\n",
        "            # open the file\n",
        "            with open(file_path, mode='r', encoding='utf-8') as text_file:\n",
        "                lines = text_file.readlines()   \n",
        "                # Starting from the 2nd line to exclude\n",
        "                for line in tqdm(lines[1: len(lines)]): \n",
        "                  # Excluding empty lines\n",
        "                  if len(line.strip()) > 0:\n",
        "                    line = re.sub('\"', '', line)\n",
        "                    # Replacing the possible starts of the evidence with an special identifier\n",
        "                    if re.findall('[?],[0-9]+', line):\n",
        "                      line = re.sub('[?],[0-9]+', '_SEVID_', line,1)\n",
        "                    if not re.findall('_SEVID_', line) and re.findall('[.],[0-9]+', line):\n",
        "                      line = re.sub('[.],[0-9]+', '_SEVID_', line,1)\n",
        "                    if not re.findall('_SEVID_', line) and re.findall(',[0-9]+', line):\n",
        "                      line = re.sub(',[0-9]+', '_SEVID_', line,1)\n",
        "                    id =  line.split(\",\")[0]\n",
        "                    #claim = line.split(\",\")[1].split('_SEVID_')[0]\n",
        "                    #if (len(re.findall('_SEVID_', line))) > 1:\n",
        "                    claim = line.split('_SEVID_')[0].split(\",\",maxsplit=1)[-1]\n",
        "                    evidence = line.split('_SEVID_')[-1]\n",
        "                    # Most of evidences have repeated information after the last point\n",
        "                    repeated_info = evidence.split(\".\")[-1]\n",
        "                    if evidence != repeated_info: evidence = evidence.replace(repeated_info, \"\") \n",
        "                    id_claim = line.split(\",\")[-2] \n",
        "                    label = line.split(\",\")[-1].split(\"\\n\")[0]\n",
        "                    evidence = evidence.replace(label, \"\") \n",
        "                    evidence = evidence.replace(id_claim, \"\") \n",
        "                    # create single dataframe row\n",
        "                    dataframe_row = {\n",
        "                        \"id\": id,\n",
        "                        \"claim\": claim,\n",
        "                        \"evidence\": evidence,\n",
        "                        \"id_claim\": id_claim,\n",
        "                        \"label\": label\n",
        "                    }\n",
        "                    dataframe_rows.append(dataframe_row)\n",
        "\n",
        "    except Exception as e:\n",
        "        print('Failed to process %s. Reason: %s' % (file_path, e))\n",
        "        sys.exit(0)\n",
        "\n",
        "    folder = os.path.join(os.getcwd(), \"dataset\", \"Dataframes\", dataset_name)\n",
        "    if not os.path.exists(folder):\n",
        "        os.makedirs(folder)\n",
        "\n",
        "    # transform the list of rows in a proper dataframe\n",
        "    df = pd.DataFrame(dataframe_rows)\n",
        "    df = df[[\"id\",\n",
        "            \"claim\",\n",
        "            \"evidence\",\n",
        "            \"id_claim\",\n",
        "            \"label\"]]\n",
        "    dataframe_path = os.path.join(folder, dataset_name + \".pkl\")\n",
        "    df.to_pickle(dataframe_path)\n",
        "    return df\n",
        "\n",
        "# Creating dataframes\n",
        "print(\"Creating dataframe...\")\n",
        "df_train = create_df('train_pairs.csv')\n",
        "df_val = create_df('val_pairs.csv')\n",
        "df_test = create_df('test_pairs.csv')\n",
        "# small datasets for faster applications\n",
        "df_train_10perc = df_train[0: round(0.10* len(df_train))]\n",
        "df_val_10perc = df_val[0: round(0.10* len(df_val))]\n",
        "df_test_10perc = df_test[0: round(0.10* len(df_test))]\n",
        "print(\"Dataframe completed!\")\n",
        "\n",
        "# Saving the evidence and claim corpus before any modification with preprocessing\n",
        "corpus_evidence_bfp = df_train['evidence'].str.lower().str.split()\n",
        "corpus_claim_bfp = df_train['claim'].str.lower().str.split()"
      ],
      "execution_count": null,
      "outputs": [
        {
          "output_type": "stream",
          "text": [
            "Creating dataframe...\n"
          ],
          "name": "stdout"
        },
        {
          "output_type": "display_data",
          "data": {
            "application/vnd.jupyter.widget-view+json": {
              "model_id": "2055e25ad59e4d3489443b730793cc2f",
              "version_minor": 0,
              "version_major": 2
            },
            "text/plain": [
              "HBox(children=(FloatProgress(value=0.0, max=121740.0), HTML(value='')))"
            ]
          },
          "metadata": {
            "tags": []
          }
        },
        {
          "output_type": "stream",
          "text": [
            "\n"
          ],
          "name": "stdout"
        },
        {
          "output_type": "display_data",
          "data": {
            "application/vnd.jupyter.widget-view+json": {
              "model_id": "17f758d619584c0282401db91bf27ea6",
              "version_minor": 0,
              "version_major": 2
            },
            "text/plain": [
              "HBox(children=(FloatProgress(value=0.0, max=7165.0), HTML(value='')))"
            ]
          },
          "metadata": {
            "tags": []
          }
        },
        {
          "output_type": "stream",
          "text": [
            "\n"
          ],
          "name": "stdout"
        },
        {
          "output_type": "display_data",
          "data": {
            "application/vnd.jupyter.widget-view+json": {
              "model_id": "b1cd0115e2754be78d5041e6dfeca8c9",
              "version_minor": 0,
              "version_major": 2
            },
            "text/plain": [
              "HBox(children=(FloatProgress(value=0.0, max=7189.0), HTML(value='')))"
            ]
          },
          "metadata": {
            "tags": []
          }
        },
        {
          "output_type": "stream",
          "text": [
            "\n",
            "Dataframe completed!\n"
          ],
          "name": "stdout"
        }
      ]
    },
    {
      "cell_type": "code",
      "metadata": {
        "colab": {
          "base_uri": "https://localhost:8080/"
        },
        "id": "nuWT5vKjuwhS",
        "outputId": "b109e546-78fc-482b-9ec7-95b93364c3a8"
      },
      "source": [
        "'''\n",
        "Checking the correctness of the data\n",
        "Some claim and evidences in the train were noisy, very hard to detect in the process of df creation\n",
        "For that reason, we found the samples with problems and according to the number resulting\n",
        "we decide to delete or apply more preprocessing techniques only to those.\n",
        "\n",
        "Note: As we found only 33 samples in the train df with problems, we decided to delete them\n",
        "Test and validation were checked only for  purpose of information\n",
        "'''\n",
        "\n",
        "train_Iderror = []\n",
        "val_Iderror = []\n",
        "test_Iderror = []\n",
        "\n",
        "for id, data in df_train.iterrows():\n",
        "  if len(data['evidence']) <= 1 or re.findall('_SEVID_', data['evidence']) \\\n",
        "      or len(data['claim']) <= 1 or re.findall('_SEVID_', data['claim']) \\\n",
        "      or len(data['id']) == 0 or re.findall('_SEVID_', data['id']) \\\n",
        "      or len(data['id_claim']) == 0 or re.findall('_SEVID_', data['id_claim']) \\\n",
        "      or len(data['label']) == 0 or re.findall('_SEVID_', data['label']):\n",
        "    train_Iderror.append(id) \n",
        "\n",
        "for id, data in df_val.iterrows():\n",
        "  if len(data['evidence']) <= 1 or re.findall('_SEVID_', data['evidence']) \\\n",
        "      or len(data['claim']) <= 1 or re.findall('_SEVID_', data['claim']) \\\n",
        "      or len(data['id']) == 0 or re.findall('_SEVID_', data['id']) \\\n",
        "      or len(data['id_claim']) == 0 or re.findall('_SEVID_', data['id_claim']) \\\n",
        "      or len(data['label']) == 0 or re.findall('_SEVID_', data['label']):\n",
        "    val_Iderror.append(id) \n",
        "\n",
        "for id, data in df_test.iterrows():\n",
        "  if len(data['evidence']) <= 1 or re.findall('_SEVID_', data['evidence']) \\\n",
        "      or len(data['claim']) <= 1 or re.findall('_SEVID_', data['claim']) \\\n",
        "      or len(data['id']) == 0 or re.findall('_SEVID_', data['id']) \\\n",
        "      or len(data['id_claim']) == 0 or re.findall('_SEVID_', data['id_claim']) \\\n",
        "      or len(data['label']) == 0 or re.findall('_SEVID_', data['label']):\n",
        "    test_Iderror.append(id) \n",
        "\n",
        "print(\"Were found {} errors in the data train\".format(len(train_Iderror))) \n",
        "print(\"Were found {} errors in the data val\".format(len(val_Iderror))) \n",
        "print(\"Were found {} errors in the data test\".format(len(test_Iderror))) \n",
        "\n",
        "# list of indexes without errors\n",
        "l_idx = [i for i in df_train.index if int(i) not in train_Iderror ]\n",
        "\n",
        "# Creating a view without the samples with error\n",
        "df_train = df_train.loc[l_idx]\n",
        "# Re indexing the dataframe\n",
        "df_train = df_train.reset_index(drop=True)\n",
        "#df_train = df_train.drop(train_Iderror)\n",
        "\n",
        "print(\"{} rows were dropped out from the train df\".format(len(train_Iderror)))\n",
        "# Saving the evidence and claim corpus before any modification with preprocessing\n",
        "corpus_evidence_bfp = df_train['evidence'].str.lower().str.split()\n",
        "corpus_claim_bfp = df_train['claim'].str.lower().str.split()"
      ],
      "execution_count": null,
      "outputs": [
        {
          "output_type": "stream",
          "text": [
            "Were found 33 errors in the data train\n",
            "Were found 0 errors in the data val\n",
            "Were found 0 errors in the data test\n",
            "33 rows were dropped out from the train df\n"
          ],
          "name": "stdout"
        }
      ]
    },
    {
      "cell_type": "markdown",
      "metadata": {
        "id": "vzyDcEOob6uM"
      },
      "source": [
        "### Definition of the pipeline"
      ]
    },
    {
      "cell_type": "code",
      "metadata": {
        "colab": {
          "base_uri": "https://localhost:8080/"
        },
        "id": "qDkL-ZQAb9Uj",
        "outputId": "1a8334b5-d4aa-4b96-f7dc-7a4d636d86c7"
      },
      "source": [
        "# Settings for the preprocessing\n",
        "# Some functions were inspired on [1]\n",
        "\n",
        "SPLIT = re.compile(r'\\w+')\n",
        "DATA_BW_PARENTHESES = re.compile('\\[.*?\\]')\n",
        "GOOD_SYMBOLS_RE = re.compile('[^0-9a-z +]')\n",
        "CONVERT_PARENTHESES = [\n",
        "                (re.compile(r\"-LRB-\"), \"(\"),\n",
        "                (re.compile(r\"-RRB-\"), \")\"),\n",
        "                (re.compile(r\"-LSB-\"), \"[\"),\n",
        "                (re.compile(r\"-RSB-\"), \"]\"),\n",
        "                (re.compile(r\"-LCB-\"), \"{\"),\n",
        "                (re.compile(r\"-RCB-\"), \"}\"),\n",
        "            ]\n",
        "try:\n",
        "    STOPWORDS = set(stopwords.words('english'))\n",
        "except LookupError:\n",
        "    nltk.download('stopwords')\n",
        "    STOPWORDS = set(stopwords.words('english'))\n",
        "\n",
        "def download_file(data_path, filename, url):\n",
        "    '''\n",
        "    Function to download a file and save it in memory\n",
        "    '''\n",
        "    data_path_file = os.path.join(data_path, filename)\n",
        "    if not os.path.exists(data_path):\n",
        "        os.makedirs(data_path)\n",
        "    if not os.path.exists(data_path_file):\n",
        "        print(\"Downloading data ...\")\n",
        "        with requests.Session() as current_session:\n",
        "            response = current_session.get(url, stream=True)\n",
        "        save_response_content(response, data_path_file)\n",
        "        print(\"Download completed!\")\n",
        "\n",
        "# Downloading the file of enlish contractions useful for normalizing the data\n",
        "url_contractions = 'https://gist.githubusercontent.com/Sirsirious/c70400176a4532899a483e06d72cf99e/raw/e46fa7620c4f378f5bf39608b45cddad7ff447a4/english_contractions.json'\n",
        "download_file('resources', 'english_contractions.json', url_contractions)\n",
        "\n",
        "\n",
        "#######################################################################################\n",
        "#                       Some functions for preprocessing\n",
        "#######################################################################################\n",
        "\n",
        "def lower(text):\n",
        "    \"\"\"\n",
        "    Transforms given text to lower case.\n",
        "    Example:\n",
        "    Input: 'Many victims were said to have been killed in USA'\n",
        "    Output: 'many victims were said to have been killed in usa'\n",
        "    \"\"\"\n",
        "    return text.lower()\n",
        "\n",
        "\n",
        "def convert_parentheses(text):\n",
        "  '''\n",
        "  Transform the sepcial characters LRB, RRB, LSB, RSB, LCB, RCB into their\n",
        "  respective parentheses, Check the Regexp\n",
        "  Example: \n",
        "  Input: 'Roald Dahl -LRB- -LSB'\n",
        "  Output: 'Roald Dahl ()'\n",
        "  '''\n",
        "  for regexp, substitution in CONVERT_PARENTHESES:\n",
        "      text = regexp.sub(substitution, text)\n",
        "  return text\n",
        "\n",
        "\n",
        "def remove_data_parentheses(text):\n",
        "  '''\n",
        "  Reeplace with spaces all characters between square brackets.\n",
        "  Most of the data between sqaure brackets are non useful information, containing\n",
        "  most of time the pronounciation of words \n",
        "  '''\n",
        "  return DATA_BW_PARENTHESES.sub('', text)\n",
        "\n",
        "\n",
        "def normalize_contractions(text):\n",
        "    \"\"\"\n",
        "    Function normalize_contractions\n",
        "    This function normalizes english contractions based on a predefined file of contractions\n",
        "    \"\"\"\n",
        "    new_token_list = []\n",
        "    contractions = json.loads(open('resources/english_contractions.json', 'r').read())\n",
        "\n",
        "    token_list = text.split()\n",
        "    for word_pos in range(len(token_list)):\n",
        "        word = token_list[word_pos]\n",
        "        first_upper = False\n",
        "        if word[0].isupper():\n",
        "            first_upper = True\n",
        "        if word.lower() in contractions:\n",
        "            replacement = contractions[word.lower()]\n",
        "            if first_upper:\n",
        "                replacement = replacement[0].upper()+replacement[1:]\n",
        "            replacement_tokens = replacement.split()\n",
        "            if len(replacement_tokens)>1:\n",
        "                new_token_list.append(replacement_tokens[0])\n",
        "                new_token_list.append(replacement_tokens[1])\n",
        "            else:\n",
        "                new_token_list.append(replacement_tokens[0])\n",
        "        else:\n",
        "            new_token_list.append(word)\n",
        "    sentence = \" \".join(new_token_list).strip(\" \")\n",
        "   \n",
        "    # Removing special contractions don't matched above\n",
        "    # Ex:  \"Mother's name\" -> \"Mother name\"\n",
        "    sentence=  re.sub(r\"(\\w+)'[a-z]+\", r'\\1',sentence)\n",
        "    sentence = re.sub(r\"'[a-z]+\", '',sentence)\n",
        "    \n",
        "    return sentence\n",
        "\n",
        "def filter_out_uncommon_symbols(text):\n",
        "    \"\"\"\n",
        "    Removes any special character that is not in the\n",
        "    good symbols list (check regular expression)\n",
        "    \"\"\"\n",
        "    # First let's split some words that appear without space to a \". , ;\" \n",
        "    text = re.sub(\"(?<=[.,;])(?=[^\\s])\",' ', text)\n",
        "    # and then we delete the punctuation \n",
        "    return GOOD_SYMBOLS_RE.sub('', text)\n",
        "\n",
        "def remove_punct(text):\n",
        "    return (\"\".join([ch for ch in text if ch not in string.punctuation]))\n",
        "\n",
        "def remove_hyphens(text):\n",
        "    '''\n",
        "    The main idea is to split the hyphen compounded words \n",
        "    '''\n",
        "    return re.sub('-', ' ', text)\n",
        "\n",
        "def remove_numbers(text):\n",
        "    return re.sub(r'[0-9]+', ' ', text)\n",
        "\n",
        "def normalize_whitespace(text):\n",
        "    \"\"\"\n",
        "    Removes duplicates whitespaces.\n",
        "    \"\"\"\n",
        "    normalized_text = str(text)\n",
        "    normalized_text = re.sub(r\"//t\",r\"\\t\", normalized_text)\n",
        "    normalized_text = re.sub(r\"( )\\1+\",r\"\\1\", normalized_text)\n",
        "    normalized_text = re.sub(r\"(\\n)\\1+\",r\"\\1\", normalized_text)\n",
        "    normalized_text = re.sub(r\"(\\r)\\1+\",r\"\\1\", normalized_text)\n",
        "    normalized_text = re.sub(r\"(\\t)\\1+\",r\"\\1\", normalized_text)\n",
        "    return normalized_text.strip(\" \")\n",
        "\n",
        "\n",
        "def remove_stopwords(text, method = 'spacy'):\n",
        "    if method == 'spacy': \n",
        "      l_stopword = STOP_WORDS\n",
        "    else: \n",
        "      l_stopword = STOPWORDS\n",
        "    return ' '.join([x for x in text.split() if x and x not in l_stopword])\n",
        "\n",
        "def strip_text(text):\n",
        "    \"\"\"\n",
        "    Removes any left or right spacing (including carriage return) from text.\n",
        "    Example:\n",
        "    Input: '  Hemsworth has also appeared in the science fiction.\\n'\n",
        "    Output: 'Hemsworth has also appeared in the science fiction.'\n",
        "    \"\"\"\n",
        "    return text.strip()\n",
        "\n",
        "\n",
        "def stemming(text, stemmer= 'porter'):\n",
        "  '''\n",
        "  Stemming the text with the stemmer received as parameter\n",
        "  By default Porter stemmer is used\n",
        "  '''\n",
        "  if stemmer not in ['porter','lancaster','snowball']:\n",
        "    raise ValueError('The Stemmer is not valid')\n",
        "  if stemmer == 'porter':\n",
        "    st = PorterStemmer() \n",
        "  if stemmer == 'lancaster':  \n",
        "    st = LancasterStemmer()\n",
        "  if stemmer == 'snowball':\n",
        "    st = SnowballStemmer(\"english\")\n",
        "\n",
        "  return [st.stem(w) for w in text]\n",
        "  \n",
        "\n",
        "########################################################\n",
        "#       PARALLEL TOKENIZATION + LEMMATIZATION SPACY\n",
        "########################################################\n",
        "\n",
        "from joblib import Parallel, delayed\n",
        "\n",
        "nlp = spacy.load('en')\n",
        "\n",
        "def lemmatize_pipe(doc):\n",
        "  '''\n",
        "  Input:\n",
        "  - text: not tokenized\n",
        "  '''\n",
        "  # returns tokens already lemmatized with spicy\n",
        "  lemma_list = [str(tok.lemma_).lower() for tok in doc] \n",
        "                # if tok.is_alpha and tok.text.lower() not in stopwords] \n",
        "  return lemma_list\n",
        "\n",
        "def chunker(iterable, total_length, chunksize):\n",
        "    return (iterable[pos: pos + chunksize] for pos in range(0, total_length, chunksize))\n",
        "\n",
        "def flatten(list_of_lists):\n",
        "    \"Flatten a list of lists to a combined list\"\n",
        "    return [item for sublist in list_of_lists for item in sublist]\n",
        "\n",
        "def process_chunk(texts):\n",
        "    preproc_pipe = []\n",
        "    for doc in nlp.pipe(texts, batch_size=20):\n",
        "        preproc_pipe.append(lemmatize_pipe(doc))\n",
        "    return preproc_pipe\n",
        "\n",
        "def lemmatization_parallel_spacy(texts, chunksize=100):\n",
        "    executor = Parallel(n_jobs=7, backend='multiprocessing', prefer=\"processes\")\n",
        "    do = delayed(process_chunk)\n",
        "    tasks = (do(chunk) for chunk in chunker(texts, len(df_train), chunksize=chunksize))\n",
        "    result = executor(tasks)\n",
        "    return flatten(result)\n",
        "\n",
        "# End of Spacy tokenization + lemmatization\n",
        "\n",
        "def tokenize(text):\n",
        "  '''\n",
        "  Tokenize the text using nltk word_tokenize\n",
        "  '''\n",
        "  return word_tokenize(text)\n",
        "\n",
        "def lemmatization_nltk(text):\n",
        "  '''\n",
        "  lemmatization_nltk tokenization applies nltk wordnerlemmatizer\n",
        "  Input:\n",
        "  - text: already tokenized\n",
        "  '''\n",
        "  wl = WordNetLemmatizer() \n",
        "  return [wl.lemmatize(w) for w in text]\n",
        "\n",
        "\n",
        "################################################################\n",
        "#   SPELL CORRECTION\n",
        "################################################################\n",
        "\n",
        "\n",
        "import string  \n",
        "!pip install symspellpy\n",
        "from symspellpy.symspellpy import SymSpell, Verbosity\n",
        "import pkg_resources\n",
        "\n",
        "\n",
        "max_edit_distance_dictionary= 3\n",
        "prefix_length = 4\n",
        "spellchecker = SymSpell(max_edit_distance_dictionary, prefix_length)\n",
        "dictionary_path = pkg_resources.resource_filename(\n",
        "    \"symspellpy\", \"frequency_dictionary_en_82_765.txt\")\n",
        "bigram_path = pkg_resources.resource_filename(\n",
        "    \"symspellpy\", \"frequency_bigramdictionary_en_243_342.txt\")\n",
        "spellchecker.load_dictionary(dictionary_path, term_index=0, count_index=1)\n",
        "spellchecker.load_bigram_dictionary(dictionary_path, term_index=0, count_index=2)\n",
        "\n",
        "\n",
        "def is_numeric(text):\n",
        "    for char in text:\n",
        "        if not (char in \"0123456789\" or char in \",%.$\"):\n",
        "            return False\n",
        "    return True\n",
        "\n",
        "def _reduce_exaggerations(text):\n",
        "    \"\"\"\n",
        "    Auxiliary function to help with exxagerated words.\n",
        "    Examples:\n",
        "        woooooords -> words\n",
        "        yaaaaaaaaaaaaaaay -> yay\n",
        "    \"\"\"\n",
        "    correction = str(text)\n",
        "    #TODO work on complexity reduction.\n",
        "    return re.sub(r'([\\w])\\1+', r'\\1', correction)\n",
        "\n",
        "\n",
        "def spell_correction_text(text, spellchecker= spellchecker):\n",
        "    \"\"\"\n",
        "    This function does very simple spell correction normalization using pyspellchecker module. It works over a tokenized sentence and only the token representations are changed.\n",
        "    \"\"\"\n",
        "\n",
        "    count = 0\n",
        "    if len(text) < 1:\n",
        "        return \"\"\n",
        "    #Spell checker config\n",
        "    max_edit_distance_lookup = 2\n",
        "    suggestion_verbosity = Verbosity.TOP # TOP, CLOSEST, ALL\n",
        "    #End of Spell checker config\n",
        "    token_list = text.split()\n",
        "    for word_pos in range(len(token_list)):\n",
        "        word = token_list[word_pos]\n",
        "        if word is None:\n",
        "            token_list[word_pos] = \"\"\n",
        "            continue\n",
        "        if not '\\n' in word and word not in string.punctuation and not is_numeric(word) and not (word.lower() in spellchecker.words.keys()):\n",
        "            suggestions = spellchecker.lookup(word.lower(), suggestion_verbosity, max_edit_distance_lookup)\n",
        "            #Checks first uppercase to conserve the case.\n",
        "            upperfirst = word[0].isupper()\n",
        "            #Checks for correction suggestions.\n",
        "            if len(suggestions) > 0:\n",
        "                correction = suggestions[0].term\n",
        "                replacement = correction\n",
        "            #We call our _reduce_exaggerations function if no suggestion is found. Maybe there are repeated chars.\n",
        "            else:\n",
        "                replacement = _reduce_exaggerations(word)\n",
        "            #Takes the case back to the word.\n",
        "            if upperfirst:\n",
        "                replacement = replacement[0].upper()+replacement[1:]\n",
        "            word = replacement\n",
        "            token_list[word_pos] = word\n",
        "    return \" \".join(token_list).strip()\n",
        "\n",
        "# End of Spell correction\n",
        "\n",
        "# Pipeline for invoking the different functions of preprocessing\n",
        "PREPROCESSING_PIPELINE = [\n",
        "                          convert_parentheses\n",
        "                          ,remove_data_parentheses\n",
        "                          ,lower\n",
        "                          ,normalize_contractions\n",
        "                          ,remove_hyphens\n",
        "                          ,filter_out_uncommon_symbols\n",
        "                          ,remove_punct\n",
        "                          #,remove_numbers                       \n",
        "                          ,normalize_whitespace\n",
        "                          ,strip_text\n",
        "                          #,spell_correction_text\n",
        "                          #,remove_stopwords\n",
        "                          ,tokenize\n",
        "                          #,stemming\n",
        "                          #,lemmatization_nltk                          \n",
        "                          ]\n",
        "\n",
        "# Anchor method\n",
        "def text_prepare(text, filter_methods=None):\n",
        "    \"\"\"\n",
        "    Applies a list of pre-processing functions in sequence (reduce).\n",
        "    Note that the order is important here!\n",
        "    \"\"\"\n",
        "    filter_methods = filter_methods if filter_methods is not None else PREPROCESSING_PIPELINE\n",
        "    return reduce(lambda txt, f: f(txt), filter_methods, text)\n"
      ],
      "execution_count": null,
      "outputs": [
        {
          "output_type": "stream",
          "text": [
            "Downloading data ...\n",
            "Download completed!\n",
            "Collecting symspellpy\n",
            "\u001b[?25l  Downloading https://files.pythonhosted.org/packages/99/af/e71fcca6a42b6a63f518b0c1627e1f67822815cb0cf71e6af05acbd75c78/symspellpy-6.7.0-py3-none-any.whl (2.6MB)\n",
            "\u001b[K     |████████████████████████████████| 2.6MB 22.3MB/s \n",
            "\u001b[?25hRequirement already satisfied: numpy>=1.13.1 in /usr/local/lib/python3.6/dist-packages (from symspellpy) (1.19.4)\n",
            "Installing collected packages: symspellpy\n",
            "Successfully installed symspellpy-6.7.0\n"
          ],
          "name": "stdout"
        }
      ]
    },
    {
      "cell_type": "markdown",
      "metadata": {
        "id": "-vcDaOpVTKFq"
      },
      "source": [
        "### Applying preprocessing"
      ]
    },
    {
      "cell_type": "code",
      "metadata": {
        "id": "sos-dtW3TKXi",
        "colab": {
          "base_uri": "https://localhost:8080/"
        },
        "outputId": "22f8a159-01b8-4359-cab2-ba6bbd85ee0d"
      },
      "source": [
        "# Pre-processing the dataframes\n",
        "\n",
        "print('Pre-processing text...')\n",
        "print()\n",
        "print('[Debug] Evidence Before:\\n{}'.format(df_train.evidence[:5]))\n",
        "print()\n",
        "print('[Debug] Claim Before:\\n{}'.format(df_train.claim[:5]))\n",
        "print()\n",
        "\n",
        "# Replace each sentence with its pre-processed version\n",
        "df_train['evidence'] = df_train['evidence'].apply(lambda txt: text_prepare(txt))\n",
        "df_train['claim'] = df_train['claim'].apply(lambda txt: text_prepare(txt))\n",
        "\n",
        "df_val['evidence'] = df_val['evidence'].apply(lambda txt: text_prepare(txt))\n",
        "df_val['claim'] = df_val['claim'].apply(lambda txt: text_prepare(txt))\n",
        "\n",
        "df_test['evidence'] = df_test['evidence'].apply(lambda txt: text_prepare(txt))\n",
        "df_test['claim'] = df_test['claim'].apply(lambda txt: text_prepare(txt))\n",
        "\n",
        "########################################\n",
        "# Applying Spacy parallel lemmatization \n",
        "########################################\n",
        "\n",
        "'''\n",
        "# Uncomment this part if you want to apply parallel tokenization + lemmatization with spacy\n",
        "df_train['evidence'] = lemmatization_parallel_spacy(df_train['evidence'], chunksize=1000)\n",
        "df_train['claim'] = lemmatization_parallel_spacy(df_train['claim'], chunksize=1000)\n",
        "df_val['evidence'] = lemmatization_parallel_spacy(df_val['evidence'], chunksize=1000)\n",
        "df_val['claim'] = lemmatization_parallel_spacy(df_val['claim'], chunksize=1000)\n",
        "df_test['evidence'] = lemmatization_parallel_spacy(df_test['evidence'], chunksize=1000)\n",
        "df_test['claim'] = lemmatization_parallel_spacy(df_test['claim'], chunksize=1000)\n",
        "# Enf od spacy parallel lemmatization\n",
        "'''\n",
        "\n",
        "print('[Debug] Evidence After:\\n{}'.format(df_train.evidence[:5]))\n",
        "print()\n",
        "print('[Debug] Claim After:\\n{}'.format(df_train.claim[:5]))\n",
        "print()\n",
        "print(\"Pre-processing completed!\")\n",
        "\n",
        "\n",
        "# Cross-Validation of punctuations\n",
        "punctuation_claim = df_train.claim.str.contains('['+string.punctuation+']').sum()\n",
        "punctuation_evid =  df_train.evidence.str.contains('['+string.punctuation+']').sum()\n",
        "print('Were found {}, {} punctuations in claim, evidence resp.'.format(punctuation_claim, punctuation_evid))"
      ],
      "execution_count": null,
      "outputs": [
        {
          "output_type": "stream",
          "text": [
            "Pre-processing text...\n",
            "\n",
            "[Debug] Evidence Before:\n",
            "0    \\tHemsworth has also appeared in the science f...\n",
            "1    \\tRoald Dahl -LRB- -LSB- langpronˈroʊ.əld _ ˈd...\n",
            "2    \\tRoald Dahl -LRB- -LSB- langpronˈroʊ.əld _ ˈd...\n",
            "3    \\tThe island 's geography comprises relatively...\n",
            "4    \\tThe island 's geography comprises relatively...\n",
            "Name: evidence, dtype: object\n",
            "\n",
            "[Debug] Claim Before:\n",
            "0        Chris Hemsworth appeared in A Perfect Getaway\n",
            "1                               Roald Dahl is a writer\n",
            "2                             Roald Dahl is a governor\n",
            "3           Ireland has relatively low-lying mountains\n",
            "4    Ireland does not have relatively low-lying mou...\n",
            "Name: claim, dtype: object\n",
            "\n",
            "[Debug] Evidence After:\n",
            "0    [hemsworth, has, also, appeared, in, the, scie...\n",
            "1    [roald, dahl, 13, september, 1916, 23, novembe...\n",
            "2    [roald, dahl, 13, september, 1916, 23, novembe...\n",
            "3    [the, island, is, geography, comprises, relati...\n",
            "4    [the, island, is, geography, comprises, relati...\n",
            "Name: evidence, dtype: object\n",
            "\n",
            "[Debug] Claim After:\n",
            "0    [chris, hemsworth, appeared, in, a, perfect, g...\n",
            "1                         [roald, dahl, is, a, writer]\n",
            "2                       [roald, dahl, is, a, governor]\n",
            "3    [ireland, has, relatively, low, lying, mountains]\n",
            "4    [ireland, does, not, have, relatively, low, ly...\n",
            "Name: claim, dtype: object\n",
            "\n",
            "Pre-processing completed!\n",
            "Were found 0.0, 0.0 punctuations in claim, evidence resp.\n"
          ],
          "name": "stdout"
        }
      ]
    },
    {
      "cell_type": "markdown",
      "metadata": {
        "id": "eAiI3le9v83H"
      },
      "source": [
        "### Preprocessing Effects\n",
        "How the data changed after the preprocessing? <br>\n",
        "Some comparison before and after the preprocessing in order to see some statistics."
      ]
    },
    {
      "cell_type": "code",
      "metadata": {
        "id": "dspBqoaDwJv7",
        "colab": {
          "base_uri": "https://localhost:8080/",
          "height": 1000
        },
        "outputId": "5e255125-c288-42b5-913a-9aa57c1664bf"
      },
      "source": [
        "def get_vocabulary_corpus(corpus):\n",
        "  vocabulary = set([elem for seq in corpus for elem in seq])\n",
        "  return vocabulary\n",
        "\n",
        "def get_uniq_tokens(text):\n",
        "  return set([x for x in text])\n",
        "\n",
        "# Before preprocessing\n",
        "evidence_bfp = get_vocabulary_corpus(corpus_evidence_bfp)\n",
        "claim_bfp = get_vocabulary_corpus(corpus_claim_bfp)\n",
        "evidence_sentence_bfp = [len(get_uniq_tokens(x)) for x in corpus_evidence_bfp]\n",
        "claim_sentence_bfp = [len(get_uniq_tokens(x)) for x in corpus_claim_bfp]\n",
        "# After preprocessing\n",
        "evidence_afp = get_vocabulary_corpus(df_train['evidence'])\n",
        "claim_afp = get_vocabulary_corpus(df_train['claim'])\n",
        "evidence_sentence_afp = [len(get_uniq_tokens(x)) for x in df_train['evidence']]\n",
        "claim_sentence_afp = [len(get_uniq_tokens(x)) for x in df_train['claim']]\n",
        "\n",
        "def num_distinct_tokens(text):\n",
        "    tokens = text.split()\n",
        "    dist_tokens = set()\n",
        "    for token in tokens:\n",
        "        dist_tokens.add(token)\n",
        "    return len(dist_tokens)\n",
        "\n",
        "print(\"---------------------------------------------\")\n",
        "print(\"\\n\\nStarting analysis of the preprocessing...\")\n",
        "#Total Number of Distinct Tokens for the Evidence\n",
        "p_evid_reduction = 100* (len(evidence_bfp) - len(evidence_afp) )/ len(evidence_bfp) \n",
        "print(\"The reduction of tokens in the Evidence was of {:.2f} %\".format(p_evid_reduction))\n",
        "sns.barplot(x=[\"Unnormalized\",\"Normalized\"],y=[len(evidence_afp), len(evidence_bfp)], palette=\"deep\")\n",
        "plt.title('Total Distinct Tokens for the Evidence')\n",
        "plt.xlabel('File')\n",
        "plt.ylabel('Number of Tokens')\n",
        "plt.show()\n",
        "\n",
        "#Total Number of Distinct Tokens for the Claim\n",
        "p_claim_reduction = 100* (len(claim_bfp) - len(claim_afp) )/ len(claim_bfp)\n",
        "print(\"The reduction of tokens in the Claim was of {:.2f} %\".format(p_claim_reduction))\n",
        "sns.barplot(x=[\"Unnormalized\",\"Normalized\"],y=[len(claim_bfp), len(claim_afp)], palette=\"deep\")\n",
        "plt.title('Total Distinct Tokens for the Claim')\n",
        "plt.xlabel('File')\n",
        "plt.ylabel('Number of Tokens')\n",
        "plt.show()\n",
        "\n",
        "#Size of sentences for the Evidence\n",
        "sns.distplot(evidence_sentence_bfp, label='Unnormalized')\n",
        "sns.distplot(evidence_sentence_afp, label='Normalized')\n",
        "plt.legend(loc='upper right')\n",
        "plt.title('Size in Characters per Sentence - Evidence')\n",
        "plt.xlabel('Size')\n",
        "plt.ylabel('Frequency')\n",
        "plt.show()\n",
        "#Size of sentences for the Evidence\n",
        "sns.distplot(claim_sentence_bfp, label='Unnormalized')\n",
        "sns.distplot(claim_sentence_afp, label='Normalized')\n",
        "plt.legend(loc='upper right')\n",
        "plt.title('Size in Characters per Sentence - Claim')\n",
        "plt.xlabel('Size')\n",
        "plt.ylabel('Frequency')\n",
        "plt.show()\n",
        "\n",
        "print(\"BEFORE PREPROCESSING\")\n",
        "print(\"The vocabulary of evidence had: {} tokens\".format(len(evidence_bfp)))\n",
        "print(\"The vocabulary of claim had: {} tokens\".format(len(claim_bfp)))\n",
        "print(\"The largest sample in the evidence had: {} tokens\".format(max(evidence_sentence_bfp)))\n",
        "print(\"The largest sample in the claim had: {} tokens\".format(max(claim_sentence_bfp)))\n",
        "print(\"\\nAFTER PREPROCESSING\")\n",
        "print(\"The vocabulary of evidence has: {} tokens, was reduced in {:.2f} %\".format(len(evidence_afp), p_evid_reduction))\n",
        "print(\"The vocabulary of claim has: {} tokens , was reduced in {:.2f} %\".format(len(claim_afp), p_claim_reduction))\n",
        "print(\"The largest sample in the evidence has: {} tokens\".format(max(evidence_sentence_afp)))\n",
        "print(\"The largest sample in the claim has: {} tokens\".format(max(claim_sentence_afp)))\n",
        "\n",
        "print(\"Analysis completed!\")"
      ],
      "execution_count": null,
      "outputs": [
        {
          "output_type": "stream",
          "text": [
            "---------------------------------------------\n",
            "\n",
            "\n",
            "Starting analysis of the preprocessing...\n",
            "The reduction of tokens in the Evidence was of 13.92 %\n"
          ],
          "name": "stdout"
        },
        {
          "output_type": "display_data",
          "data": {
            "image/png": "[encoded data removed]",
            "text/plain": [
              "<Figure size 432x288 with 1 Axes>"
            ]
          },
          "metadata": {
            "tags": [],
            "needs_background": "light"
          }
        },
        {
          "output_type": "stream",
          "text": [
            "The reduction of tokens in the Claim was of 20.36 %\n"
          ],
          "name": "stdout"
        },
        {
          "output_type": "display_data",
          "data": {
            "image/png": "[encoded data removed]",
            "text/plain": [
              "<Figure size 432x288 with 1 Axes>"
            ]
          },
          "metadata": {
            "tags": [],
            "needs_background": "light"
          }
        },
        {
          "output_type": "display_data",
          "data": {
            "image/png": "[encoded data removed]",
            "text/plain": [
              "<Figure size 432x288 with 1 Axes>"
            ]
          },
          "metadata": {
            "tags": [],
            "needs_background": "light"
          }
        },
        {
          "output_type": "display_data",
          "data": {
            "image/png": "[encoded data removed]",
            "text/plain": [
              "<Figure size 432x288 with 1 Axes>"
            ]
          },
          "metadata": {
            "tags": [],
            "needs_background": "light"
          }
        },
        {
          "output_type": "stream",
          "text": [
            "BEFORE PREPROCESSING\n",
            "The vocabulary of evidence had: 33617 tokens\n",
            "The vocabulary of claim had: 22883 tokens\n",
            "The largest sample in the evidence had: 95 tokens\n",
            "The largest sample in the claim had: 55 tokens\n",
            "\n",
            "AFTER PREPROCESSING\n",
            "The vocabulary of evidence has: 28938 tokens, was reduced in 13.92 %\n",
            "The vocabulary of claim has: 18223 tokens , was reduced in 20.36 %\n",
            "The largest sample in the evidence has: 94 tokens\n",
            "The largest sample in the claim has: 56 tokens\n",
            "Analysis completed!\n"
          ],
          "name": "stdout"
        }
      ]
    },
    {
      "cell_type": "markdown",
      "metadata": {
        "id": "UhBisZFdwqqE"
      },
      "source": [
        "# Data Visualization"
      ]
    },
    {
      "cell_type": "code",
      "metadata": {
        "id": "zqDGe2CYws83",
        "colab": {
          "base_uri": "https://localhost:8080/",
          "height": 1000
        },
        "outputId": "60ff3803-cec3-449f-b819-24b08b3856ae"
      },
      "source": [
        "#############################################################################\n",
        "#               Data Visualization \n",
        "#############################################################################\n",
        "\n",
        "def return_sentences(tokens):\n",
        "    return \" \".join([word for word in tokens])\n",
        "\n",
        "# Word Cloud of Supported Claim\n",
        "\n",
        "txt_claim = \" \".join([x for x in df_train[df_train['label'] == 'SUPPORTS'].claim.apply(lambda x : return_sentences(x)) ])\n",
        "txt_evidence = \" \".join([x for x in df_train[df_train['label'] == 'SUPPORTS'].evidence.apply(lambda x : return_sentences(x)) ])\n",
        "\n",
        "# Create and generate a word cloud image:\n",
        "wordcloud_claim = WordCloud(max_font_size=30, max_words=1000).generate(txt_claim)\n",
        "wordcloud_evidence = WordCloud(max_font_size=30, max_words=1000).generate(txt_evidence)\n",
        "\n",
        "# Display the generated image:\n",
        "print(\"WordCloud of Supported Claims\")\n",
        "plt.figure(figsize= [10,10])\n",
        "plt.imshow(wordcloud_claim)\n",
        "plt.axis(\"off\")\n",
        "plt.show()\n",
        "\n",
        "###############\n",
        "\n",
        "# Word Cloud of REFUTED Claim\n",
        "\n",
        "txt_claim = \" \".join([x for x in df_train[df_train['label'] == 'REFUTES'].claim.apply(lambda x : return_sentences(x)) ])\n",
        "txt_evidence = \" \".join([x for x in df_train[df_train['label'] == 'REFUTES'].evidence.apply(lambda x : return_sentences(x)) ])\n",
        "\n",
        "# Create and generate a word cloud image:\n",
        "wordcloud_claim = WordCloud(max_font_size=30, max_words=1000).generate(txt_claim)\n",
        "wordcloud_evidence = WordCloud(max_font_size=30, max_words=1000).generate(txt_evidence)\n",
        "\n",
        "# Display the generated image:\n",
        "print(\"\\n\\nWordCloud of Refuted Claims\")\n",
        "plt.figure(figsize= [10,10])\n",
        "plt.imshow(wordcloud_claim)\n",
        "plt.axis(\"off\")\n",
        "plt.show()\n",
        "\n",
        "# End of the Word Clouds\n",
        "\n",
        "print(\"Dataframe structure:\\n\")\n",
        "print(\"Dataframe Columns: {}\".format(df_train.columns))\n",
        "print()\n",
        "\n",
        "print(\"Total samples in train: {} - {:.2f}% of the whole data\".format(len(df_train),  100* (len(df_train)/ ( len(df_train) + len(df_val) + len(df_test)))))\n",
        "print(\"Total samples in validation: {} - {:.2f}% of the whole data\".format(len(df_val),  100* (len(df_val)/ ( len(df_train) + len(df_val) + len(df_test)))))\n",
        "print(\"Total samples in test: {} - {:.2f}% of the whole data\".format(len(df_test),  100* (len(df_test)/ ( len(df_train) + len(df_val) + len(df_test)))))\n",
        "print()\n",
        "\n",
        "print(\"Some samples in train: {}\".format(df_train.head()))\n",
        "print(\"Some samples in validation: {}\".format(df_val.head()))\n",
        "print(\"Some samples in test: {}\".format(df_test.head()))\n",
        "print()\n",
        "\n",
        "# Some metrics\n",
        "\n",
        "print(\"A short description of the labels: \\n{}\\n\".format(df_train['label'].describe()))\n",
        "\n",
        "print(\"Distribution of Label in Train: \\n{}\".format(df_train.label.value_counts()))\n",
        "#print(\"\\n{}\".format(df_train['label'].hist(bins=6, alpha=0.5)))\n",
        "# Plot of label for train\n",
        "pd.Series(df_train['label']).value_counts().plot(\n",
        "    kind='pie', title='Labels Distribution - Train', figsize=(5, 5))\n",
        "plt.show()\n",
        "print(\"Distribution of Label in Validation: \\n{}\".format(df_val.label.value_counts()))\n",
        "#print(\"\\n{}\".format(df_val['label'].hist(bins=6, alpha=0.5, color='#86bf91')))\n",
        "pd.Series(df_val['label']).value_counts().plot(\n",
        "    kind='pie', title='Labels Distribution - Validation', figsize=(5, 5))\n",
        "plt.show()\n",
        "print(\"Distribution of Label in Test: \\n{}\".format(df_test.label.value_counts()))\n",
        "#print(\"\\n{}\".format(df_test['label'].hist(bins=6, alpha=0.5, color='#00bf91')))\n",
        "pd.Series(df_test['label']).value_counts().plot(\n",
        "    kind='pie', title='Labels Distribution - Test', figsize=(5, 5))\n",
        "plt.show()"
      ],
      "execution_count": null,
      "outputs": [
        {
          "output_type": "stream",
          "text": [
            "WordCloud of Supported Claims\n"
          ],
          "name": "stdout"
        },
        {
          "output_type": "display_data",
          "data": {
            "image/png": "[encoded data removed]",
            "text/plain": [
              "<Figure size 720x720 with 1 Axes>"
            ]
          },
          "metadata": {
            "tags": [],
            "needs_background": "light"
          }
        },
        {
          "output_type": "stream",
          "text": [
            "\n",
            "\n",
            "WordCloud of Refuted Claims\n"
          ],
          "name": "stdout"
        },
        {
          "output_type": "display_data",
          "data": {
            "image/png": "[encoded data removed]",
            "text/plain": [
              "<Figure size 720x720 with 1 Axes>"
            ]
          },
          "metadata": {
            "tags": [],
            "needs_background": "light"
          }
        },
        {
          "output_type": "stream",
          "text": [
            "Dataframe structure:\n",
            "\n",
            "Dataframe Columns: Index(['id', 'claim', 'evidence', 'id_claim', 'label'], dtype='object')\n",
            "\n",
            "Total samples in train: 121707 - 89.45% of the whole data\n",
            "Total samples in validation: 7165 - 5.27% of the whole data\n",
            "Total samples in test: 7189 - 5.28% of the whole data\n",
            "\n",
            "Some samples in train:   id                                              claim  ... id_claim     label\n",
            "0  0  [chris, hemsworth, appeared, in, a, perfect, g...  ...        3  SUPPORTS\n",
            "1  1                       [roald, dahl, is, a, writer]  ...        7  SUPPORTS\n",
            "2  2                     [roald, dahl, is, a, governor]  ...        8   REFUTES\n",
            "3  3  [ireland, has, relatively, low, lying, mountains]  ...        9  SUPPORTS\n",
            "4  4  [ireland, does, not, have, relatively, low, ly...  ...       10   REFUTES\n",
            "\n",
            "[5 rows x 5 columns]\n",
            "Some samples in validation:   id                                              claim  ... id_claim     label\n",
            "0  0  [the, indian, army, comprises, part, of, the, ...  ...    98304  SUPPORTS\n",
            "1  1                      [recovery, features, rihanna]  ...    98305  SUPPORTS\n",
            "2  2                        [rihanna, is, on, recovery]  ...    98306  SUPPORTS\n",
            "3  3                        [philomena, was, nominated]  ...    27307  SUPPORTS\n",
            "4  4                           [vietnam, is, a, mascot]  ...    98312   REFUTES\n",
            "\n",
            "[5 rows x 5 columns]\n",
            "Some samples in test:   id                                              claim  ... id_claim     label\n",
            "0  0  [anxiety, has, been, linked, with, physical, s...  ...    16387  SUPPORTS\n",
            "1  1                     [firefox, is, an, application]  ...        6  SUPPORTS\n",
            "2  2  [keegan, michael, key, played, president, bara...  ...    16392  SUPPORTS\n",
            "3  3         [google, search, can, find, stock, quotes]  ...    16394  SUPPORTS\n",
            "4  4  [a, good, day, to, die, hard, was, directed, s...  ...    98315   REFUTES\n",
            "\n",
            "[5 rows x 5 columns]\n",
            "\n",
            "A short description of the labels: \n",
            "count       121707\n",
            "unique           2\n",
            "top       SUPPORTS\n",
            "freq         89363\n",
            "Name: label, dtype: object\n",
            "\n",
            "Distribution of Label in Train: \n",
            "SUPPORTS    89363\n",
            "REFUTES     32344\n",
            "Name: label, dtype: int64\n"
          ],
          "name": "stdout"
        },
        {
          "output_type": "display_data",
          "data": {
            "image/png": "[encoded data removed]",
            "text/plain": [
              "<Figure size 360x360 with 1 Axes>"
            ]
          },
          "metadata": {
            "tags": []
          }
        },
        {
          "output_type": "stream",
          "text": [
            "Distribution of Label in Validation: \n",
            "SUPPORTS    3611\n",
            "REFUTES     3554\n",
            "Name: label, dtype: int64\n"
          ],
          "name": "stdout"
        },
        {
          "output_type": "display_data",
          "data": {
            "image/png": "[encoded data removed]",
            "text/plain": [
              "<Figure size 360x360 with 1 Axes>"
            ]
          },
          "metadata": {
            "tags": []
          }
        },
        {
          "output_type": "stream",
          "text": [
            "Distribution of Label in Test: \n",
            "SUPPORTS    3606\n",
            "REFUTES     3583\n",
            "Name: label, dtype: int64\n"
          ],
          "name": "stdout"
        },
        {
          "output_type": "display_data",
          "data": {
            "image/png": "[encoded data removed]",
            "text/plain": [
              "<Figure size 360x360 with 1 Axes>"
            ]
          },
          "metadata": {
            "tags": []
          }
        }
      ]
    },
    {
      "cell_type": "markdown",
      "metadata": {
        "id": "faGGJWOVw1mZ"
      },
      "source": [
        "# Data Balancing\n",
        "After the visualization of the data, we could see that the train data is umbalanced with 89.389 samples for the label SUPPORT and just 32.351 for the REFUTES.\n",
        "In the following section we will tray some functions to balance the data."
      ]
    },
    {
      "cell_type": "markdown",
      "metadata": {
        "id": "gI57GDlow4KD"
      },
      "source": [
        "### Definition of the Functions\n",
        "Below we defined 3 methods for resampling the data.<br>\n",
        "\n",
        "Randon Undersampling: Undersample the majority class to the given samplesize <br>\n",
        "Proportional Undersampling: Undersample the data considering the number of samples and the proportion <br>\n",
        "Imblearn undersampling: Some functions of the Imblearn library"
      ]
    },
    {
      "cell_type": "code",
      "metadata": {
        "id": "tcW55vQzw7hN"
      },
      "source": [
        "# Some functions to downsample and balance the classes\n",
        "# Some functions were based on [2], [3], [4]\n",
        "\n",
        "#######################################################################\n",
        "#                 Random Undersampling\n",
        "#######################################################################\n",
        "\n",
        "def random_undersampling(df, column, samplesize):\n",
        "  '''\n",
        "  This function downsample the df to the samplesize received\n",
        "  Inputs:\n",
        "  - df: dataframe\n",
        "  - column: considered to apply the downsample\n",
        "  - samplesize: final number of samples for each class of the column\n",
        "  Output:\n",
        "    -  the dataframe downsampled\n",
        "  '''\n",
        "  df_train_balanced = df.groupby(column, as_index=False).apply(lambda array: array.loc[np.random.choice(array.index, samplesize, False),:])\n",
        "  df_train_balanced[column].hist()\n",
        "  return df_train_balanced\n",
        "\n",
        "#######################################################################\n",
        "#               Proportional Undersampling\n",
        "#######################################################################\n",
        "\n",
        "def proportional_undersampling(df_train, column, proportion, n_items):\n",
        "  '''\n",
        "  def proportional_undersampling\n",
        "  Inputs:\n",
        "  - df_train: dataframe to be undersampled\n",
        "  - proportion: to consider for the random undersampling\n",
        "  - n_items: total of samples after the undersampling\n",
        "  '''\n",
        "  # Sorting the classes in a descendent way in order to have as first the class with majority\n",
        "  u, count = np.unique(df_train[column], return_counts=True)\n",
        "  count_sort_ind = np.argsort(-count)\n",
        "  classes = u[count_sort_ind]\n",
        "  n_class = [0, 0]\n",
        "\n",
        "  # if the class with minority is inside the proportion\n",
        "  # otherwise keep the same number of samples\n",
        "  n_class[0] = int(np.floor( n_items * proportion))\n",
        "  if n_items - n_class[0] <= df_train[column].value_counts().min():\n",
        "    n_class[1] = n_items - n_class[0]\n",
        "  else:\n",
        "    n_class[1] = df_train[column].value_counts().min()\n",
        "\n",
        "  df_train_balanced = pd.DataFrame()\n",
        "\n",
        "  for i, c in enumerate(classes):\n",
        "            tmp_idx = df_train[df_train.label == c].index.values.tolist()\n",
        "            np.random.shuffle(tmp_idx)\n",
        "            #tmp_idx = torch.from_numpy(tmp_idx)\n",
        "            l_idx = tmp_idx[:n_class[i]]\n",
        "            df_train_balanced = df_train_balanced.append( df_train.loc[l_idx] )\n",
        "\n",
        "  return df_train_balanced\n",
        "\n",
        "#######################################################################\n",
        "#               Imblearn undersampling\n",
        "#######################################################################\n",
        "\n",
        "from imblearn.under_sampling import RandomUnderSampler\n",
        "from imblearn.under_sampling import TomekLinks\n",
        "from imblearn.under_sampling import ClusterCentroids\n",
        "\n",
        "# method = ['random', 'tomeklinks']\n",
        "def imdb_undersampling(df_train, method = 'random'):\n",
        "  X = df_train.copy()\n",
        "  X = X[['id', 'id_claim'] ]\n",
        "  X['len_claim'] = [len(x) for x in df_train.claim]\n",
        "  X['len_evidence'] = [len(x) for x in df_train.evidence]\n",
        "\n",
        "  y = df_train.copy()\n",
        "  y = y['label']\n",
        "  y = [1 if d == 'SUPPORTS' else 0 for i, d in enumerate(y) ]\n",
        "\n",
        "  print(\"Features shape: {}\".format(X.shape))\n",
        "  print(\"Target shape: {}\".format(len(y)))\n",
        "\n",
        "  if method == 'random':\n",
        "    # Imblearn undersampling random\n",
        "    rus = RandomUnderSampler()\n",
        "    X_d, y_d = rus.fit_sample(X, y)\n",
        "  if method == 'tomeklinks':\n",
        "    tl = TomekLinks(ratio='majority')\n",
        "    X_d, y_d = tl.fit_sample(X, y)\n",
        "  if method == 'centroid':\n",
        "    cc = ClusterCentroids(sampling_strategy=1/2, random_state=42, voting= 'soft')\n",
        "    X_d, y_d = cc.fit_sample(X, y)\n",
        "  l_id = [int(row[0]) for row in X_d]\n",
        "\n",
        "  # Undersampling the df\n",
        "  df_train_balanced = df_train.copy()\n",
        "  df_train_balanced = df_train_balanced.loc[l_id]\n",
        "\n",
        "  print(\"\\nDistribution without undersampling: \\n{}\".format(df_train.label.value_counts()))\n",
        "  print(\"\\n{}\".format(df_train['label'].hist(bins=4, alpha=0.5)))\n",
        "\n",
        "  print(\"Distribution with undersampling: \\n{}\".format(df_train_balanced.label.value_counts()))\n",
        "  print(\"\\n{}\".format(df_train_balanced['label'].hist(bins=4, alpha=0.5)))\n",
        "\n",
        "  return df_train_balanced\n"
      ],
      "execution_count": null,
      "outputs": []
    },
    {
      "cell_type": "markdown",
      "metadata": {
        "id": "iN7xMcLIxCBv"
      },
      "source": [
        "### Applying Undersample"
      ]
    },
    {
      "cell_type": "code",
      "metadata": {
        "id": "BmbWnh-vxETo",
        "colab": {
          "base_uri": "https://localhost:8080/",
          "height": 504
        },
        "outputId": "c849897b-b84b-4b5d-aa87-96b49cd86a87"
      },
      "source": [
        "'''\n",
        "IN the cell above were defined 3 functions for doing the undersample\n",
        "Feel free to try them below uncommenting their corresponding code\n",
        "'''\n",
        "# Applying the proportional undersampling\n",
        "#df_train_balanced = proportional_undersampling(df_train, 'label' ,0.50, 60000)\n",
        "\n",
        "# Uncomment to apply the random undersampling\n",
        "min_samplesize = df_train.label.value_counts().values.min()\n",
        "df_train_balanced = random_undersampling(df_train, 'label', min_samplesize)\n",
        "\n",
        "# Uncomment to try the methods of Imblearn undersampling\n",
        "#df_train_balanced = imdb_undersampling(df_train, method = 'tomeklinks')\n",
        "\n",
        "# Visualizing the results\n",
        "print(\"A short description of the labels: \\n{}\\n\".format(df_train_balanced['label'].describe()))\n",
        "print(\"Distribution of Label in Train: \\n{}\".format(df_train_balanced.label.value_counts()))\n",
        "print(\"\\n{}\".format(df_train_balanced['label'].hist(bins=6, alpha=0.5)))\n",
        "\n",
        "\n",
        "#Uncomment to work with unsampled data\n",
        "#df_train = df_train_balanced"
      ],
      "execution_count": null,
      "outputs": [
        {
          "output_type": "stream",
          "text": [
            "A short description of the labels: \n",
            "count       64688\n",
            "unique          2\n",
            "top       REFUTES\n",
            "freq        32344\n",
            "Name: label, dtype: object\n",
            "\n",
            "Distribution of Label in Train: \n",
            "REFUTES     32344\n",
            "SUPPORTS    32344\n",
            "Name: label, dtype: int64\n",
            "\n",
            "AxesSubplot(0.125,0.125;0.775x0.755)\n"
          ],
          "name": "stdout"
        },
        {
          "output_type": "display_data",
          "data": {
            "image/png": "[encoded data removed]",
            "text/plain": [
              "<Figure size 432x288 with 1 Axes>"
            ]
          },
          "metadata": {
            "tags": [],
            "needs_background": "light"
          }
        }
      ]
    },
    {
      "cell_type": "markdown",
      "metadata": {
        "id": "xrnFnaXUIWQz"
      },
      "source": [
        "# Encoding the Dataset\n",
        "In this section we can encode the claim and evidencens with glove, word2vec and fasttext.\n",
        "Feel free to run the section of the encoding of your preference."
      ]
    },
    {
      "cell_type": "markdown",
      "metadata": {
        "id": "UeIn69SMcAdj"
      },
      "source": [
        "### Encoding the Labels"
      ]
    },
    {
      "cell_type": "code",
      "metadata": {
        "colab": {
          "base_uri": "https://localhost:8080/"
        },
        "id": "JmKzsPj5xl00",
        "outputId": "656799c1-7ed0-4b86-8822-e15e98026332"
      },
      "source": [
        "#Encode the labels\n",
        "#PAD = '<PAD>'\n",
        "#labels = [PAD,'SUPPORTS','REFUTES']\n",
        "labels = ['SUPPORTS','REFUTES']\n",
        "#encoding_to_label = {1:'SUPPORTS', 2:'REFUTES'}\n",
        "encoding_to_label = dict(enumerate(labels))\n",
        "label_to_encoding = {label:enc for enc,label in encoding_to_label.items()}\n",
        "\n",
        "print('label_to_encoding:')\n",
        "print(label_to_encoding)\n",
        "print('\\nencoding_to_label:')\n",
        "print(encoding_to_label)"
      ],
      "execution_count": null,
      "outputs": [
        {
          "output_type": "stream",
          "text": [
            "label_to_encoding:\n",
            "{'SUPPORTS': 0, 'REFUTES': 1}\n",
            "\n",
            "encoding_to_label:\n",
            "{0: 'SUPPORTS', 1: 'REFUTES'}\n"
          ],
          "name": "stdout"
        }
      ]
    },
    {
      "cell_type": "markdown",
      "metadata": {
        "id": "VaUAjmwyCY77"
      },
      "source": [
        "### Encoding with Glove / Word2Vec\n",
        "Run the code below to encode the claim and evidence with glove or word2vec."
      ]
    },
    {
      "cell_type": "markdown",
      "metadata": {
        "id": "ZN43u35BcDqb"
      },
      "source": [
        "#### Encoding Claims and Evidences"
      ]
    },
    {
      "cell_type": "code",
      "metadata": {
        "id": "AGDLqEqwprLA"
      },
      "source": [
        "import gensim\n",
        "import gensim.downloader as gloader\n",
        "from pathlib import Path\n",
        "\n",
        "def get_embedding_model_download_path(model_type, embedding_dim):\n",
        "    \"\"\"\n",
        "    Parameters\n",
        "    ----------\n",
        "        model_type: str\n",
        "            Name of the embedding model.\n",
        "        embedding_dim: int\n",
        "            Dimension of the embeddings in the embedding model.\n",
        "    Returns\n",
        "    -------\n",
        "        The path to download the model.\n",
        "    \"\"\"\n",
        "    download_path = \"\"\n",
        "\n",
        "    if model_type.strip().lower() == 'word2vec':\n",
        "        download_path = \"word2vec-google-news-300\"\n",
        "\n",
        "    elif model_type.strip().lower() == 'glove':\n",
        "        download_path = \"glove-wiki-gigaword-{}\".format(embedding_dim)\n",
        "\n",
        "    else:\n",
        "        raise AttributeError(\"Unsupported embedding model type! Available ones: word2vec, glove\")\n",
        "\n",
        "    return download_path\n",
        "    \n",
        "\n",
        "def load_embedding_model(model_type, embedding_dim):\n",
        "    \"\"\"\n",
        "    Loads a pre-trained word embedding model via gensim library.\n",
        "\n",
        "    Parameters\n",
        "    ----------\n",
        "        model_type : str\n",
        "            Embedding model to download.\n",
        "        embedding_dim : int\n",
        "            Size of the embedding space to consider.\n",
        "\n",
        "    Returns\n",
        "    -------\n",
        "        emb_model : gensim.models.keyedvectors.KeyedVectors\n",
        "            Pre-trained word embedding model.\n",
        "    \"\"\"\n",
        "\n",
        "    # Find the correct embedding model name\n",
        "    \n",
        "    download_path = get_embedding_model_download_path(model_type, embedding_dim)\n",
        "\n",
        "    #Check download\n",
        "    try:\n",
        "        emb_model = gloader.load(download_path)\n",
        "    except ValueError as e:\n",
        "        print(\"Invalid embedding model name! Check the embedding dimension:\")\n",
        "        if model_type.strip().lower() == 'word2vec':\n",
        "            print(\"Word2Vec: 300\")\n",
        "        if model_type.strip().lower() == 'glove':\n",
        "            print(\"Glove: 50, 100, 200, 300\")\n",
        "        raise e\n",
        "\n",
        "    return emb_model\n",
        "\n",
        "\n",
        "#Supported embedding dimensions:\n",
        "# Glove -> 50, 100, 200, 300\n",
        "# Word2Vec -> 300\n",
        "model_type = 'GloVe'\n",
        "embedding_dim = 300\n",
        "\n",
        "embedding_folder = os.path.join(os.getcwd(), 'Embeddings')\n",
        "Path(embedding_folder).mkdir(parents=True, exist_ok=True)\n",
        "\n",
        "model_path = get_embedding_model_download_path(model_type, embedding_dim)\n",
        "embedding_path = os.path.join(embedding_folder,model_path)\n",
        "\n",
        "#When the embedding model is downloaded save it to memory so that if the cell is\n",
        "#re-executed it's not needed to download it again\n",
        "if not os.path.exists(embedding_path):\n",
        "    print('Downloading {} ...'.format(model_path))\n",
        "    embedding_model = load_embedding_model(model_type, embedding_dim)\n",
        "    print('\\nSaving the model to memory ...')\n",
        "    os.mknod(os.path.join(embedding_folder,'{}.vectors.npy'.format(model_path)))\n",
        "    embedding_model.save(embedding_path)\n",
        "    print('Done')\n",
        "else:\n",
        "    print('The requested GloVe embedding model has already been downloaded')\n",
        "    print('Loading {} ...'.format(model_path))\n",
        "    embedding_model = gensim.models.KeyedVectors.load(embedding_path)"
      ],
      "execution_count": null,
      "outputs": []
    },
    {
      "cell_type": "code",
      "metadata": {
        "id": "BCxxXy7kuDMB"
      },
      "source": [
        "def get_embeddings(df, embedding_model, embedding_dim):\n",
        "    \"\"\"\n",
        "    Retrieve for each token present in df its embedding taking it either from\n",
        "    the embedding model or, in case there are tokens not present in the previous two vocabularies,\n",
        "    generating it randomically.\n",
        "\n",
        "    Parameters\n",
        "    ----------\n",
        "        df : pandas.DataFrame\n",
        "            DataFrame which will be used to create the vocabulary. Each token\n",
        "            of the vocabulary will be then associated with an embedding.\n",
        "        embedding_model : gensim.models.keyedvectors.KeyedVectors\n",
        "            Dictionary-like structure that contains words embedding.\n",
        "        embedding_dim : int\n",
        "\n",
        "    Returns\n",
        "    -------\n",
        "        embeddings : dict\n",
        "            The embeddings of the tokens presents in the vocabulary generated\n",
        "            by df.\n",
        "    \"\"\"\n",
        "    vocabulary = set([elem for seq in pd.concat([df['claim'],df['evidence']]) for elem in seq])\n",
        "\n",
        "    #Out of vocabulary tokens\n",
        "    OOV_tokens = [token for token in vocabulary if token.lower() not in embedding_model]\n",
        "\n",
        "    #Build OOV embeddings without the co-occurrence matrix\n",
        "    embeddings_oov = {token:np.random.normal(size=embedding_dim) \\\n",
        "                      for token in OOV_tokens}\n",
        "\n",
        "    embeddings = {**embedding_model, **embeddings_oov}\n",
        "\n",
        "    return embeddings"
      ],
      "execution_count": null,
      "outputs": []
    },
    {
      "cell_type": "code",
      "metadata": {
        "id": "_b71UDY9ufkI"
      },
      "source": [
        "#Encode padding\n",
        "#embedding_model[PAD] = np.zeros(embedding_dim)\n",
        "\n",
        "#Creation of the training set's embeddings\n",
        "embeddings_train = get_embeddings(df=df_train,\n",
        "                                  embedding_model={key:embedding_model[key] for key in embedding_model.vocab.keys()},\n",
        "                                  embedding_dim=embedding_dim)\n",
        "\n",
        "#Creation of the validation set's embeddings\n",
        "embeddings_val = get_embeddings(df=df_val,\n",
        "                                embedding_model=embeddings_train,\n",
        "                                embedding_dim=embedding_dim)\n",
        "\n",
        "#Creation of the test set's embeddings\n",
        "embeddings_test = get_embeddings(df=df_test,\n",
        "                                 embedding_model=embeddings_val,\n",
        "                                 embedding_dim=embedding_dim)"
      ],
      "execution_count": null,
      "outputs": []
    },
    {
      "cell_type": "code",
      "metadata": {
        "colab": {
          "base_uri": "https://localhost:8080/"
        },
        "id": "Jo5teSbfyJ4G",
        "outputId": "db2c23cf-0e06-4754-eea2-392350333121"
      },
      "source": [
        "# Checking the OOVs\n",
        "\n",
        "vocabulary = set([elem for seq in pd.concat([df_train['claim'], df_train['evidence']]) for elem in seq])\n",
        "embedding_model_2={key:embedding_model[key] for key in embedding_model.vocab.keys()}\n",
        "\n",
        "#Out of vocabulary tokens\n",
        "OOV_tokens = [token for token in vocabulary if token.lower() not in embedding_model_2]\n",
        "\n",
        "print('OOVS {} - {:2f}%'.format(len(OOV_tokens),   100* len(OOV_tokens)/ len(vocabulary) ) )\n",
        "print(OOV_tokens)"
      ],
      "execution_count": null,
      "outputs": [
        {
          "output_type": "stream",
          "text": [
            "OOVS 2458 - 7.840010%\n",
            "['federatsii', 'elflman', '1946september', 'supraregional', 'transluminal', 'shophe', 'wwfwwe', 'owuo', 'iteru', 'telanovela', 'athnai', 'donalbain', 'chrononauts', 'bandamax', 'varayev', 'commisar', 'sily', 'productionsongwriting', 'johnt', 'virginiaplaintiffs', 'sarcoptes', 'injans', 'wildings', '33million', 'lubnn', '513000', 'febreuary', 'iridioides', 'georgeville', 'rivele', 'simza', 'vocalistaccordionist', 'hulandes', 'chymist', 'charactersrichard', 'brche', 'lymelife', 'nitroplus', 'damnesia', 'veeraiya', 'teavana', 'antiheroic', 'suseenthiran', 'yakthung', 'dolcefino', 'zootropolis', 'gaarjya', 'vended', 'dpartements', 'actionanimated', 'delevingne', 'graceffa', 'hickenbottom', 'romelle', 'greeance', 'qubool', 'willkapampa', 'pashtodari', 'agrotera', 'wechat', '348347', 'etpt', 'nutsa', 'mcmary', 'muthucharam', 'ubertov', 'szeles', 'dhill', 'kukhianidze', 'baahubali', 'experimentalelectronic', 'chainsmokers', 'tunt', 'gonzlez', 'writerproducer', 'urundi', 'ouron', 'dhirajlal', 'lopoldville', 'uncombined', 'marekstarkiller', 'romona', 'olmpicos', 'paglen', 'dainard', 'latajcy', 'ogghwa', 'peoplekm2', 'wonderstone', 'antiheroine', 'nikhilesh', '5196', 'patriotpublisher', 'rnning', 'kinuwa', 'kimovich', 'solbin', 'ellyse', 'joshy', 'ibrahimovi', 'ltdbaby', 'lindstrm', 'aftershow', 'falcn', 'patzzi', 'brona', 'brindavanam', 'tarly', 'bojack', 'libertatum', 'platzman', 'championsheavyweight', 'hubbel', 'dillagi', 'dastr', 'nerrukku', 'numbencore', 'dimetra', 'kurahara', 'mrui', 'eivissa', 'raupaul', 'shensi', 'dezs', '185329', 'pyrnes', 'adaptordirector', 'standartenfhrer', 'langpronaudio', 'pandaria', 'cutforth', 'knigreich', 'inputoutput', 'michoacn', 'shanowski', 'araneae', 'jwoww', 'yanger', 'nordoff', 'rustamid', 'malfunkshun', 'puzhayum', 'krnos', 'bassistguitarist', 'thenali', 'demun', 'knan', 'boradway', '185430', 'anglic', 'grrm', 'rolihlahla', '4550', 'smartwatch', 'knste', 'mjk', 'trenneman', 'ternt', 'bcas', 'frostnixon', 'dmographie', 'pinisetty', 'korsh', 'mepris', 'kyam', 'gmailinbox', 'eore', 'sashikanth', 'hireann', 'hasheni', 'pertuesa', 'wolfhard', 'essos', 'bhrat', 'chgoku', 'dhada', 'concrte', 'incio', 'abum', 'sarbjit', 'sqmi', 'salue', 'gunasekhar', 'garca', 'julayi', 'zanti', 'stripclubs', 'lafur', 'bdiyat', 'prevalences', 'drkn', 'bondagediscipline', 'wojtya', 'lavenza', '6126', 'chareton', 'diathk', 'akuna', 'iatas', 'repilot', 'elasmobranch', 'bhambla', 'wheb', 'imprio', 'saroo', 'makhon', 'igpx', 'canadaunited', 'adienne', 'fifantasy', 'rihmeek', 'turquotte', 'lofranco', '1980searly', 'britannicas', 'lactobacillales', 'bhedabheda', 'gofundme', 'mngke', '470469', 'cambrige', 'federativa', '5450', 'arestrup', 'scre4m', 'qurayshi', 'calvano', 'stika', 'plhza', 'balmores', 'chapitres', 'gravenhage', 'harivansh', 'uachtarn', 'woglom', 'shahenshah', 'gmez', 'rayfiel', 'lenworth', 'demigoddess', 'maattrraan', 'qarn', 'gadon', 'harmenszoon', 'thozha', 'chesave', 'poryes', 'soilearthrock', 'bogdanovna', 'afzelli', 'banjaree', 'achsenmchte', 'dreamville', 'yarlagadda', 'afnistn', 'supershows', 'lnqi', 'yorin', 'turkmenia', 'pravitel', 'girasoli', 'panetierre', 'meisje', 'tenitra', 'chyornaya', 'fhrer', 'lustrum', 'shsaku', 'cwfc', 'deimatic', 'emayatzy', 'hammerback', 'lszl', 'misere', 'constanzia', 'adaryll', 'tholins', 'isayama', 'toxotes', 'lfcc', 'rossif', 'kingsguard', 'lummen', 'sztykiel', 'blackbear', 'traue', 'tessandra', 'afzelii', 'winnpeg', '5240', 'progressiveliberal', 'preuische', 'tgg', 'udayakrishna', 'aristotls', 'akamassiss', '156430', 'freistaat', 'eperviers', 'scanland', 'montral', 'malmdy', 'schnerr', 'wuotan', 'provenal', 'a7x', 'asshai', 'mozhi', 'rjavaa', 'birdge', 'adorra', 'infans', 'xealand', 'v18', 'abctbs', 'kabinet', 'smithed', 'mayersberg', 'cardsharp', 'comedydrama', 'musicalromantic', 'dottor', 'ultimacy', 'exmachina', 'pmw', 'fliegauf', 'croftlily', 'larbey', 'noneducational', 'auamendiak', 'nonsporulating', 'nties', 'citezenship', 'trilogychristopher', 'dhoondo', 'harleen', 'tugalala', 'satullo', 'rovero', 'kawliya', 'blcker', 'suebian', 'solverson', 'yeddo', 'bassbacking', 'diety', 'thr33', 'ilios', '196465', 'behbeit', 'preventatives', 'samaire', 'miliken', 'sense8', 'szkely', 'kucherena', 'rseau', 'roboting', '14771481', 'canfari', 'gonxhe', 'inducteee', 'aashif', 'anoai', 'sjgren', 'iwjeaqk', 'jawaani', 'shenaz', 'meridiem', 'adventured', 'gcnra', 'gendry', 'benjamenta', 'lacel', 'libnniyyah', 'bajrangi', 'scabiei', 'bearu', 'bzd', '544th', 'farshchian', 'createdco', 'rapsung', 'kumail', 'taissa', 'titn', '1901december', 'mildronate', 'krt', 'jovovichserbian', 'braa', 'pholegandros', 'jelline', 'kkhh', 'rashford', 'dodeknisa', 'keyboardistvocalist', 'jamhuuriyadda', 'conquested', 'samuthirakani', 'sathalanalat', 'chingkwake', 'terraria', 'tontnt', 'communitys', 'kordei', 'vadnagar', 'qualley', 'tuaisceart', 'nikhla', 'gunnis', 'cheaptrick', 'makkonen', 'kroitor', 'befikre', 'rvoires', 'constableunited', 'valrian', 'bhanji', 'penlope', 'brbeuf', 'gourang', 'mclennen', 'taoisigh', 'belaru', 'stormaktstiden', 'seolgungnyeolcha', 'waksberg', 'cuarn', 'erythroxylaceae', 'sextiae', 'alianovna', 'mesophile', 'loptr', 'minnesotaontario', '3140', 'childwickbury', 'thenmerku', '1971september', 'udayapuram', 'bokma', 'craseonycteris', 'runnian', '9153', 'mumolo', 'schferhund', 'cortzar', 'lyses', 'shilowich', 'gumb', 'kimila', 'iustinianus', 'rockfunk', 'baaghi', 'respublikas', 'eifa', 'rheon', 'ad65', 'manasseri', 'encyclopdia', 'prankstars', 'fdration', 'radionavigation', 'pardubick', 'gryptonite', 'mallemala', 'grimhilde', 'techniscope', 'harisree', 'sidushq', 'retweeted', 'pancholy', 'mawlaw', 'jashni', 'espaol', 'vierbund', 'tezaab', 'castlebeck', 'borussi', 'cretton', 'devineni', 'nederln', 'candleshoe', 'rhne', 'komarnicki', 'b612', 'buttrose', 'mittelmchte', 'writerartist', 'csngs', 'corsier', 'mironoff', 'zaslavski', 'doahl', 'raajneeti', 'ishid', 'marvelton', 'brodbin', 'glssa', 'talion', 'belleforest', 'paeksang', 'catreus', 'pudhe', 'sidse', 'sp100', 'andarivadele', 'nilotes', 'hoytema', '500000', '18674', 'rockfolk', 'dotun', '74274774828', 'ignmar', 'unindustrialized', 'seperation', 'marselha', 'athelete', 'googl', 'gangaridai', 'moonblood', '505990', 'umtshsdpa', 'tekilat', 'marconigrams', 'rgion', 'releasesooraj', 'mbius', 'cairnholm', 'aodhn', 'tenpenny', 'phirman', 'miricani', 'tubelight', 'wahlburgers', 'ewwy', '8611', 'uncast', 'vertires', 'truwisha', 'summerscyclops', 'kardi', 'stageiros', 'romcom', 'inoperability', 'dhanoa', 'hyoyeon', 'spelaea', 'bfca', 'lomenda', 'cheir', 'ehrmantraut', 'elikolani', 'emperorempress', 'spivot', 'windust', 'chokher', 'tormund', '1964march', '932012', 'sreenu', 'hotell', 'chindians', 'gayborhood', 'starboy', 'eidgenssische', 'sorceryadventure', 'ashalata', 'bloys', 'pewdiepie', 'harmonimix', 'reemma', 'sagarmth', 'prncipe', 'mevlev', 'genisys', 'sssle', 'sporulating', 'pardubicki', '197377', 'bjrk', 'toln', 'raakesh', '2815', 'nephalion', 'tsinchuan', 'actioncomputer', 'kaaka', 'rajeshwara', '19268', 'takepart', 'nelsonfatty', 'mkena', 'extremophilic', 'sabh', 'weebly', 'pinkman', 'syriacaramaic', 'policegiri', 'vietname', 'medlocke', 'kozmic', 'neerad', 'acronymed', 'radaan', 'amricains', 'euphan', 'bentayga', 'mccamus', 'vangsness', 'lyce', 'includedmalcolm', 'srisaila', 'portayed', 'hverungr', 'odsseia', 'alphabetum', 'sephardiportuguese', 'pradhnamantr', 'velsquez', 'trinit', 'noncompulsory', 'rakul', 'belgisch', 'end2001', 'sakurazaka', 'pramos', '198082', 'ikwadur', '570ce', 'chandranudikkunna', 'auerstedt', 'ministr', 'aimovi', 'rgine', 'mrket', '90377', 'hephthlite', 'fancine', 'hypercarnivores', 'ptisseries', 'pithamagan', 'mahomedali', 'rhythmlead', 'comedymystery', 'rachanachk', 'shqipris', 'horm', 'gardenzio', 'cofound', 'zbornak', 'jfj', 'mthq', 'anjez', 'statethe', 'rockatansky', 'lodie', 'alibar', 'sabbtios', 'guiol', 'othelllo', 'damodardas', 'wilusha', 'lakessaint', 'intervencin', 'provena', 'crocetti', 'mayerunited', 'darvette', 'slatoon', 'zwemdokrock', 'venturella', 'pattadhari', 'madnah', 'lawthe', 'jmike', 'tekhnologi', '17751783', '3160', 'ireann', 'hapalochlaena', 'sleyman', 'liebesman', 'garbut', 'heckering', 'heikegani', 'odontoceti', 'bawitdaba', 'magyarorszg', 'kentar', 'wertgesetz', 'e5c4p3', 'felinae', 'mehoz', 'kushano', 'hulkcomics', 'antiquarius', 'maslany', 'frumious', 'potnia', 'khiljis', 'gunday', 'isagoras', 'metalrock', 'latna', 'pavonazzo', 'callaham', 'prascovia', 'krouac', 'zhylaw', 'suzrrounding', 'fargnoli', 'iaro', 'vitamers', 'pulimurugan', 'pirineus', 'aguna', '2780400', 'jtunn', 'perazhagan', 'goundlings', 'guynes', 'sphadikam', 'invasin', 'laadla', 'albumdvd', 'wrnw', 'megadiverse', 'guzmn', '14522', 'waale', 'muntcha', 'euescreen', '064942', 'diocesi', 'matel', 'televizzle', 'saswata', 'nayvadius', 'collge', 'allbum', 'fatts', 'akiro', 'lincolndouglas', 'lnai', 'ciambotta', 'soomaaliya', 'incognegro', 'okovi', 'actionsuspense', 'ghilji', 'predsedatel', 'complicatedly', 'in1266', 'oitnb', 'revested', 'protg', 'titaness', '2918', 'comedymusical', 'astrom', 'hartswood', 'lebris', 'tsagadaina', 'autnoma', 'flotus', 'algrie', 'grentel', 'lawmangambler', 'eqalussuaq', '440s', 'ratm', 'votoms', 'workthe', 'marths', 'snegithiye', 'downington', 'archbasilica', 'alchimista', 'phsis', 'benh', 'dmocratique', 'colllsion', 'leiderdorp', 'phillippine', 'govindudu', 'msw3', '193527', 'boomin', '13676', 'filmsestablished', 'aiso', 'trgovite', 'kylo', '20122013', 'pholegander', 'panthon', 'windstruck', 'heartlight', 'mnika', 'lesane', 'talamh', 'innse', 'yevgenievich', 'eurodisc', 'parasitiformes', 'michiganontario', 'britcom', 'statesstate', 'feautres', 'stefi', 'coopration', '342239', 'televisionseasons', 'nobumoto', 'dramathriller', 'joaqun', 'arbresh', '247365', 'mtley', 'grettel', '18300', 'kospiah', 'megatall', 'charactersalpha', 'sonyatv', 'fictionaction', 'twisleton', 'dezerian', 'earthroad', 'tchin', 'ppth', 'mccubbing', 'unmetathesized', 'stagirus', '2187', 'swri', 'blmis', 'sufet', '05383', 'mazhib', 'hantuchov', 'nuufolau', 'murdocca', 'schwarzgelben', 'airlann', 'parlophonevirgin', 'rockblues', 'cartellone', 'haet', 'huginn', 'jazrah', 'strt', '1454february', 'a530', '570bce', 'euphoriant', 'khaidi', 'schink', 'siclia', 'amazighen', 'lustra', 'ishaqzaade', 'chazelle', 'lamnidae', 'arthron', 'euopean', 'misdeameanor', 'justise', 'sawm', 'kostanski', 'oduvil', 'corinealdi', 'preisser', 'netherrealm', 'wiryeseong', 'taaha', 'justia', 'delevinge', 'earthend', '1h39', 'glusman', 'preevo', 'shahmukhi', 'mageia', 'xpand', 'felkels', 'kielowski', 'adepo', 'telara', 'sereies', 'fdralaw', 'actresssinger', 'leakin', 'bront', 'sakska', 'jemisin', 'czarface', 'hammadids', 'nanjiani', 'russiana', 'gteborg', 'passionada', 'parvorder', 'ratajkowski', 'diazepine', 'bjrn', 'exarchopoulos', 'hayers', 'casanus', 'powerwall', 'jsz', 'serensima', 'trebia', 'hnsel', 'felumlee', 'greutert', 'macola', 'daker', 'slwas', 'namethe', 'rtemis', 'nrnp', 'sarrainodu', 'sheev', 'salky', 'columbias', 'leati', 'susheel', 'varietysketch', 'freki', 'chosn', 'ignatowski', 'modelle', 'lexifier', 'wtan', 'shophet', 'liqour', 'capetonian', 'chomolungma', 'sarayburnu', 'resund', '042', 'trkmenistan', 'machupicchu', '6897', 'junstrom', 'rossiyskoy', 'saala', 'dogsbody', 'byleistr', 'ramn', '20013', 'roahn', 'mtys', 'isced', 'liddi', 'weard', 'spiriti', 'jameka', 'tiein', 'tuinfort', 'reichsfhrer', 'transperceneige', 'gigageyi', 'keneti', 'malliswari', '195455', 'hesher', 'hskd', 'onwumere', 'stageira', '1906march', 'giselli', 'stabbington', 'sheyi', 'andreievich', 'octopoda', 'pirinioak', 'scle', 'mouzakis', 'ibhof', 'siculoamericani', 'siculu', 'culturology', 'hdr10', 'superchannel3', 'dysthymic', 'alloduohangouts', 'ssaro', 'unphotogenic', 'arizonaalternate', 'grosssing', 'coloradoconsolidated', 'rhaeto', 'andalasia', 'nonpersonal', 'rajmund', 'protagonistantihero', 'trksoy', 'itfa', 'preetha', 'tbily', 'oakenshield', 'waymo', 'federaalka', 'qubec', 'borreliosis', 'minnale', 'barlen', 'chamis', 'bablyon', 'quvenzhan', 'xuejzw', 'arige', 'ouehbs', 'pornhub', 'vayadhinile', 'ghazab', '19601961', 'spektors', 'faraldo', 'markovna', 'gadot', 'plinko', 'arrowverse', 'deewaar', 'medc', 'vikander', 'wcwworld', 'mgmua', 'leondis', '7445', 'rockpop', 'popism', 'yedo', 'shqypnishqypnia', '199697', 'apaharan', 'aahey', 'olchin', 'zylka', 'tigrayans', 'monomously', 'wiktincubation', 'stucken', 'marsican', 'pinkava', 'imitiaz', 'shqipri', 'talaiassa', 'jzef', 'shellstrop', 'organizacin', 'kazynski', 'rochen', 'anons', 'mcain', 'ozploitation', 'quinzel', 'dallol', 'hyn', 'ashkay', 'shabakis', '198592', 'srbi', 'giantsbane', 'bastn', 'blask', 'olenna', 'kaminey', 'herohe', 'bijng', 'eminm', 'waluigi', 'skurge', 'pennsylvaani', 'maxiseries', 'palogene', 'helblindi', 'chacn', 'metroxylon', 'babado', 'vavrincova', 'fnke', 'hoofdstedelijk', 'aeia', 'boyega', 'nsai', '64946', 'girlsquad', 'khwarazmian', 'findie', 'broadchurch', 'lngdo', 'rbhip', 'zapatal', 'kniggrtz', 'farcques', 'muammad', 'acacallis', 'lukaenka', 'syncopy', 'palc', 'terayama', 'assaulter', 'muhteem', 'repbrica', 'crimehorror', 'stahelski', 'toshir', 'hasaan', 'devletleri', 'ateker', 'herveaux', 'pyari', 'shqipnishqipnia', 'tankbon', 'machaao', 'mahershala', 'cognitivistic', 'mevln', 'futuresexlovesounds', 'gyal', 'rayana', '6838', 'varenberg', 'whalberg', 'waynebatman', 'cymoedd', 'hopr', 'khatron', 'strategypush', 'vneta', 'kelor', 'szkelys', 'ruco', 'piqad', '1893september', 'abeckaser', 'unnarrated', 'heidkrger', 'rossitano', 'weltschmertz', 'hotaks', 'pictureseight', 'entertainmenttalent', 'wjib', 'belgi', 'hogbonu', 'estvez', 'microbats', 'bwaa', 'novacane', 'ogaklkikekl', 'sbastien', 'minghags', 'allhfull', 'dybala', 'stairsteps', 'harmanpreet', 'keery', '20062007', 'javadd', 'krokidas', 'meganesia', 'sikhi', 'velaiilla', 'siracidis', 'morrer', 'flvios', 'bendinger', 'quackser', 'deutschendorf', 'qsim', 'blackagar', 'cntv', 'worldroad', 'sonuga', 'thrse', 'hatalmak', '238m', 'mellark', 'metathesized', 'matanitu', 'bieberfever', 'oggktn', 'okorafor', 'philosopy', 'ayiti', 'eileanan', 'metalhard', 'kirthar', '931987', 'hallstrm', 'mawln', 'gyllenhal', 'kbenhavn', 'keymh', 'kenzari', 'peders', 'instax', 'ysd', 'outgrossing', 'makedona', 'silkscreening', 'ichnology', 'vansanten', 'hshim', 'bhal', 'lovehate', 'latore', 'shqipria', 'kiranjit', 'filmtv', 'numspa', 'carthg', 'junun', 'supermensch', 'l4yer', 'conation', 'antemasque', 'svizzers', 'nalam', 'normani', 'tardigrade', 'szchenyi', 'atyat', 'a2016', 'dmokirasyaw', 'shintoists', 'tholomew', 'shqip', 'buchannon', 'strus', '1902october', 'dabistn', 'khaanat', 'sambdromo', 'chalkidice', 'nbcdirectv', 'lamna', 'levoamphetamine', '1648195', 'dyssomnias', 'dsseldorf', 'wdan', 'keppa', 'birthyear', 'diskssd', 'vishk', 'molaro', 'ferrah', 'halfman', 'varr', 'diaval', 'amrica', 'kapii', 'saldvar', 'elenchus', 'australinea', 'telsa', 'unerotic', 'vooruzhonnyye', 'passanger', 'galazy', 'dechristianised', 'discothque', 'krabb', 'lucasfilms', 'odeyer', 'stva', 'namastey', 'stacpoole', 'deadmaus', 'turkicized', 'boulange', 'melanija', 'ringz', 'hannibalic', 'brnice', 'raghuvir', 'skodowska', 'uniwersytet', 'angrboa', 'nonflowering', 'pescow', 'othijoth', 'epiccbs', 'prakesh', '1884december', 'prasthanatrayi', '1926february', 'corendon', 'foodstirs', 'stigeweard', 'somniosus', '132524', 'skarsgrd', 'pawe', 'shahjahanabad', 'menama', 'fredspris', 'cryptonym', 'endhiran', 'chiquis', 'paxaxon', 'kaakha', 'singerrhythm', 'phedape', 'muungano', 'fashionclothes', 'supernaturaladam', '19485october', 'tokuro', 'saagar', 'oann', 'popdance', 'tramar', 'doggumentary', '0914918327', 'dragneel', '112077', 'herv', 'localram', 'mesothelae', 'seasonseries', 'wasalu', 'storeapple', 'mahaan', 'cdmx', 'semiticists', 'gabonaise', 'kimitoshi', 'colsefni', 'togolaise', 'hippokrts', 'jacelyn', 'chasta', 'friman', 'ruvuvu', 'hamikdash', 'kelela', 'popcaan', 'saamy', 'checs', 'fesitval', 'resolutionlibya', 'dramasdil', '14159', 'sakunthala', 'ebenazer', 'tsentralni', 'peopleplaces', 'vwalt', 'mantee', 'aestheticization', 'svizzeri', 'yetiyoya', 'gahnawiyogeh', 'abcwb', 'saniyya', 'elfont', 'rigoulot', 'brko', 'ripuwlika', 'douard', 'leian', 'trkiye', 'thysdrus', 'raynold', 'deladis', 'mizuo', 'terreur', 'snowpiercer', 'ganeshananthan', 'poblacht', 'skyrim', '19492', 'ltel', 'ghorid', 'landress', 'umarji', 'burno', 'folasade', 'azrbaycan', 'pizzolatto', 'sureyjar', 'lvovevich', 'heldenbergh', 'uukuhuwa', 'jall', 'wahlberd', 'volodymyrovych', 'dalongdong', 'kinwa', 'ichir', 'dohny', 'oorelithe', 'ladinisch', 'theatreland', 'estn', 'mustan', 'paruvakatru', 'whinehouse', 'thuppakki', 'truva', 'aramayo', 'onak', 'comicgraphic', 'weho', 'athnaia', 'romrio', 'mclarem', 'tawantinsuyu', 'monoethnic', 'quertaro', 'thonglongyai', 'peterare', 'duvre', 'vaako', 'benzies', 'rpebilk', 'swoff', 'lootera', 'lducation', 'venutra', 'fapp', '1908january', 'writerdirector', 'vavrincov', 'unresearched', 'pirineos', 'franais', 'atherectomy', 'geeska', 'missguided', 'hunsrck', '424423', 'dnde', 'bnin', 'nnedi', 'portugus', 'levarr', 'in1971', 'ephthalites', 'andulus', 'victorvictoria', 'frdric', 'natchios', 'parlophon', 'smniyn', 'zwittau', 'poprock', 'breakroom', 'kalvi', 'rodrguez', 'unadapted', 'udden', 'parasomnias', 'ramrez', 'heughan', 'niccals', 'adventureromance', 'kallstadt', 'characterscraig', 'gulln', '1960general', '1895october', 'nickelodean', 'dashev', 'vdova', 'malayalm', '1757july', 'risqu', 'behna', 'mcaloney', 'bloodhoundz', 'cefuroxime', 'delevigne', 'cipramil', 'fogell', '200lr', 'hexalogy', 'extrachromosomal', 'girn', 'tumbos', '430s', 'uviu', 'abccmt', 'onika', 'alxandros', 'hahoodzo', 'mikros', 'pantherine', 'gth', 'abcupn', 'andaluca', 'uluslararas', 'leukos', 'hunagrian', 'fantme', 'dyokovic', 'pennsilfaani', 'stamatina', '103000', 'anastasakis', 'raindog', 'fhrerbunker', 'wuoronos', 'catalanism', 'eastern9', '7290', 'annaeus', 'damul', 'mlanie', 'cludia', '8000m', 'wenrich', 'visegrd', 'cinquime', 'aznaviyn', 'izombie', 'lennonplastic', 'jasarat', 'crochon', 'lycanvampire', 'renesmee', '6789', 'worldteam', 'khadoos', 'migos', 'erdoan', 'yoroiden', 'benzos', 'alecx5', 'thieblot', 'asmweek', 'androgeus', 'nonautonomous', '4dx', 'maganiello', 'ghorids', 'adetuyi', 'skesis', 'raavanan', 'eleveneleven', 'craseonycteridae', '1917june', 'misre', 'zivago', 'usab', 'brachyura', 'mrityudand', 'ds2', 'ojibweanishinaabe', 'vanderwaal', 'swobodny', 'pfaller', 'mysterythriller', 'franaise', 'parasomnia', 'millworth', 'bejawada', 'ramathan', '17075200', 'nawazuddin', 'nx37602', 'chunsoft', 'kouchi', 'stige', 'diemon', 'kror', 'adle', 'kiteboarder', 'vasoline', 'castina', 'nickki', 'gwenevere', 'kmida', 'medianu', 'kandukondain', 'shymalan', 'laufey', '1887december', 'gedei', 'zrich', 'downloadsstreaming', 'buffay', 'philadelphiasan', 'wodeyer', 'mpcv', '1911january', 'bennes', 'contanious', 'draenor', 'bthory', 'mortdecai', 'thirumagal', 'lmites', 'barood', 'kaui', 'amoxycillin', 'bredeweg', 'trogneux', 'programsfacilities', 'madeon', 'kanthaswamy', 'hivju', 'dhoka', 'filmshighest', 'chryses', 'hoechlin', 'cordozar', 'cyclobenzaprine', 'luftschlacht', '187611', 'haster', 'muoz', 'roghachd', 'seavers', 'chornobylska', 'spordes', 'tympanist', 'iikhanate', 'hanala', 'dietes', 'uchronic', 'malayam', 'screencasting', 'khlo', 'temjin', 'sovetskikh', 'pebdani', 'denizi', 'drinkware', 'lopold', 'huffam', 'nokou', 'zakhm', '47000', 'pareia', 'necropolitan', 'dzayer', 'ikwuakor', 'duvemla', 'tekhniyon', 'cild', 'constastine', 'metrocolor', 'paradiseinterscope', 'limbuyakthung', 'ittifak', 'quatoriale', 'penfro', 'kweens', 'rajski', 'splatoon', 'kiiara', 'amrutlal', 'kalaeloa', 'inglfr', 'laumet', 'javaad', 'shmucks', 'witholds', 'dextrorotary', 'multistarrer', 'graphy', 'montorgueil', 'kaluuya', 'curaao', 'auzire', 'caniforms', 'adegboyega', 'lianjie', 'landnmabk', 'katastrofa', 'zaytoven', 'dinkley', 'raasleela', 'flvius', 'pilts', 'vfxlos', 'parouse', 'ruvubu', 'anarchos', 'strabler', 'ocde', 'startford', 'ciminella', 'laroquette', 'hatien', 'gopalkrishna', 'espritu', 'colfseni', 'compono', 'droc', 'prouvno', 'gangaajal', 'zeik', 'obergefell', 'hernndez', 'hermeticus', 'shansabn', 'aisthtik', 'pybrika', 'guanhumara', 'boniamy', 'lewgoy', 'jetskiing', 'systrom', 'hssh', 'kwadjo', 'pachaikili', '3222', 'dippold', 'necrophile', 'singersongwriter', 'allh', 'ncpo', '80md', 'waipounamu', 'annhilative', '118111823', 'navrtilov', 'gunasekar', 'feihong', 'koninkrijk', 'margoyles', '2200s', 'vissarionovich', 'ilgan', 'strannix', '264mpeg', 'meridius', 'flexeril', 'fentanil', 'shofeim', 'stormzy', 'ptros', 'nishikanth', 'zootopia', 'intouchables', 'igos', 'sriti', '187020', 'amphisbaenians', 'enemiesclassic', 'driveand', 'shinichir', '1929september', 'ntas', 'fraternit', 'adventureromantic', 'pranker', 'ryhoravi', 'mccallany', 'mensinger', 'kalbagh', 'pirah', 'cgcg', 'dumberer', 'ogamntril', 'mcquarry', '1658october', 'kerbal', 'mcdj', 'potenze', 'constituio', 'abdomenbelly', 'jedo', '2011the', 'gaaffaa', 'lancme', 'rickricky', 'chiyaan', 'csks', 'browngardt', 'dwards', 'actiondrama', 'tequilana', 'yevna', 'furnier', 'kadannu', 'stateslist', 'caraven', 'roiland', 'kultgen', 'gaulanitis', 'kinrick', 'koreyoshi', 'jamphel', 'akhmadovich', 'atlantiques', 'sthetics', 'negga', 'konungariket', 'padm', 'jnior', 'primettes', 'maracan', 'buress', 'gewest', 'levieva', 'rakshitha', 'ahliyyah', 'naayak', 'coathangers', 'nerruku', 'sguin', 'aoine', 'filmware', 'knipfing', 'circumnavigational', 'frankentstein', 'gurkani', 'goddamnit', 'alliancea', 'andrs', 'behansali', '134340', 'hanot', 'seleo', 'lamniformes', 'chadbon', 'capitalg', 'seanoa', 'tambin', 'moviesoggadu', 'ingis', '1002012', 'erlingen', 'writerproducers', 'humanz', 'conomiques', '2997', 'janardanan', 'respublik', 'homesman', 'norreyjar', 'sotsialisticheskikh', 'gwenivar', 'bokml', 'veteranarian', 'lessmore', 'guine', 'mrton', 'tauar', 'conchr', 'byzantion', 'balama', 'yelich', 'blurryface', 'sadismmasochism', 'tregenna', 'esport', 'coastwest', 'duprate', 'wanaz', 'rakhna', 'cowbois', 'gragir', 'yakthungpan', 'mysticeti', 'okonma', 'kokilaben', 'apcrda', 'radation', '78866', 'styley', 'mebarak', 'dessines', 'lium', 'wladimirowitsch', 'dusick', 'vascularity', 'uchicago', 'dceu', 'evolutionstellar', 'numeronym', 'nonrespiring', 'jareau', 'sundstrm', 'gisondo', '1957september', 'euryphaessa', 'ysafzay', 'mortyis', 'gutirrez', 'mitsuhisa', '3february', 'metonymously', 'beastprince', 'sacudn', 'ellinik', '700billion', 'imageboard', 'braavosi', 'dbut', 'hndrxx', 'menchell', 'shofe', 'xenodice', 'ogglnks', 'shophim', 'issur', 'soyuza', 'an1', 'titnes', 'wildabouts', 'shroom', 'forradalom', 'venesia', 'jimnez', 'shnen', 'larran', 'velraj', 'marmet', 'pikchu', 'ajashe', 'udta', 'travi', 'babett', 'citycounty', 'gjuha', 'imazien', 'jinnahbhai', 'ursid', 'marryman', 'sudheesh', 'herzstein', 'outgrossed', 'misfortunates', 'sistrom', 'selfie', 'koduri', 'scoobert', 'strittu', 'thnardier', 'chhogori', 'tahader', 'urilla', 'royla', 'vernou', '3414', 'raghavendar', 'kjo', 'bubblebath', '18931', 'shabazian', 'ayyapan', 'rankun', 'pyrexia', 'serinda', 'jilla', 'tetrachloroaurate', 'uburundi', 'mlcts', 'castlethe', 'rvolution', 'toriano', 'kltr', 'zugo', 'apollobuurt', 'shid', 'skrts', 'joywave', 'tardises', 'cordant', 'louchie', '663268', 'hunstman', 'mistralian', 'retorically', '14000000', 'bretaigne', 'thirukumaran', 'vegetals', 'dihydroxyphenethylamine', 'anniyan', 'stagiros', 'americanmexican', 'orlans', 'sjikukoku', 'magnoli', 'anjaam', 'nrod', 'djem', 'feirste', 'reflektor', 'silvermist', 'blackhat', 'everdeen', '282005', 'bhubali', 'fegrie', 'universitt', 'brummy', 'chocolaterie', 'farbauti', 'vitria', 'skifflerock', 'harlean', 'mothma', 'ngozie', 'shreier', 'argirolofos', 'finnick', 'achterhuis', 'alleca', 'mxico', 'organizao', '783million', 'pirenus', 'microground', 'jainist', 'oelsen', 'dexithea', 'lvares', 'gamepedia', 'fujistsu', 'iuvents', 'howery', 'lavaughn', 'ianuensis', 'telchines', 'misrables', 'scheinert', 'tessanne', 'wops', 'khng', 'practicer', 'eiza', 'rsca', 'nicktoonsters', 'jakle', 'wyszyski', 'pinciotti', 'baakehir', 'laviscount', 'frbauti', 'cumhuriyeti', 'nortern', 'mvezo', '19408', '165000', 'monsterverse', 'alaipayuthey', 'meldonium', 'satelight', 'heerman', 'amnok', 'robard', 'grkniyn', 'marmel', 'mononymous', 'lamorne', 'riichiro', 'jurez', 'sren', 'antnio', 'himym', 'dominancesubmission', 'brljevic', 'cavliers', 'pinkprint', 'skrein', 'grindeks', 'kapicic', 'reykjavk', 'rpublique', '2008and', 'dizzle', 'okouchi', 'maqil', 'repblica', 'aiib', 'paruvakaatru', 'mualib', 'opetaia', 'karenjit', '1937march', 'pushpull', 'afrq', 'lumires', 'supermodeling', 'lemarr', 'korben', 'ketogetnic', 'e6km', '405212', 'braithwaites', 'belgien', 'preuen', 'espaa', 'lungshan', 'lanscilo', 'ansata', 'cowcinemanx', '1928march', 'provincin', 'pltn', 'heterophyllus', 'laboum', 'statessame', 'emoji', 'sticom', 'wden', 'athn', 'dyssomnia', 'rautela', 'sharmeen', 'charmont', 'lansquenet', 'khabira', 'mrlind', 'mzires', 'stilinski', 'tiwill', 'shjo', 'analeigh', 'amazi', 'liltu', 'franois', 'bawcutt', 'rancholabrean', 'tempchin', 'synni', 'controlla', 'bernardone', 'dushka', 'chronicum', 'bentez', 'merlock', 'hopera', 'raguram', 'fijacin', 'intercommunality', 'andrajos', 'orientates', 'vzquez', 'dtat', 'michd', '062', 'lpez', 'pasipha', 'lment', 'sharbino', 'occultus', 'zinov', 'owstoni', 'gaten', '28251', 'francophonic', 'kupier', 'ballspielverein', 'eswt', 'kalsaif', 'splitsvilla', 'toluid', 'bostonwas', 'vassalised', 'trichechidae', 'sadanah', 's3d', 'universit', 'thandiwe', 'bartolom', 'mrigayaa', 'templom', 'ceelo', 'hatufim', 'mylander', 'peagreen', 'margos', 'paxathipatai', 'dashner', 'mecchi', 'grgory', 'vespasinus', 'nadella', 'chreau', 'rurubu', 'ponvannan', 'grevioux', 'interpunct', 'shaffir', 'leadrhythm', 'oggchang2', 'rodere', 'airhorn', '428427', 'ilkhnn', 'blumhouse', 'regbo', 'caldern', 'bangtan', 'galpagos', 'goliyon', 'disapora', 'dobbels', 'tlhingan', 'gurumukhi', 'squaliformes', 'whlm', 'khant', 'bokenkamp', 'kzponti', 'stagira', 'bornedal', 'perosn', 'mouf', 'packiam', 'eomer', 'mbashe', 'lakeith', 'dafri', 'eugne', 'asgaya', 'muninn', 'kamna', 'aureae', 'titandes', 'kilgrave', 'midthunder', 'labelimprint', 'ragussis', 'fesival', 'dhadakne', 'rasenballsport', 'pouya', 'notetaking', 'skintone', 'trichechus', '281978', 'walkof', 'mller', 'resnn', 'prioritycapitolemi', 'treasurywala', 'cerie', 'docucomedy', '14171701', 'perfeito', 'gayvenue', 'peformed', 'apab', 'chakravyuh', 'johnstad', 'dmos', 'labradar', 'boujee', 'psephocracy', 'hershlag', 'deestablished', 'kingsman', 'pokiri', 'eilleen', 'adug', 'barayn', 'somniosidae', 'elkayem', 'maczinski', 'titanides', 'kniglich', 'crimecomedy', '197071', 'ameriki', '712000', 'igneel', 'anomalisa', 'prolifice1', '312679', 'tannes', 'hafnia', 'bazmee', 'intripp', 'kmpcha', 'ikhthyes', 'mecartin', 'camisky', 'thtivaeltaja', 'leitte', 'voutsinas', '6925', 'caravancamper', 'aics', 'actorfilmmaker', 'nhmc', 'octopodes', 'vijan', 'valleya', 'actressmodels', 'spaihts', 'comhaont', 'hapka', 'dveloppement', 'oznowicz', 'sabbatius', 'guildamerican', 'americancanadian', 'musicassette', 'nattevagten', 'bleistr', '3033', 'kaneki', 'keralam', 'frecheville', 'heshe', 'halkes', 'yakitate', 'canaanitesphoenicians', 'abbrevation', 'kurmul', 'respiring', 'afriikaa', 'crole', 'danceelectronic', 'martn', 'settlemire', 'unpreventable', 'hoozdo', 'mzizima', '4146', 'electronicsalthough', 'afat', 'beitner', 'preuenschlag', 'ogvkwbk', 'dazi', 'supermaninfilmchristopherreeveseries', 'oyetokunbo', 'winterspringpro', 'nkotb', 'phirm', 'mandobass', 'duerre', 'ioustinians', 'pazhanisaamy', 'microcephalus', 'shuru', 'offprequel', 'begium', 'nbcyahoo', 'niptuck', 'hessington', 'bilfawst', 'yavarum', 'ordainer', 'machester', 'polytheismos', 'peela', 'jrmungandr', 'levorotary', 'yuryevna', 'boyapati', 'evano', '330803', 'barnz', 'dtva', 'dtente', 'freebandz', 'supervillian', 'mohabbatein', 'upvotes', 'bongwater', 'seulgi', 'carnivoran', '20092010', 'fumika', 'corymore', 'titanesses', 'bookmemoir', 'mitsukurina', 'risn', 'tcpip', 'gondorff', 'dgarement', '53th', 'alavs', 'toolman', 'aarakshan', 'foamposite', 'sallapam', 'irino', 'romedy', 'kanuni', 'cloptre', 'laferrire', 'geochemically', 'ishk', 'negan', 'pisu', 'killas', 'rhcp', 'jawaharal', 'morphosyntax', 'tont', 'ilejay', 'cap21', 'brothelcasino', 'maedeli', 'fuzzyface', '8848', 'bonas', 'ddlj', 'ciarn', 'boltagon', 'escaton', 'mahachaitya', '196024', 'danielovitch', 'splatstick', '12415', 'shemayon', 'vorsprung', 'romelu', 'ezail', 'portmanteaus', 'sarissas', 'thinkpadthinkcentre', 'djproducer', 'acarina', 'marlens', 'palliating', 'delsin', 'bhaijaan', 'jlb', 'moneysense', 'euxanthius', 'bodison', 'powerfull', 'coccio', 'geethanjali', 'mulit', 'ukuleleist', 'forewent', '096', 'mdcclxxvi', 'semifictional', 'gaytto', 'jakfruit', 'heavensbee', 'robeo', 'atatrk', 'transneptunian', 'bibla', 'choube', 'augello', 'ouisa', 'wbcw', 'mtropole', 'tienne', 'graand', 'yafrika', 'artistwriter']\n"
          ],
          "name": "stdout"
        }
      ]
    },
    {
      "cell_type": "markdown",
      "metadata": {
        "id": "1PH0TbK3De-5"
      },
      "source": [
        "### Encoding with Fasttet\n",
        "\n",
        "\n",
        "\n",
        "\n"
      ]
    },
    {
      "cell_type": "markdown",
      "metadata": {
        "id": "Seebnw4DD15S"
      },
      "source": [
        "#### Encoding Claims and Evidences\n",
        "The creation of the embeddings was done offline, locally in our pc and the resultings embeddings were uploaded to google drive as JSON files.\n",
        "\n",
        "The code below was used for the creations of the embeddings.\n",
        "\n",
        "\n",
        "```\n",
        "# This is formatted as code\n",
        "\n",
        "# To consider Fasttext as encoding model we based on [6][7]\n",
        "\n",
        "###########################################\n",
        "# Installing fasttext\n",
        "###########################################\n",
        "! pip install pytorch-nlp\n",
        "from torchnlp.word_to_vector import FastText  # doctest: +SKIP\n",
        "vectors = FastText(cache='cache')  # doctest: +SKIP\n",
        "embedding_dim = 300\n",
        "\n",
        "###########################################\n",
        "# Creating the embeddings \n",
        "###########################################\n",
        "\n",
        "def get_embeddings_fasttext(df, embedding_fasttext, embedding_ref, embedding_dim):\n",
        "    vocabulary = set([elem for seq in pd.concat([df['claim'],df['evidence']]) for elem in seq])\n",
        "    OOV_tokens = []\n",
        "    if embedding_ref != None:\n",
        "        OOV_tokens = [token for token in vocabulary if token.lower() not in embedding_ref]\n",
        "        embedding_model={key:embedding_fasttext[key].tolist() for key in OOV_tokens}\n",
        "        embedding_model = {**embedding_model, **embedding_ref}\n",
        "    else:   \n",
        "        # only train\n",
        "        embedding_model= {key:embedding_fasttext[key].tolist() for key in vocabulary}        \n",
        "    return embedding_model\n",
        "\n",
        "\n",
        "#Creation of the training set's embeddings\n",
        "embeddings_train = get_embeddings_fasttext(df=df_train, embedding_fasttext = vectors,\n",
        "                                  embedding_ref=None,\n",
        "                                  embedding_dim=embedding_dim)\n",
        "\n",
        "#Creation of the validation set's embeddings\n",
        "embeddings_val = get_embeddings_fasttext(df=df_val, embedding_fasttext = vectors,\n",
        "                                embedding_ref=embeddings_train,\n",
        "                                embedding_dim=embedding_dim)\n",
        "\n",
        "#Creation of the test set's embeddings\n",
        "embeddings_test = get_embeddings_fasttext(df=df_test, embedding_fasttext = vectors,\n",
        "                                 embedding_ref=embeddings_val,\n",
        "                                 embedding_dim=embedding_dim)\n",
        "\n",
        "########################################\n",
        "# Saving the embeddings as JSON files\n",
        "########################################\n",
        "import json\n",
        "\n",
        "with open('emb_train.json', 'w') as fp:\n",
        "    json.dump(embeddings_train, fp)\n",
        "    \n",
        "with open('emb_val.json', 'w') as fp:\n",
        "    json.dump(embeddings_val, fp)\n",
        "    \n",
        "with open('emb_test.json', 'w') as fp:\n",
        "    json.dump(embeddings_test, fp)\n",
        "```\n",
        "\n"
      ]
    },
    {
      "cell_type": "code",
      "metadata": {
        "colab": {
          "base_uri": "https://localhost:8080/"
        },
        "id": "XsMT9y7u9EwL",
        "outputId": "9b565974-4596-4b22-e27f-cd812b76f42e"
      },
      "source": [
        "#########################################\n",
        "#             FASTTEXT \n",
        "#########################################\n",
        "'''\n",
        "Since for problems of memory and also storage we could not create the embeddings with\n",
        "Fasttext here in colab, we proceeded to do it locally in our pc, so we created \n",
        "the embeddings for each split and uploaded them to Google drive as JSON files.\n",
        "'''\n",
        "\n",
        "# Loading fasttext prebuilt embeddings \n",
        "!pip install gdown\n",
        "\n",
        "# Downloading the embeddings from google drive\n",
        "\n",
        "!gdown https://drive.google.com/u/0/uc?id=1P0odOcRB7I-nXWYauTC_7Zv8oge9G5rl&export=download\n",
        "!gdown https://drive.google.com/u/0/uc?id=1t89TiBkM-owAeE8pNiCujnVQv9Dm_rrQ&export=download\n",
        "!gdown https://drive.google.com/u/0/uc?id=1YovBEc85qWb2jxbOBDNm6loKLt18LLEu&export=download\n",
        "\n",
        "\n",
        "# Loading Fasttext embeddings\n",
        "\n",
        "embedding_dim = 300\n",
        "\n",
        "embeddings_train = json.loads(open('emb_train_con_num.json' , 'r').read())\n",
        "embeddings_val = json.loads(open('emb_val_con_num.json' , 'r').read())\n",
        "embeddings_test = json.loads(open('emb_test_con_num.json' , 'r').read())"
      ],
      "execution_count": null,
      "outputs": [
        {
          "output_type": "stream",
          "text": [
            "Requirement already satisfied: gdown in /usr/local/lib/python3.6/dist-packages (3.6.4)\n",
            "Requirement already satisfied: requests in /usr/local/lib/python3.6/dist-packages (from gdown) (2.23.0)\n",
            "Requirement already satisfied: tqdm in /usr/local/lib/python3.6/dist-packages (from gdown) (4.41.1)\n",
            "Requirement already satisfied: six in /usr/local/lib/python3.6/dist-packages (from gdown) (1.15.0)\n",
            "Requirement already satisfied: certifi>=2017.4.17 in /usr/local/lib/python3.6/dist-packages (from requests->gdown) (2020.12.5)\n",
            "Requirement already satisfied: chardet<4,>=3.0.2 in /usr/local/lib/python3.6/dist-packages (from requests->gdown) (3.0.4)\n",
            "Requirement already satisfied: idna<3,>=2.5 in /usr/local/lib/python3.6/dist-packages (from requests->gdown) (2.10)\n",
            "Requirement already satisfied: urllib3!=1.25.0,!=1.25.1,<1.26,>=1.21.1 in /usr/local/lib/python3.6/dist-packages (from requests->gdown) (1.24.3)\n",
            "Downloading...\n",
            "From: https://drive.google.com/u/0/uc?id=1P0odOcRB7I-nXWYauTC_7Zv8oge9G5rl\n",
            "To: /content/emb_train_con_num.json\n",
            "189MB [00:02, 69.6MB/s]\n",
            "Downloading...\n",
            "From: https://drive.google.com/u/0/uc?id=1t89TiBkM-owAeE8pNiCujnVQv9Dm_rrQ\n",
            "To: /content/emb_val_con_num.json\n",
            "198MB [00:02, 74.2MB/s]\n",
            "Downloading...\n",
            "From: https://drive.google.com/u/0/uc?id=1YovBEc85qWb2jxbOBDNm6loKLt18LLEu\n",
            "To: /content/emb_test_con_num.json\n",
            "208MB [00:02, 79.3MB/s]\n"
          ],
          "name": "stdout"
        }
      ]
    },
    {
      "cell_type": "markdown",
      "metadata": {
        "id": "qsAB7ZCwIcQj"
      },
      "source": [
        "# Dataset and Batch Loaders"
      ]
    },
    {
      "cell_type": "markdown",
      "metadata": {
        "id": "dH1Hv6vjaFNH"
      },
      "source": [
        "### Dataset class\n",
        "The `Dataset` class will be used by the `DataLoader` in order to iterate over data during the training / evaluation phase."
      ]
    },
    {
      "cell_type": "code",
      "metadata": {
        "id": "wb77zkyHplZp"
      },
      "source": [
        "class Dataset(torch.utils.data.Dataset):\n",
        "    \"\"\"\n",
        "    Handles the data.\n",
        "    It has two main tasks: encode the data and load it on tensors and, if it is\n",
        "    required, transfer it to the device memory.\n",
        "\n",
        "    Attributes\n",
        "    ----------\n",
        "        data : list of dict\n",
        "            Contains the (encoded) data of the dataset. Each element of the list is a\n",
        "            dictionary that contains as many elements as the number of columns\n",
        "            of the preprocessed DataFrame (by means of the initialization parameters\n",
        "            selected_columns and excluded_columns) passed to the initialization function.\n",
        "            Each element of the dictionary contains a tensor allocated on the\n",
        "            given device.\n",
        "        encoders : dict of dict\n",
        "            Each element of the dictionary contains an encoder (which is itself\n",
        "            a dictionary) for a column of the dataset.\n",
        "        device : torch.device\n",
        "            Device to transfer the tensors to (the ones present in the attribute\n",
        "            data)\n",
        "\n",
        "    Methods\n",
        "    -------\n",
        "        shuffle():\n",
        "            Shuffle the data present in the attribute data.\n",
        "    \"\"\"\n",
        "    def __init__(self, df, input_columns, label_column, index_column, encoders, device=torch.device('cpu')):\n",
        "        \"\"\"\n",
        "        Makes use of the DataFrame to build the data.\n",
        "        In particular the DataFrame gets preprocessed by means of selected_columns\n",
        "        and excluded_columns and then each row of the remaining DataFrame gets\n",
        "        inserted in the data by transforming each of its row in a dictionary\n",
        "        containing at each key the DataFrame's column's content casted to a tensor\n",
        "        which is then moved of the specified device.\n",
        "\n",
        "        Parameters\n",
        "        ----------\n",
        "            df : DataFrame\n",
        "                DataFrame over which the dataset will be built.\n",
        "            input_columns : list of str\n",
        "            label_column : str\n",
        "            index_column : str\n",
        "            encoders : dict of dict\n",
        "                It'a dictionary that have as keys the columns of the DataFrame\n",
        "                and hold the encoders for each column.\n",
        "            device : torch.device, torch.device('cpu') by default\n",
        "                Device where the dataset will be placed to.\n",
        "        \"\"\"\n",
        "        self.encoders = encoders\n",
        "        self.device = device\n",
        "\n",
        "        df = df[input_columns+[label_column]+[index_column]]\n",
        "\n",
        "        #Encode the data and store it on the given device\n",
        "        self.data = [{col : torch.tensor(int(row[col]) if col==index_column #index column\n",
        "                                         else self.encoders[col][row[col]] if col==label_column #label column\n",
        "                                         else [self.encoders[col][elem] for elem in row[col]], #input columns\n",
        "                                         dtype=torch.double if col in input_columns else torch.long,\n",
        "                                         device=self.device, requires_grad=False) \\\n",
        "                      for col in df.columns} \\\n",
        "                     for idx, row in tqdm(df.iterrows(), total=df.shape[0])]\n",
        "\n",
        "        \n",
        "\n",
        "    def shuffle(self):\n",
        "        \"\"\"\n",
        "        Shuffle data.\n",
        "        \"\"\"\n",
        "        random.shuffle(self.data)\n",
        "    def __len__(self):\n",
        "        \"\"\"\n",
        "        Returns the length of data.\n",
        "        \"\"\"\n",
        "        return len(self.data)\n",
        "#        return self.len_data\n",
        "    def __getitem__(self, idx):\n",
        "        \"\"\"\n",
        "        Get the item at the given index\n",
        "\n",
        "        Parameters\n",
        "        ----------\n",
        "            idx : int\n",
        "                Index of the object contained in data that has to be returned\n",
        "        Returns\n",
        "        -------\n",
        "            element : dict\n",
        "                The element of data at idx\n",
        "        \"\"\"\n",
        "        return self.data[idx]\n",
        "#        return {col:self.data[col][idx] for col in self.data.keys()}"
      ],
      "execution_count": null,
      "outputs": []
    },
    {
      "cell_type": "code",
      "metadata": {
        "colab": {
          "base_uri": "https://localhost:8080/",
          "height": 315,
          "referenced_widgets": [
            "483d2fbfa6814105a97716e8857e6420",
            "4e4e7b9dd22e4774b158ab5b9078e7e3",
            "08ce9bbcf8d5405eab0fb25cd061e5bb",
            "e352e5de26844131b534c2297aa4cadf",
            "afcb138c8c954823a5e9d4935e82998a",
            "266777441ae446f09d510bfe94233f95",
            "503be5e182794fd395ef711e96952b3f",
            "2fd49cbb6d734a4c998fa5d4fe581748",
            "f3a05272c7474e37811c709cbf4eddef",
            "a82c8d1d50e84135851388620b665d64",
            "42c3082341a54615b00f707443b6cd44",
            "afda72dfa9684646bd03f52856c263ee",
            "81f47c6efe7d4f89a8991cda844a4f91",
            "784c796011424e3c80fe61da9348c5c4",
            "0bd74cebf1a5436dafce98ed88f01ca5",
            "94b65babfe1643038fb37d98f8392100",
            "83673ca101ba4ac8bad480e1db4562de",
            "ff39171c0641426e98a948f7f6cda211",
            "0f6ea1b57d704784bfcc4ed192fd27cd",
            "66b07e4fd14b4739ae4b65558b8703d3",
            "8fbd56668c5a437ebf36d9166ea67219",
            "5b49bc2315944554946aea6fc0f9288d",
            "c966f2ceb1eb4e8a8672b1c93fd839df",
            "5ea6f895e0a04697baf75917d999368e"
          ]
        },
        "id": "Cb40-X3i0bM8",
        "outputId": "1c621ff7-fee6-43d0-e4c3-9e1a5e4c6ba0"
      },
      "source": [
        "if 'training_dataset' in globals():\n",
        "    print('Deallocating training_dataset ...')\n",
        "    del training_dataset\n",
        "    gc.collect()\n",
        "    time.sleep(10.)\n",
        "    print('Done\\n')\n",
        "\n",
        "if 'validation_dataset' in globals():\n",
        "    print('Deallocating validation_dataset ...')\n",
        "    del validation_dataset\n",
        "    gc.collect()\n",
        "    time.sleep(10.)\n",
        "    print('Done\\n')\n",
        "\n",
        "if 'test_dataset' in globals():\n",
        "    print('Deallocating test_dataset ...')\n",
        "    del test_dataset\n",
        "    gc.collect()\n",
        "    time.sleep(10.)\n",
        "    print('Done\\n')\n",
        "\n",
        "\n",
        "print('Preparing training set ...')\n",
        "training_dataset = Dataset(df_train,\n",
        "                           input_columns = ['claim', 'evidence'],\n",
        "                           label_column = 'label',\n",
        "                           index_column='id_claim',\n",
        "                           encoders={'claim':embeddings_train, 'evidence':embeddings_train, 'label':label_to_encoding},\n",
        "                           device=device)\n",
        "print('Done\\n')\n",
        "print('Preparing validation set ...')\n",
        "validation_dataset = Dataset(df_val,\n",
        "                             input_columns = ['claim', 'evidence'],\n",
        "                             label_column = 'label',\n",
        "                             index_column='id_claim',\n",
        "                             encoders={'claim':embeddings_val, 'evidence':embeddings_val, 'label':label_to_encoding},\n",
        "                             device=device)\n",
        "print('Done\\n')\n",
        "print('Preparing test set ...')\n",
        "test_dataset = Dataset(df_test,\n",
        "                       input_columns = ['claim', 'evidence'],\n",
        "                       label_column = 'label',\n",
        "                       index_column='id_claim',\n",
        "                       encoders={'claim':embeddings_test, 'evidence':embeddings_test, 'label':label_to_encoding},\n",
        "                       device=device)\n",
        "print('Done')"
      ],
      "execution_count": null,
      "outputs": [
        {
          "output_type": "stream",
          "text": [
            "Preparing training set ...\n"
          ],
          "name": "stdout"
        },
        {
          "output_type": "display_data",
          "data": {
            "application/vnd.jupyter.widget-view+json": {
              "model_id": "483d2fbfa6814105a97716e8857e6420",
              "version_minor": 0,
              "version_major": 2
            },
            "text/plain": [
              "HBox(children=(FloatProgress(value=0.0, max=121707.0), HTML(value='')))"
            ]
          },
          "metadata": {
            "tags": []
          }
        },
        {
          "output_type": "stream",
          "text": [
            "\n",
            "Done\n",
            "\n",
            "Preparing validation set ...\n"
          ],
          "name": "stdout"
        },
        {
          "output_type": "display_data",
          "data": {
            "application/vnd.jupyter.widget-view+json": {
              "model_id": "f3a05272c7474e37811c709cbf4eddef",
              "version_minor": 0,
              "version_major": 2
            },
            "text/plain": [
              "HBox(children=(FloatProgress(value=0.0, max=7165.0), HTML(value='')))"
            ]
          },
          "metadata": {
            "tags": []
          }
        },
        {
          "output_type": "stream",
          "text": [
            "\n",
            "Done\n",
            "\n",
            "Preparing test set ...\n"
          ],
          "name": "stdout"
        },
        {
          "output_type": "display_data",
          "data": {
            "application/vnd.jupyter.widget-view+json": {
              "model_id": "83673ca101ba4ac8bad480e1db4562de",
              "version_minor": 0,
              "version_major": 2
            },
            "text/plain": [
              "HBox(children=(FloatProgress(value=0.0, max=7189.0), HTML(value='')))"
            ]
          },
          "metadata": {
            "tags": []
          }
        },
        {
          "output_type": "stream",
          "text": [
            "\n",
            "Done\n"
          ],
          "name": "stdout"
        }
      ]
    },
    {
      "cell_type": "markdown",
      "metadata": {
        "id": "I8ST_DZCaZc3"
      },
      "source": [
        "### BatchBuilder class\n",
        "The `BatchBuilder` class will be used to act as `collate_fn` parameter of the DataLoader class.<br>\n",
        "Its aim is to stack the data retrieved from a dataset by column and to pad it by the length of the longest sequence present in the batch."
      ]
    },
    {
      "cell_type": "code",
      "metadata": {
        "id": "kWdP0zKepnxa"
      },
      "source": [
        "#This class will be passed to the DataLoader as collate_fn to build the batches\n",
        "class BatchBuilder(object):\n",
        "    \"\"\"\n",
        "    Implements the batching function.\n",
        "    Starting from a list of Dataset's elements it builds a padded batch.\n",
        "\n",
        "    Attributes\n",
        "    ----------\n",
        "        input_columns: list of str\n",
        "            Name of the input columns.\n",
        "        label_column: str\n",
        "            Name of the label's column.\n",
        "        index_column: str\n",
        "            Name of the column that holds the indices used to univocally identify\n",
        "            the samples.\n",
        "    Methods\n",
        "    -------\n",
        "        __call__(batch) :\n",
        "            Implements the actual batching function.\n",
        "    \"\"\"\n",
        "    def __init__(self, input_columns, label_column, index_column):\n",
        "        self.input_columns = input_columns\n",
        "        self.label_column = label_column\n",
        "        self.index_column = index_column\n",
        "\n",
        "    def __call__(self, batch):\n",
        "        \"\"\"\n",
        "        Implements the collate_fn function.\n",
        "        It has as parameter a list of elements of the class Dataset.\n",
        "        For each batch the length of each elements gets padded to the length\n",
        "        of the element of the maximum length within the same batch.\n",
        "\n",
        "        Parameters\n",
        "        ----------\n",
        "            batch : list of dict\n",
        "        Returns\n",
        "        -------\n",
        "            packed_batch : torch.nn.utils.rnn.PackedSequence\n",
        "               packed batch.\n",
        "        \"\"\"\n",
        "        packed_batch = {col: torch.nn.utils.rnn.pack_sequence([elem[col] for elem in batch], enforce_sorted=False) \\\n",
        "                        for col in self.input_columns}\n",
        "        \n",
        "        packed_batch[self.label_column] = torch.stack([elem[self.label_column] for elem in batch]).view(-1,1)\n",
        "        packed_batch[self.index_column] = torch.stack([elem[self.index_column] for elem in batch]).view(-1,1)\n",
        "\n",
        "        return packed_batch"
      ],
      "execution_count": null,
      "outputs": []
    },
    {
      "cell_type": "code",
      "metadata": {
        "id": "zJrnanoyJEtY"
      },
      "source": [
        "batch_size = 128\n",
        "\n",
        "#Maximum number of tokens in both claim and evidence\n",
        "max_tokens = max([row[col].shape[0] for row in training_dataset.data+validation_dataset.data+test_dataset.data for col in ['claim','evidence']])\n",
        "\n",
        "\n",
        "batch_builder = BatchBuilder(input_columns=['claim','evidence'],\n",
        "                             label_column='label',\n",
        "                             index_column='id_claim')\n",
        "\n",
        "\n",
        "train_batches = torch.utils.data.DataLoader(training_dataset,\n",
        "                                            batch_size=batch_size,\n",
        "                                            shuffle=True,\n",
        "                                            collate_fn=batch_builder)\n",
        "\n",
        "val_batches = torch.utils.data.DataLoader(validation_dataset,\n",
        "                                          batch_size=batch_size,\n",
        "                                          shuffle=True,\n",
        "                                          collate_fn=batch_builder)\n",
        "\n",
        "test_batches = torch.utils.data.DataLoader(test_dataset,\n",
        "                                           batch_size=batch_size,\n",
        "                                           shuffle=False,\n",
        "                                           collate_fn=batch_builder)"
      ],
      "execution_count": null,
      "outputs": []
    },
    {
      "cell_type": "markdown",
      "metadata": {
        "id": "7tVELqGCGUEw"
      },
      "source": [
        "# Training Functionalities"
      ]
    },
    {
      "cell_type": "markdown",
      "metadata": {
        "id": "RS51A655PEJ9"
      },
      "source": [
        "### Training Class"
      ]
    },
    {
      "cell_type": "code",
      "metadata": {
        "id": "BWSZX3mVGv1O"
      },
      "source": [
        "from sklearn.metrics import accuracy_score, f1_score, recall_score, precision_score\n",
        "\n",
        "class Train():\n",
        "    \"\"\"\n",
        "    Implementation of the training loop\n",
        "\n",
        "    Attributes\n",
        "    ----------\n",
        "        model : torch.nn.Module\n",
        "        loss_function : torch.nn.Module\n",
        "        optimizer : torch.optim.Optimizer\n",
        "        lr_scheduler : torch.optim.lr_scheduler._LRScheduler or object, None by default\n",
        "        lt_scheduler_metric : bool, False by default\n",
        "            If true then the validation loss is passed to the lr_scheduler as metric.\n",
        "        state_path : str, 'Assignment3-model.pt' by default\n",
        "            The path where to save the model's state.\n",
        "        return_best_model : bool, True by default\n",
        "            If true before the ending of the training loop function gets loaded\n",
        "            in memory the model with the best configuration found so far.\n",
        "\n",
        "    Methods\n",
        "    -------\n",
        "        epoch_time(start_time, end_time):\n",
        "            Prints the elapsed time between the start of the epoch and its end.\n",
        "        train(iterator, is_train=True):\n",
        "            Training function.\n",
        "        evaluate(iterator):\n",
        "            Evaluation function.\n",
        "        save_state():\n",
        "            Save the state of the training.\n",
        "        load_state(load_model_only=False):\n",
        "            Load the last saved state of the training.\n",
        "        get_measurements(labels, predictions, set_label):\n",
        "            Compute accuracy, f1-macro, precision and recall between labels and\n",
        "            predictions.\n",
        "        get_compound_labels_and_predictions(id_claim, labels, predictions):\n",
        "            Groups instances holding the same id_claim\n",
        "        __call__(train_iterator, valid_iterator, verbose=True):\n",
        "            Implementation of the training loop.\n",
        "    \"\"\"\n",
        "    measurements = ['acc', 'f1', 'recall', 'precision']\n",
        "\n",
        "    def __init__(self, model, loss_function, optimizer, lr_scheduler=None, lr_scheduler_metric=False,\n",
        "                 state_path='Assignment3-model.pt', return_best_model=True):\n",
        "        self.model = model\n",
        "        self.loss_function = loss_function\n",
        "        self.optimizer = optimizer\n",
        "        self.lr_scheduler = lr_scheduler\n",
        "        self.lr_scheduler_metric = lr_scheduler_metric\n",
        "        self.state_path = state_path\n",
        "        self.return_best_model = return_best_model\n",
        "\n",
        "\n",
        "    def epoch_time(self, start_time, end_time):\n",
        "        \"\"\"\n",
        "        Compute the elapsed time between two given measurements.\n",
        "\n",
        "        Parameters\n",
        "        ----------\n",
        "            start_time\n",
        "                Beginning of the measurament.\n",
        "            end_time\n",
        "                Ending of the measurament.\n",
        "        Returns\n",
        "        -------\n",
        "            elapsed_mins :\n",
        "                Elapsed minutes.\n",
        "            elapsed_secs :\n",
        "                Elapsed seconds.\n",
        "\n",
        "        \"\"\"\n",
        "        elapsed_time = end_time - start_time\n",
        "        elapsed_mins = int(elapsed_time / 60)\n",
        "        elapsed_secs = int(elapsed_time - (elapsed_mins * 60))\n",
        "        return elapsed_mins, elapsed_secs\n",
        "\n",
        "\n",
        "    def train(self, iterator, is_train=True):\n",
        "        \"\"\"\n",
        "        Training function which has been adapted to be used also for\n",
        "        validation.\n",
        "\n",
        "        Parameters\n",
        "        ----------\n",
        "            iterator: SimpleIterator\n",
        "                Dataset on which perform the training / validation.\n",
        "            is_train : bool, True by default\n",
        "\n",
        "        Returns\n",
        "        -------\n",
        "            Loss, labels, prediction and indices of the input.\n",
        "        \"\"\"\n",
        "        labels_epoch = []\n",
        "        predictions_epoch = []\n",
        "        id_claim_epoch = []\n",
        "\n",
        "        epoch_loss = 0\n",
        "        \n",
        "        if is_train:\n",
        "            self.model.train()\n",
        "        else:\n",
        "            self.model.eval()\n",
        "\n",
        "        with torch.set_grad_enabled(is_train):\n",
        "            for batch in tqdm(iterator):\n",
        "                claim = batch['claim']\n",
        "                evidence = batch['evidence']\n",
        "                label = batch['label']\n",
        "                id_claim = batch['id_claim']\n",
        "                \n",
        "                if is_train:\n",
        "                    self.optimizer.zero_grad()\n",
        "                \n",
        "                #[batch_size, num_classes]\n",
        "                predictions = self.model(claim, evidence)\n",
        "                \n",
        "                #[batch_size]\n",
        "                labels_epoch.append(label.view(-1))\n",
        "                predictions_epoch.append(predictions.argmax(dim=1).view(-1))\n",
        "                id_claim_epoch.append(id_claim.view(-1))\n",
        "                \n",
        "                loss = self.loss_function(predictions, label.view(-1))\n",
        "                \n",
        "                if is_train:\n",
        "                    loss.backward()\n",
        "                    self.optimizer.step()\n",
        "                \n",
        "                epoch_loss += loss.item()\n",
        "\n",
        "            \n",
        "        return epoch_loss / len(iterator), torch.cat(labels_epoch), \\\n",
        "               torch.cat(predictions_epoch), torch.cat(id_claim_epoch)\n",
        "\n",
        "\n",
        "    def evaluate(self, iterator):\n",
        "        \"\"\"\n",
        "        Compute the loss and accuracy over the validation set.\n",
        "\n",
        "        Parameters\n",
        "        ----------\n",
        "            iterator : SimpleIterator\n",
        "                Dataset on which perform the validation.\n",
        "        Returns\n",
        "        -------\n",
        "            Loss, labels, prediction and indices of the input.\n",
        "        \"\"\"\n",
        "        return self.train(iterator, is_train=False)\n",
        "\n",
        "    def save_state(self):\n",
        "        \"\"\"\n",
        "        Save the current state of the training procedure.\n",
        "        \"\"\"\n",
        "        torch.save({'model_state_dict':self.model.state_dict(),\n",
        "                    'optimizer_state_dict':self.optimizer.state_dict(),\n",
        "                    'lr_scheduler_state_dict':self.lr_scheduler.state_dict() if self.lr_scheduler is not None else None,\n",
        "                    'best_epoch':self.best_epoch,\n",
        "                    'best_valid_acc':self.best_valid_acc,\n",
        "                    }, self.state_path)\n",
        "        \n",
        "    def load_state(self, load_model_only=False):\n",
        "        \"\"\"\n",
        "        Load the last saved training's state.\n",
        "\n",
        "        Parameters\n",
        "        ----------\n",
        "            load_model_only : bool, False by default\n",
        "                If True it will be loaded only the model, the best_epoch and\n",
        "                the best valid_accuracy (The latter 2 only for visualization purposes).\n",
        "        \"\"\"\n",
        "        checkpoint = torch.load(self.state_path)\n",
        "        self.model.load_state_dict(checkpoint['model_state_dict'])\n",
        "        self.best_epoch = checkpoint['best_epoch']\n",
        "        self.best_valid_acc = checkpoint['best_valid_acc']\n",
        "\n",
        "        if load_model_only:\n",
        "            return\n",
        "\n",
        "        self.optimizer.load_state_dict(checkpoint['optimizer_state_dict'])\n",
        "        if self.lr_scheduler is not None:\n",
        "            self.lr_scheduler.load_state_dict(checkpoint['lr_scheduler_state_dict'])\n",
        "\n",
        "        self.train_loss_history = self.train_loss_history[:self.best_epoch+1]\n",
        "        self.valid_loss_history = self.valid_loss_history[:self.best_epoch+1]\n",
        "        self.train_measurements = self.train_measurements[:self.best_epoch+1]\n",
        "        self.valid_measurements = self.valid_measurements[:self.best_epoch+1]\n",
        "        self.train_measurements_comp = self.train_measurements_comp[:self.best_epoch+1]\n",
        "        self.valid_measurements_comp = self.valid_measurements_comp[:self.best_epoch+1]\n",
        "\n",
        "\n",
        "    def get_measurements(self, labels, predictions, set_label):\n",
        "        \"\"\"\n",
        "        Compute accuracy, f1-macro, precision and recall between labels and\n",
        "        predictions.\n",
        "\n",
        "        Parameters\n",
        "        ----------\n",
        "            labels : numpy.ndarray\n",
        "            predictons : numpy.ndarray\n",
        "            set_label : str\n",
        "                String used to identify the name of the set which labels and\n",
        "                predictions belong to (used for printing).\n",
        "        Returns\n",
        "        -------\n",
        "            Dictionary containing accuracy, f1-macro, recall and precision\n",
        "        \"\"\"\n",
        "        #accuracy\n",
        "        acc = accuracy_score(labels, predictions)\n",
        "        #f1\n",
        "        f1 = f1_score(labels, predictions, average='macro')\n",
        "        #recall\n",
        "        recall = recall_score(labels, predictions, average='macro')\n",
        "        #precision\n",
        "        precision = precision_score(labels, predictions, average='macro')\n",
        "\n",
        "        print(f'\\t{set_label} Acc: {acc*100:.2f}% | {set_label} F1: {f1:.3f} | '\\\n",
        "                f'{set_label} Rec: {recall:.3f} | {set_label} Prec: {precision:.3f}')\n",
        "\n",
        "        return {key:val for key,val in zip(Train.measurements, [acc, f1, recall, precision])}\n",
        "\n",
        "\n",
        "    def get_compound_labels_and_predictions(self, id_claim, labels, predictions):\n",
        "        \"\"\"\n",
        "        Group by labels and predictions according to id_claim\n",
        "\n",
        "        Parameters\n",
        "        ----------\n",
        "            id_claim : numpy.ndarray\n",
        "            labels : numpy.ndarray\n",
        "            predictons : numpy.ndarray\n",
        "        Returns\n",
        "        -------\n",
        "            Grouped labels and predictions\n",
        "        \"\"\"\n",
        "        group = np.concatenate([id_claim[:,None], labels[:,None], predictions[:,None]], axis=1)\n",
        "        group= group[np.argsort(group[:,0]),:]\n",
        "        group = np.split(group[:,1:], np.unique(group[:,0], return_index=True)[1][1:])\n",
        "\n",
        "        grouped_labels = [preds_group[0][0] for preds_group in group]\n",
        "        voting = [max(sorted(list(set([p for _,p in preds_group]))), key=[p for _,p in preds_group].count)\n",
        "                  for preds_group in group]\n",
        "\n",
        "        return grouped_labels, voting\n",
        "\n",
        "\n",
        "    def __call__(self, num_epochs, train_iterator, valid_iterator, init_model=True):\n",
        "        \"\"\"\n",
        "        Implementation of the training loop.\n",
        "\n",
        "        Parameters\n",
        "        ----------\n",
        "            num_epochs : int\n",
        "            train_iterator : SimpleIterator\n",
        "                Iterator containing the training data.\n",
        "            valid_iterator : SimpleItarator\n",
        "                Iterator containing the validation data.\n",
        "            init_model : bool, True by default\n",
        "                If True the model gets initialized before the execution of the training loop.\n",
        "        \"\"\"\n",
        "        if init_model:\n",
        "            print('Parameters Initialization ...')\n",
        "            self.model.init_params()\n",
        "            print('Done\\n')\n",
        "\n",
        "        self.train_iterator = train_iterator\n",
        "        self.valid_iterator = valid_iterator\n",
        "\n",
        "        self.labels_train, self.predictions_train, self.labels_valid, self.predictions_valid = [],[],[],[]\n",
        "\n",
        "        print('Best validation accuracy initialization ...')\n",
        "        _, labels_valid, predictions_valid, _ = self.evaluate(valid_iterator)\n",
        "        self.best_valid_acc = accuracy_score(labels_valid.cpu().detach().numpy(),\n",
        "                                             predictions_valid.cpu().detach().numpy())\n",
        "        print('Done\\n')\n",
        "        self.best_epoch = -1\n",
        "\n",
        "        self.train_loss_history, self.valid_loss_history = [],[]\n",
        "        self.train_measurements, self.valid_measurements = [],[]\n",
        "        self.train_measurements_comp, self.valid_measurements_comp = [],[]\n",
        "\n",
        "        #Save the initial state\n",
        "        self.save_state()\n",
        "\n",
        "        try:\n",
        "            print('Beginning training procedure\\n')\n",
        "            for epoch in range(num_epochs):\n",
        "\n",
        "                start_time = time.time()\n",
        "                \n",
        "                train_loss, labels_train, predictions_train, id_claim_train = self.train(train_iterator)\n",
        "                valid_loss, labels_valid, predictions_valid, id_claim_valid = self.evaluate(valid_iterator)\n",
        "                \n",
        "                end_time = time.time()\n",
        "\n",
        "                epoch_mins, epoch_secs = self.epoch_time(start_time, end_time)\n",
        "\n",
        "\n",
        "                #measurements:\n",
        "                print(f'Epoch: {epoch+1:02} | Epoch Time: {epoch_mins}m {epoch_secs}s')\n",
        "                print(f'\\tTrain Loss: {train_loss:.3f}')\n",
        "                print(f'\\tValid Loss: {valid_loss:.3f}')\n",
        "\n",
        "\n",
        "                labels_train = labels_train.cpu().detach().numpy()\n",
        "                predictions_train = predictions_train.cpu().detach().numpy()\n",
        "                labels_valid = labels_valid.cpu().detach().numpy()\n",
        "                predictions_valid = predictions_valid.cpu().detach().numpy()\n",
        "                id_claim_train = id_claim_train.cpu().detach().numpy()\n",
        "                id_claim_valid = id_claim_valid.cpu().detach().numpy()\n",
        "\n",
        "                print(f'Normal measurements:')\n",
        "                self.train_measurements.append(self.get_measurements(labels_train, predictions_train, 'Train'))\n",
        "                self.valid_measurements.append(self.get_measurements(labels_valid, predictions_valid, 'Valid'))\n",
        "\n",
        "                valid_acc = self.valid_measurements[-1]['acc']\n",
        "\n",
        "\n",
        "                grouped_train_labels, train_voting = self.get_compound_labels_and_predictions(id_claim_train, labels_train, predictions_train)\n",
        "                grouped_valid_labels, valid_voting = self.get_compound_labels_and_predictions(id_claim_valid, labels_valid, predictions_valid)\n",
        "\n",
        "                print(f'Compound measurements:')\n",
        "                self.train_measurements_comp.append(self.get_measurements(grouped_train_labels, train_voting, 'Train'))\n",
        "                self.valid_measurements_comp.append(self.get_measurements(grouped_valid_labels, valid_voting, 'Valid'))\n",
        "\n",
        "\n",
        "                if valid_acc > self.best_valid_acc:\n",
        "                    self.best_valid_acc = valid_acc\n",
        "                    self.best_epoch = epoch\n",
        "                    #Save the training state corresponding to the best prediction\n",
        "                    #found so far\n",
        "                    self.save_state()\n",
        "\n",
        "                #Update the learining rate\n",
        "                if self.lr_scheduler is not None:\n",
        "                    current_lr = self.optimizer.param_groups[0]['lr']\n",
        "                    if not self.lr_scheduler_metric:\n",
        "                        self.lr_scheduler.step()\n",
        "                    else:\n",
        "                        self.lr_scheduler.step(valid_acc)\n",
        "                    next_lr = self.optimizer.param_groups[0]['lr']\n",
        "                    print(f'lr: {current_lr} --> {next_lr}')\n",
        "\n",
        "                self.train_loss_history.append(train_loss)\n",
        "                self.valid_loss_history.append(valid_loss)\n",
        "\n",
        "        #In case the execution gets interrupted before its natural ending the last\n",
        "        #saved training's state will be loaded into memory\n",
        "        except KeyboardInterrupt:\n",
        "            print('\\n\\nExecution Interrupted')\n",
        "            print('Resuming from the previous best epoch ...')\n",
        "            self.load_state()\n",
        "            print('Loaded model at epoch {}, and with validation accuracy of {}%'.format(self.best_epoch+1,self.best_valid_acc*100))\n",
        "\n",
        "        else:\n",
        "            #If self.return_best_model is True then at the end of the execution of the training loop\n",
        "            #it will be loaded on the model the best found one during the training procedure.\n",
        "            if self.return_best_model:\n",
        "                print('\\n\\nLoading the model with the best validation accuracy ...')\n",
        "                self.load_state(load_model_only=True)\n",
        "                print('Model loaded with results of epoch {} and with validation accuracy of {}%'.format(self.best_epoch+1,self.best_valid_acc*100))\n",
        "\n",
        "        #Remove the folder where the training state is located\n",
        "        os.remove(self.state_path)\n",
        "\n",
        "\n",
        "    def plot(self, ax, x, y_train, y_valid, title):\n",
        "        ax.plot(x, y_train, label='training')\n",
        "        ax.plot(x, y_valid, label='validation')\n",
        "        ax.legend()\n",
        "        try:\n",
        "            ax.xlabel('epoch')\n",
        "            ax.ylabel(title.lower())\n",
        "            ax.title(title)\n",
        "        except:\n",
        "            ax.set_xlabel('epoch')\n",
        "            ax.set_ylabel(title.lower())\n",
        "            ax.set_title(title)\n",
        "        \n",
        "\n",
        "    def display_results(self):\n",
        "        \"\"\"\n",
        "        Plot the history of the loss, accuracy, f1-macro, precision and recall\n",
        "        (both as normal measurements and the grouped one).\n",
        "        \"\"\"\n",
        "        print('\\nBest validation accuracy found at epoch {}: {:.4f}%'.format(self.best_epoch+1,self.best_valid_acc*100))\n",
        "\n",
        "        plt.figure()\n",
        "        self.plot(plt, list(range(len(self.train_loss_history))),\n",
        "                  self.train_loss_history, self.valid_loss_history,\n",
        "                  title='Loss')\n",
        "        plt.show()\n",
        "\n",
        "\n",
        "        num_epochs_ax = list(range(len(self.train_measurements)))\n",
        "\n",
        "        print('\\nNormal measurements')\n",
        "        train_measurements ={col:[em[col] for em in self.train_measurements] for col in Train.measurements}\n",
        "        valid_measurements ={col:[em[col] for em in self.valid_measurements] for col in Train.measurements}\n",
        "\n",
        "        fig, ((ax_acc, ax_f1),(ax_rec, ax_prec)) = plt.subplots(2, 2, figsize=(13.3, 9.0))\n",
        "        self.plot(ax_acc, num_epochs_ax,\n",
        "                  train_measurements['acc'], valid_measurements['acc'],\n",
        "                  title='Accuracy')\n",
        "        self.plot(ax_f1, num_epochs_ax,\n",
        "                  train_measurements['f1'], valid_measurements['f1'],\n",
        "                  title='F1-macro')\n",
        "        self.plot(ax_rec, num_epochs_ax,\n",
        "                  train_measurements['recall'], valid_measurements['recall'],\n",
        "                  title='Recall')\n",
        "        self.plot(ax_prec, num_epochs_ax,\n",
        "                  train_measurements['precision'], valid_measurements['precision'],\n",
        "                  title='Precision')\n",
        "        plt.show()\n",
        "\n",
        "        print('\\nCompound measurements')\n",
        "        train_measurements_comp ={col:[em[col] for em in self.train_measurements_comp] for col in Train.measurements}\n",
        "        valid_measurements_comp ={col:[em[col] for em in self.valid_measurements_comp] for col in Train.measurements}\n",
        "\n",
        "        fig, ((ax_acc_comp, ax_f1_comp),(ax_rec_comp, ax_prec_comp)) = plt.subplots(2, 2, figsize=(13.3, 9.0))\n",
        "        self.plot(ax_acc_comp, num_epochs_ax,\n",
        "                  train_measurements_comp['acc'], valid_measurements_comp['acc'],\n",
        "                  title='Accuracy')\n",
        "        self.plot(ax_f1_comp, num_epochs_ax,\n",
        "                  train_measurements_comp['f1'], valid_measurements_comp['f1'],\n",
        "                  title='F1-macro')\n",
        "        self.plot(ax_rec_comp, num_epochs_ax,\n",
        "                  train_measurements_comp['recall'], valid_measurements_comp['recall'],\n",
        "                  title='Recall')\n",
        "        self.plot(ax_prec_comp, num_epochs_ax,\n",
        "                  train_measurements_comp['precision'], valid_measurements_comp['precision'],\n",
        "                  title='Precision')\n",
        "        plt.show()"
      ],
      "execution_count": null,
      "outputs": []
    },
    {
      "cell_type": "markdown",
      "metadata": {
        "id": "sstEVn-5PGJZ"
      },
      "source": [
        "### Loss Function"
      ]
    },
    {
      "cell_type": "code",
      "metadata": {
        "colab": {
          "base_uri": "https://localhost:8080/"
        },
        "id": "iN7BytznRhb0",
        "outputId": "85dfbcb2-692f-4fde-fb2d-3a3efac3bf5f"
      },
      "source": [
        "loss_function = torch.nn.CrossEntropyLoss()\n",
        "\n",
        "#If GPU is present transfer the loss function on it\n",
        "if torch.cuda.is_available():\n",
        "    print('Loss Function to GPU')\n",
        "    loss_function.to(device)"
      ],
      "execution_count": null,
      "outputs": [
        {
          "output_type": "stream",
          "text": [
            "Loss Function to GPU\n"
          ],
          "name": "stdout"
        }
      ]
    },
    {
      "cell_type": "markdown",
      "metadata": {
        "id": "D2oRwOHNHynd"
      },
      "source": [
        "#Architectures"
      ]
    },
    {
      "cell_type": "markdown",
      "metadata": {
        "id": "OEsIT_rZdN_J"
      },
      "source": [
        "### Base Architectures"
      ]
    },
    {
      "cell_type": "code",
      "metadata": {
        "id": "0n71mSi598D1"
      },
      "source": [
        "class BaseNN(torch.nn.Module):\n",
        "    \"\"\"\n",
        "    Defines merging procedure for the claim and evidence's sentence encoding\n",
        "    and also the final fully connected layer.\n",
        "    \"\"\"\n",
        "    merging_strategy_values = ['concat','sum','mean']\n",
        "\n",
        "    def __init__(self, num_features, output_dim, merging_strategy, compute_cosine_similarity=False, dropout=0.0, device=torch.device('cpu')):\n",
        "        \"\"\"\n",
        "        Initialization procedure.\n",
        "\n",
        "        Parameters\n",
        "        ----------\n",
        "            num_features : int\n",
        "                The sentence's embedding dimension of claim and evidence.\n",
        "            output_dim : int\n",
        "                Number of class to be predicted (2 in our case).\n",
        "            merging_strategy : str\n",
        "                One of 'concat', 'sum' or 'mean'.\n",
        "            compute_cosine_similarity : bool, False by default\n",
        "                If True computes and pass to the final FC layer the cosine\n",
        "                similarity between claim and evidence sentence's embedding.\n",
        "            dropout : int, 0.0 by default\n",
        "                Dropout to be applied before the final FC layer.\n",
        "            device : torch.device\n",
        "                Device where the computation takes place.\n",
        "        \"\"\"\n",
        "        super(BaseNN,self).__init__()\n",
        "\n",
        "        if merging_strategy not in BaseNN.merging_strategy_values:\n",
        "            raise ValueError('The merging strategy should be one of the following: {}'.format(BaseNN.merging_strategy_values))\n",
        "        self.merging_strategy = merging_strategy\n",
        "\n",
        "        self.compute_cosine_similarity = compute_cosine_similarity\n",
        "        if self.compute_cosine_similarity:\n",
        "            self.cosine_similarity = torch.nn.CosineSimilarity()\n",
        "\n",
        "        self.dropout = torch.nn.Dropout(dropout)\n",
        "\n",
        "        self.num_features = num_features\n",
        "        self.fc_input_dim = self.num_features*2 if self.merging_strategy=='concat' else self.num_features\n",
        "        self.fc_input_dim = self.fc_input_dim+1 if self.compute_cosine_similarity else self.fc_input_dim\n",
        "        #LayerNorm\n",
        "        self.layer_norm = torch.nn.GroupNorm(1,self.fc_input_dim)\n",
        "        #Fully connected layer\n",
        "        self.fc = torch.nn.Linear(self.fc_input_dim, output_dim)\n",
        "\n",
        "        self.device = device\n",
        "\n",
        "\n",
        "    def end_init(self):\n",
        "        self.init_params()\n",
        "        self = self.double()\n",
        "        self.to(self.device)\n",
        "\n",
        "    def init_f(self, x):\n",
        "        \"\"\"\n",
        "        Function used by init_param to initialize the parameters.\n",
        "        \"\"\"\n",
        "        for name, param in x.named_parameters():\n",
        "            try:\n",
        "                torch.nn.init.orthogonal_(param.data)\n",
        "            except ValueError:\n",
        "                torch.nn.init.normal_(param.data, mean = 0, std = 0.1)\n",
        "\n",
        "    def init_params(self):\n",
        "        \"\"\"\n",
        "        Initialize the model's parameters.\n",
        "        \"\"\"\n",
        "        self.apply(self.init_f)\n",
        "\n",
        "\n",
        "    def get_encodings(self, claim, evidence):\n",
        "        \"\"\"\n",
        "        Procedure to be implemented by the child classes: it needs to return the\n",
        "        sentence's encoding for both claim and evidence.\n",
        "        \"\"\"\n",
        "        raise NotImplementedError('The function get_encoding should be implemented')\n",
        "\n",
        "    def forward(self, claim, evidence):\n",
        "        enc_claim, enc_evidence = self.get_encodings(claim, evidence)\n",
        "\n",
        "        if self.merging_strategy=='concat':\n",
        "            features = torch.cat([enc_claim, enc_evidence], dim=1)\n",
        "        elif self.merging_strategy=='sum':\n",
        "            features = enc_claim + enc_evidence\n",
        "        elif self.merging_strategy=='mean':\n",
        "            features = (enc_claim + enc_evidence)/2\n",
        "\n",
        "        if self.compute_cosine_similarity:\n",
        "            features = torch.cat([features, self.cosine_similarity(enc_claim, enc_evidence).unsqueeze(dim=1)], dim=1)\n",
        "\n",
        "        features = self.layer_norm(features)\n",
        "        predictions = self.fc(self.dropout(features))\n",
        "        return predictions"
      ],
      "execution_count": null,
      "outputs": []
    },
    {
      "cell_type": "markdown",
      "metadata": {
        "id": "jeZDyZcMcomT"
      },
      "source": [
        "BaseRNN is a base architecture inherited by those classes that encode claims and evidences by means of RNNs."
      ]
    },
    {
      "cell_type": "code",
      "metadata": {
        "id": "SNSdnPYUCay1"
      },
      "source": [
        "class BaseRNN(BaseNN):\n",
        "    \"\"\"\n",
        "    Defines the feature extraction procedure for both claim and evidence.\n",
        "    The classification part is handled by the forward function of the parent class\n",
        "    BaseNN.\n",
        "    \"\"\"\n",
        "    feature_extractor_types = ['rnn','lstm']\n",
        "\n",
        "    def __init__(self, embedding_dim, hidden_dim, max_tokens, output_dim, merging_strategy, compute_cosine_similarity=False, dropout=0.0,\n",
        "                 num_features=None, num_rnn=2, feature_extractor_type='lstm', bidirectional=False, num_layers=1, device=torch.device('cpu')):\n",
        "        \"\"\"\n",
        "        Initialization procedure.\n",
        "\n",
        "        Parameters\n",
        "        ----------\n",
        "            embedding_dim : int\n",
        "            hidden_dim : int\n",
        "            max_tokens : int\n",
        "            output_dim : int\n",
        "                Number of class to be predicted (2 in our case).\n",
        "            merging_strategy : str\n",
        "                One of 'concat', 'sum' or 'mean'.\n",
        "            compute_cosine_similarity : bool, False by default\n",
        "                If True computes and pass to the final FC layer the cosine\n",
        "                similarity between claim and evidence sentence's embedding.\n",
        "            dropout : int, 0.0 by default\n",
        "                Dropout to be applied before the final FC layer.\n",
        "            num_features : int, None by default\n",
        "                If not None is passed to num_features parameters of BaseNN instead\n",
        "                of hidden_dim.\n",
        "            num_rnn : int, 2 by default\n",
        "                Number of RNN to use to compute claim and evidence. Can be either\n",
        "                1 or 2.\n",
        "            feature_extractor_type : str\n",
        "                Kind of RNN to be used.\n",
        "            bidirectional : bool, False by default\n",
        "            num_layers : int, 1 by default\n",
        "            device : torch.device\n",
        "                Device where the computation takes place.\n",
        "        \"\"\"\n",
        "        if feature_extractor_type not in BaseRNN.feature_extractor_types:\n",
        "            raise ValueError('feature_extractor_types must be one of the following values: '\\\n",
        "                             '{}, it is {} instead'.format(BaseRNN.feature_extractor_types,\n",
        "                                                           feature_extractor_type))\n",
        "        if num_rnn not in [1,2]:\n",
        "            raise ValueError('num_rnn must be either 1 or 2, it is {} instead'.format(num_rnn))\n",
        "        self.num_rnn = num_rnn\n",
        "\n",
        "        self.hidden_dim = hidden_dim\n",
        "\n",
        "        self.bidirectional = bidirectional\n",
        "        self.num_directions = 1 if not self.bidirectional else 2\n",
        "        self.num_layers = num_layers\n",
        "\n",
        "        self.feature_extractor_type = feature_extractor_type\n",
        "        self.max_tokens = max_tokens\n",
        "\n",
        "\n",
        "        super(BaseRNN,self).__init__(num_features=self.hidden_dim if num_features is None else num_features,\n",
        "                                     output_dim=output_dim,\n",
        "                                     merging_strategy=merging_strategy,\n",
        "                                     compute_cosine_similarity=compute_cosine_similarity,\n",
        "                                     dropout=dropout,\n",
        "                                     device=device)\n",
        "        \n",
        "        \n",
        "        rnn_string = 'torch.nn.'+self.feature_extractor_type.upper()+ \\\n",
        "                              '(input_size=embedding_dim,'+ \\\n",
        "                              ' hidden_size=self.hidden_dim,'+ \\\n",
        "                              ' bidirectional=self.bidirectional,'+ \\\n",
        "                              ' num_layers=self.num_layers,'+ \\\n",
        "                              ' batch_first=True)'\n",
        "\n",
        "        self.rnn_claim = eval(rnn_string)\n",
        "        if self.num_rnn==2:\n",
        "            self.rnn_evidence = eval(rnn_string)\n",
        "        \n",
        "        self.end_init()\n",
        "\n",
        "    \n",
        "        \n",
        "    def init_hidden(self, batch_size):\n",
        "        if self.feature_extractor_type=='rnn':\n",
        "            hidden = torch.randn(self.num_layers*self.num_directions, batch_size, self.hidden_dim, device=self.device, dtype=torch.double)\n",
        "        elif self.feature_extractor_type=='lstm':\n",
        "            hidden = (torch.randn(self.num_layers*self.num_directions, batch_size, self.hidden_dim, device=self.device, dtype=torch.double),\n",
        "                      torch.randn(self.num_layers*self.num_directions, batch_size, self.hidden_dim, device=self.device, dtype=torch.double))\n",
        "        return hidden\n",
        "\n",
        "    def forward(self, claim, evidence):\n",
        "        self.hidden_claim = self.init_hidden(batch_size=claim.unsorted_indices.shape[0])\n",
        "        self.hidden_evidence = self.init_hidden(batch_size=evidence.unsorted_indices.shape[0])\n",
        "        return super(BaseRNN,self).forward(claim, evidence)\n",
        "\n",
        "    def enc_f(self, vec, length):\n",
        "        \"\"\"\n",
        "        To be implemented by the child classes. Defines the construction process\n",
        "        of the sentence's embedding.\n",
        "        Parameters\n",
        "        ----------\n",
        "            vec : torch.tensor\n",
        "                tensor of size [max_tokens, hidden_dim].\n",
        "            length :\n",
        "                length of the unpadded sequence.\n",
        "        Returns\n",
        "        -------\n",
        "            torch.tensor of size [hidden_dim]\n",
        "        \"\"\"\n",
        "        raise NotImplementedError('enc_f must be implemented.')\n",
        "\n",
        "    def get_encodings(self, claim, evidence):\n",
        "        enc_claim, self.hidden_claim = self.rnn_claim(claim, self.hidden_claim)\n",
        "        if self.num_rnn==2:\n",
        "            enc_evidence, self.hidden_evidence = self.rnn_evidence(evidence, self.hidden_evidence)\n",
        "        elif self.num_rnn==1:\n",
        "            enc_evidence, self.hidden_evidence = self.rnn_claim(evidence, self.hidden_evidence)\n",
        "\n",
        "        enc_claim, lens_claim = torch.nn.utils.rnn.pad_packed_sequence(enc_claim,\n",
        "                                                           batch_first=True,\n",
        "                                                           padding_value=0.0,\n",
        "                                                           total_length=self.max_tokens)\n",
        "        enc_evidence, lens_evidence = torch.nn.utils.rnn.pad_packed_sequence(enc_evidence,\n",
        "                                                              batch_first=True,\n",
        "                                                              padding_value=0.0,\n",
        "                                                              total_length=self.max_tokens)\n",
        "\n",
        "        if self.bidirectional:\n",
        "            enc_claim = enc_claim[:, :, :self.hidden_dim] + enc_claim[:, :, self.hidden_dim:]\n",
        "            enc_evidence = enc_evidence[:, :, :self.hidden_dim] + enc_evidence[:, :, self.hidden_dim:]\n",
        "\n",
        "\n",
        "        enc_claim = torch.stack([self.enc_f(vec,lens_claim[idx]) for idx,vec in enumerate(enc_claim)], dim=0)\n",
        "        enc_evidence = torch.stack([self.enc_f(vec,lens_evidence[idx]) for idx,vec in enumerate(enc_evidence)], dim=0)\n",
        "        return enc_claim, enc_evidence"
      ],
      "execution_count": null,
      "outputs": []
    },
    {
      "cell_type": "markdown",
      "metadata": {
        "id": "e2q3wYe2dcbR"
      },
      "source": [
        "### RNN's last state"
      ]
    },
    {
      "cell_type": "code",
      "metadata": {
        "id": "MfZ2gYNbxUqB"
      },
      "source": [
        "class RNN_LSEnc(BaseRNN):\n",
        "    \"\"\"\n",
        "    Uses the last state as encoding.\n",
        "    \"\"\"\n",
        "    def enc_f(self, vec, length):\n",
        "        \"\"\"\n",
        "        Parameters\n",
        "        ----------\n",
        "            vec : torch.tensor\n",
        "                tensor of size [max_tokens, hidden_dim].\n",
        "            length :\n",
        "                length of the unpadded sequence.\n",
        "        Returns\n",
        "        -------\n",
        "            torch.tensor of size [hidden_dim]\n",
        "        \"\"\"\n",
        "        return vec[length-1,:]"
      ],
      "execution_count": null,
      "outputs": []
    },
    {
      "cell_type": "code",
      "metadata": {
        "id": "PTnwIaOwqjyx"
      },
      "source": [
        "model_lsenc = RNN_LSEnc(embedding_dim = embedding_dim,\n",
        "                        hidden_dim=128,\n",
        "                        max_tokens=max_tokens,\n",
        "                        output_dim=2,\n",
        "                        merging_strategy='mean',\n",
        "                        compute_cosine_similarity=True,\n",
        "                        dropout=0.20,\n",
        "                        device=device)"
      ],
      "execution_count": null,
      "outputs": []
    },
    {
      "cell_type": "markdown",
      "metadata": {
        "id": "LOGQAeGyOUND"
      },
      "source": [
        "#### Training"
      ]
    },
    {
      "cell_type": "code",
      "metadata": {
        "id": "kp1pYNtOqPA3"
      },
      "source": [
        "optimizer = torch.optim.Adam(model_lsenc.parameters(), amsgrad=True, lr=0.001, weight_decay=1e-5)\n",
        "lr_scheduler = torch.optim.lr_scheduler.ReduceLROnPlateau(optimizer, factor=0.5, patience=5, threshold=1e-3)\n",
        "\n",
        "lsenc_train = Train(model = model_lsenc,\n",
        "                    loss_function = loss_function,\n",
        "                    optimizer = optimizer,\n",
        "                    lr_scheduler = lr_scheduler,\n",
        "                    lr_scheduler_metric = True)\n",
        "\n",
        "lsenc_train(20, train_batches, val_batches)"
      ],
      "execution_count": null,
      "outputs": []
    },
    {
      "cell_type": "markdown",
      "metadata": {
        "id": "yY2lilsWOZ1y"
      },
      "source": [
        "#### Display Results"
      ]
    },
    {
      "cell_type": "code",
      "metadata": {
        "id": "6YDL15R2WUMo"
      },
      "source": [
        "lsenc_train.display_results()"
      ],
      "execution_count": null,
      "outputs": []
    },
    {
      "cell_type": "markdown",
      "metadata": {
        "id": "zzQXpztvdfJa"
      },
      "source": [
        "### RNN's states' average"
      ]
    },
    {
      "cell_type": "code",
      "metadata": {
        "id": "odFjf4CSTt0H"
      },
      "source": [
        "class RNN_AVGEnc(BaseRNN):\n",
        "    \"\"\"\n",
        "    Uses the average of all states as encoding.\n",
        "    \"\"\"\n",
        "    def enc_f(self, vec, length):\n",
        "        \"\"\"\n",
        "        Parameters\n",
        "        ----------\n",
        "            vec : torch.tensor\n",
        "                tensor of size [max_tokens, hidden_dim].\n",
        "            length :\n",
        "                length of the unpadded sequence.\n",
        "        Returns\n",
        "        -------\n",
        "            torch.tensor of size [hidden_dim]\n",
        "        \"\"\"\n",
        "        return torch.mean(vec[:length,:], dim=0)"
      ],
      "execution_count": null,
      "outputs": []
    },
    {
      "cell_type": "code",
      "metadata": {
        "id": "U4947eMFOjvy"
      },
      "source": [
        "model_avgenc = RNN_AVGEnc(embedding_dim = embedding_dim,\n",
        "                          hidden_dim=64,\n",
        "                          max_tokens=max_tokens,\n",
        "                          output_dim=2,\n",
        "                          merging_strategy='concat',\n",
        "                          compute_cosine_similarity=True,\n",
        "                          dropout=0.0,\n",
        "                          bidirectional=True,\n",
        "                          device=device)"
      ],
      "execution_count": null,
      "outputs": []
    },
    {
      "cell_type": "markdown",
      "metadata": {
        "id": "VZzGiVvAOkZa"
      },
      "source": [
        "#### Training"
      ]
    },
    {
      "cell_type": "code",
      "metadata": {
        "id": "aGr-2mAEOLWe"
      },
      "source": [
        "optimizer = torch.optim.Adam(model_avgenc.parameters(), amsgrad=True, lr=0.001, weight_decay=1e-5)\n",
        "lr_scheduler = torch.optim.lr_scheduler.ReduceLROnPlateau(optimizer, factor=0.5, patience=5, threshold=1e-3)\n",
        "\n",
        "avgenc_train = Train(model = model_avgenc,\n",
        "                     loss_function = loss_function,\n",
        "                     optimizer = optimizer,\n",
        "                     lr_scheduler = lr_scheduler,\n",
        "                     lr_scheduler_metric = True)\n",
        "\n",
        "avgenc_train(20, train_batches, val_batches)"
      ],
      "execution_count": null,
      "outputs": []
    },
    {
      "cell_type": "markdown",
      "metadata": {
        "id": "D_iWroSiOlID"
      },
      "source": [
        "#### Display Results"
      ]
    },
    {
      "cell_type": "code",
      "metadata": {
        "id": "oisDBW_COLb9"
      },
      "source": [
        "avgenc_train.display_results()"
      ],
      "execution_count": null,
      "outputs": []
    },
    {
      "cell_type": "markdown",
      "metadata": {
        "id": "L8abZpDvdq3A"
      },
      "source": [
        "### MLP"
      ]
    },
    {
      "cell_type": "code",
      "metadata": {
        "id": "JwW7JEo2vxR1"
      },
      "source": [
        "class MLPEnc(BaseNN):\n",
        "    \"\"\"\n",
        "    Encodes claim and evidences using MLPs.\n",
        "    \"\"\"\n",
        "    def __init__(self, embedding_dim, max_tokens, output_dim, merging_strategy, compute_cosine_similarity=False, dropout=0.0, num_mlp=2,\n",
        "                 device=torch.device('cpu')):\n",
        "\n",
        "        if num_mlp not in [1,2]:\n",
        "            raise ValueError('num_mlp must be either 1 or 2, it is {} instead'.format(num_mlp))\n",
        "        self.num_mlp = num_mlp\n",
        "\n",
        "        super(MLPEnc,self).__init__(num_features=embedding_dim,\n",
        "                                    output_dim=output_dim,\n",
        "                                    merging_strategy=merging_strategy,\n",
        "                                    compute_cosine_similarity=compute_cosine_similarity,\n",
        "                                    dropout=dropout,\n",
        "                                    device=device)\n",
        "        \n",
        "        self.max_tokens = max_tokens\n",
        "        self.mlp_claim = torch.nn.Linear(self.max_tokens,1)\n",
        "        if self.num_mlp==2:\n",
        "            self.mlp_evidence = torch.nn.Linear(self.max_tokens,1)\n",
        "\n",
        "        self.end_init()\n",
        "\n",
        "    def get_encodings(self, claim, evidence):\n",
        "        claim = torch.nn.utils.rnn.pad_packed_sequence(claim,\n",
        "                                                       batch_first=True,\n",
        "                                                       padding_value=0.0,\n",
        "                                                       total_length=self.max_tokens)[0].movedim(1,2)\n",
        "        evidence = torch.nn.utils.rnn.pad_packed_sequence(evidence,\n",
        "                                                          batch_first=True,\n",
        "                                                          padding_value=0.0,\n",
        "                                                          total_length=self.max_tokens)[0].movedim(1,2)\n",
        "\n",
        "        enc_claim = self.mlp_claim(claim)\n",
        "        if self.num_mlp==2:\n",
        "            enc_evidence = self.mlp_evidence(evidence)\n",
        "        elif self.num_mlp==1:\n",
        "            enc_evidence = self.mlp_claim(evidence)\n",
        "\n",
        "        return enc_claim.squeeze(dim=2), enc_evidence.squeeze(dim=2)"
      ],
      "execution_count": null,
      "outputs": []
    },
    {
      "cell_type": "code",
      "metadata": {
        "id": "rOGzp42T1XhY"
      },
      "source": [
        "model_mlpenc = MLPEnc(embedding_dim = embedding_dim,\n",
        "                      max_tokens=max_tokens,\n",
        "                      output_dim=2,\n",
        "                      merging_strategy='concat',\n",
        "                      compute_cosine_similarity=True,\n",
        "                      dropout=0.0,\n",
        "                      device=device)"
      ],
      "execution_count": null,
      "outputs": []
    },
    {
      "cell_type": "markdown",
      "metadata": {
        "id": "aQXRoSYm5f13"
      },
      "source": [
        "#### Training"
      ]
    },
    {
      "cell_type": "code",
      "metadata": {
        "id": "CrCziIKy1WHg"
      },
      "source": [
        "optimizer = torch.optim.Adam(model_mlpenc.parameters(), amsgrad=True, lr=0.001, weight_decay=1e-5)\n",
        "lr_scheduler = torch.optim.lr_scheduler.ReduceLROnPlateau(optimizer, factor=0.5, patience=5, threshold=1e-3)\n",
        "\n",
        "mlpenc_train = Train(model = model_mlpenc,\n",
        "                     loss_function = loss_function,\n",
        "                     optimizer = optimizer,\n",
        "                     lr_scheduler = lr_scheduler,\n",
        "                     lr_scheduler_metric = True)\n",
        "\n",
        "mlpenc_train(20, train_batches, val_batches)"
      ],
      "execution_count": null,
      "outputs": []
    },
    {
      "cell_type": "markdown",
      "metadata": {
        "id": "v6YtTB8E5i33"
      },
      "source": [
        "#### Display Results"
      ]
    },
    {
      "cell_type": "code",
      "metadata": {
        "id": "5r-KYunr5ePg"
      },
      "source": [
        "mlpenc_train.display_results()"
      ],
      "execution_count": null,
      "outputs": []
    },
    {
      "cell_type": "markdown",
      "metadata": {
        "id": "ionIlWAedvpA"
      },
      "source": [
        "### Bag of Vectors"
      ]
    },
    {
      "cell_type": "code",
      "metadata": {
        "id": "DHf5h9wC0SwT"
      },
      "source": [
        "#I think the correct approach is to encode by the dimension of the emb_dim since encoding by max_tokens would require padding\n",
        "class BoVEnc(BaseNN):\n",
        "    \"\"\"\n",
        "    Encodes claim and evidence as the mean of their embedding vectors.\n",
        "    \"\"\"\n",
        "    def __init__(self, embedding_dim, max_tokens, output_dim, merging_strategy,\n",
        "                 compute_cosine_similarity=False ,dropout=0.0 ,device=torch.device('cpu')):\n",
        "\n",
        "        super(BoVEnc,self).__init__(num_features=embedding_dim,\n",
        "                                    output_dim=output_dim,\n",
        "                                    merging_strategy=merging_strategy,\n",
        "                                    compute_cosine_similarity=compute_cosine_similarity,\n",
        "                                    dropout=dropout,\n",
        "                                    device=device)\n",
        "        self.max_tokens = max_tokens\n",
        "        self.end_init()\n",
        "\n",
        "    def get_encodings(self, claim, evidence):\n",
        "        enc_claim, lens_claim = torch.nn.utils.rnn.pad_packed_sequence(claim,\n",
        "                                                                       batch_first=True,\n",
        "                                                                       padding_value=0.0,\n",
        "                                                                       total_length=self.max_tokens)\n",
        "        enc_evidence, lens_evidence = torch.nn.utils.rnn.pad_packed_sequence(evidence,\n",
        "                                                                             batch_first=True,\n",
        "                                                                             padding_value=0.0,\n",
        "                                                                             total_length=self.max_tokens)\n",
        "\n",
        "\n",
        "        enc_claim = torch.stack([torch.mean(vec[:lens_claim[idx],:], dim=0) for idx,vec in enumerate(enc_claim)], dim=0)\n",
        "        enc_evidence = torch.stack([torch.mean(vec[:lens_evidence[idx],:], dim=0) for idx,vec in enumerate(enc_evidence)], dim=0)\n",
        "\n",
        "        return enc_claim, enc_evidence"
      ],
      "execution_count": null,
      "outputs": []
    },
    {
      "cell_type": "code",
      "metadata": {
        "id": "A8MY-Sk_5rde"
      },
      "source": [
        "model_bovenc = BoVEnc(embedding_dim = embedding_dim,\n",
        "                      max_tokens=max_tokens,\n",
        "                      output_dim=2,\n",
        "                      merging_strategy='concat',\n",
        "                      compute_cosine_similarity=True,\n",
        "                      dropout=0.0,\n",
        "                      device=device)"
      ],
      "execution_count": null,
      "outputs": []
    },
    {
      "cell_type": "markdown",
      "metadata": {
        "id": "agSdc5H35rm4"
      },
      "source": [
        "#### Training"
      ]
    },
    {
      "cell_type": "code",
      "metadata": {
        "id": "TV8yck6P5rw2"
      },
      "source": [
        "optimizer = torch.optim.Adam(model_bovenc.parameters(), amsgrad=True, lr=0.001, weight_decay=1e-5)\n",
        "lr_scheduler = torch.optim.lr_scheduler.ReduceLROnPlateau(optimizer, factor=0.5, patience=5, threshold=1e-3)\n",
        "\n",
        "bovenc_train = Train(model = model_bovenc,\n",
        "                     loss_function = loss_function,\n",
        "                     optimizer = optimizer,\n",
        "                     lr_scheduler = lr_scheduler,\n",
        "                     lr_scheduler_metric = True)\n",
        "\n",
        "bovenc_train(20, train_batches, val_batches)"
      ],
      "execution_count": null,
      "outputs": []
    },
    {
      "cell_type": "markdown",
      "metadata": {
        "id": "jI4CiDt_5r2k"
      },
      "source": [
        "#### Display Results"
      ]
    },
    {
      "cell_type": "code",
      "metadata": {
        "id": "min8NYHo5r7k"
      },
      "source": [
        "bovenc_train.display_results()"
      ],
      "execution_count": null,
      "outputs": []
    },
    {
      "cell_type": "markdown",
      "metadata": {
        "id": "8ARkV283t0A7"
      },
      "source": [
        "### Other approaches"
      ]
    },
    {
      "cell_type": "markdown",
      "metadata": {
        "id": "JtPS91oulEDI"
      },
      "source": [
        "#### RNN's last state skip connection"
      ]
    },
    {
      "cell_type": "code",
      "metadata": {
        "id": "-hBStBAplBPh"
      },
      "source": [
        "class RNN_LSEnc_SkipC(RNN_LSEnc):\n",
        "    \"\"\"\n",
        "    Like RNN_LSEnc but the ouput of the RNNs is summed by the mean of the sentence's words'\n",
        "    embeddings (reduced to the proper dimension through a 1x1 convolution).\n",
        "    \"\"\"\n",
        "    def __init__(self, embedding_dim, hidden_dim, max_tokens, output_dim, merging_strategy, compute_cosine_similarity=False, dropout=0.0,\n",
        "                 num_rnn=2, feature_extractor_type='lstm', bidirectional=False, num_layers=1, device=torch.device('cpu')):\n",
        "        super(RNN_LSEnc_SkipC,self).__init__(embedding_dim=embedding_dim,\n",
        "                                            hidden_dim=hidden_dim,\n",
        "                                            max_tokens=max_tokens,\n",
        "                                            output_dim=output_dim,\n",
        "                                            merging_strategy=merging_strategy,\n",
        "                                            compute_cosine_similarity=compute_cosine_similarity,\n",
        "                                            dropout=dropout,\n",
        "                                            num_rnn=num_rnn,\n",
        "                                            feature_extractor_type=feature_extractor_type,\n",
        "                                            bidirectional=bidirectional,\n",
        "                                            num_layers=num_layers,\n",
        "                                            device=device)\n",
        "       \n",
        "        self.conv_claim = torch.nn.Conv1d(in_channels=embedding_dim,\n",
        "                                          out_channels=hidden_dim,\n",
        "                                          kernel_size=1)\n",
        "        self.batchn_claim = torch.nn.BatchNorm1d(hidden_dim)\n",
        "        if self.num_rnn==2:\n",
        "            self.conv_evidence = torch.nn.Conv1d(in_channels=embedding_dim,\n",
        "                                                 out_channels=hidden_dim,\n",
        "                                                 kernel_size=1)\n",
        "            self.batchn_evidence = torch.nn.BatchNorm1d(hidden_dim)\n",
        "\n",
        "        self.end_init()\n",
        "\n",
        "    def get_encodings(self, claim, evidence):\n",
        "        enc_claim, enc_evidence = super(RNN_LSEnc_SkipC,self).get_encodings(claim, evidence)\n",
        "\n",
        "        claim, lens_claim = torch.nn.utils.rnn.pad_packed_sequence(claim,\n",
        "                                                                batch_first=True,\n",
        "                                                                padding_value=0.0,\n",
        "                                                                total_length=self.max_tokens)\n",
        "        evidence, lens_evidence = torch.nn.utils.rnn.pad_packed_sequence(evidence,\n",
        "                                                                        batch_first=True,\n",
        "                                                                        padding_value=0.0,\n",
        "                                                                        total_length=self.max_tokens)\n",
        "\n",
        "        claim = torch.stack([torch.mean(vec[:lens_claim[idx],:], dim=0) for idx,vec in enumerate(claim)], dim=0)\n",
        "        evidence = torch.stack([torch.mean(vec[:lens_evidence[idx],:], dim=0) for idx,vec in enumerate(evidence)], dim=0)\n",
        "\n",
        "        claim = self.conv_claim(claim.unsqueeze(dim=2)).squeeze()\n",
        "        claim = self.batchn_claim(claim)\n",
        "        if self.num_rnn==2:\n",
        "            evidence = self.conv_evidence(evidence.unsqueeze(dim=2)).squeeze()\n",
        "            evidence = self.batchn_evidence(evidence)\n",
        "        elif self.num_rnn==1:\n",
        "            evidence = self.conv_claim(evidence.unsqueeze(dim=2)).squeeze()\n",
        "            evidence = self.batchn_claim(evidence)\n",
        "\n",
        "        enc_claim = enc_claim + claim\n",
        "        enc_evidence = enc_evidence + evidence\n",
        "\n",
        "        return enc_claim, enc_evidence"
      ],
      "execution_count": null,
      "outputs": []
    },
    {
      "cell_type": "code",
      "metadata": {
        "id": "rrPsGMAKmdZw"
      },
      "source": [
        "model_lsenc_skipc = RNN_LSEnc_SkipC(embedding_dim = embedding_dim,\n",
        "                                    hidden_dim=128,\n",
        "                                    max_tokens=max_tokens,\n",
        "                                    output_dim=2,\n",
        "                                    merging_strategy='concat',\n",
        "                                    compute_cosine_similarity=True,\n",
        "                                    dropout=0.2,\n",
        "                                    device=device)"
      ],
      "execution_count": null,
      "outputs": []
    },
    {
      "cell_type": "code",
      "metadata": {
        "id": "tR5tNjYGmdia"
      },
      "source": [
        "optimizer = torch.optim.Adam(model_lsenc_skipc.parameters(), amsgrad=True, lr=0.001, weight_decay=1e-5)\n",
        "lr_scheduler = torch.optim.lr_scheduler.ReduceLROnPlateau(optimizer, factor=0.5, patience=5, threshold=1e-3)\n",
        "\n",
        "lsenc_skipc_train = Train(model = model_lsenc_skipc,\n",
        "                          loss_function = loss_function,\n",
        "                          optimizer = optimizer,\n",
        "                          lr_scheduler = lr_scheduler,\n",
        "                          lr_scheduler_metric = True)\n",
        "\n",
        "lsenc_skipc_train(20, train_batches, val_batches)"
      ],
      "execution_count": null,
      "outputs": []
    },
    {
      "cell_type": "code",
      "metadata": {
        "id": "jqXiw8OPmdmd"
      },
      "source": [
        "lsenc_skipc_train.display_results()"
      ],
      "execution_count": null,
      "outputs": []
    },
    {
      "cell_type": "markdown",
      "metadata": {
        "id": "sdhzJ_h_k2Qc"
      },
      "source": [
        "#### RNN's states' average skip connection"
      ]
    },
    {
      "cell_type": "code",
      "metadata": {
        "id": "2prMiIWJ8fzR"
      },
      "source": [
        "class RNN_AVGEnc_SkipC(BaseRNN):\n",
        "    \"\"\"\n",
        "    Like RNN_AVGEnc but before averaging the outputs they are summed to the\n",
        "    input embeddings (with dimension properly resized through a 1x1 convolution).\n",
        "    \"\"\"\n",
        "    def __init__(self, embedding_dim, hidden_dim, max_tokens, output_dim, merging_strategy, compute_cosine_similarity=False, dropout=0.0,\n",
        "                 num_rnn=2, feature_extractor_type='lstm', bidirectional=False, num_layers=1, device=torch.device('cpu')):\n",
        "        super(RNN_AVGEnc_SkipC,self).__init__(embedding_dim=embedding_dim,\n",
        "                                              hidden_dim=hidden_dim,\n",
        "                                              max_tokens=max_tokens,\n",
        "                                              output_dim=output_dim,\n",
        "                                              merging_strategy=merging_strategy,\n",
        "                                              compute_cosine_similarity=compute_cosine_similarity,\n",
        "                                              dropout=dropout,\n",
        "                                              num_rnn=num_rnn,\n",
        "                                              feature_extractor_type=feature_extractor_type,\n",
        "                                              bidirectional=bidirectional,\n",
        "                                              num_layers=num_layers,\n",
        "                                              device=device)\n",
        "       \n",
        "        self.conv_claim = torch.nn.Conv1d(in_channels=embedding_dim,\n",
        "                                          out_channels=hidden_dim,\n",
        "                                          kernel_size=1)\n",
        "        self.batchn_claim = torch.nn.BatchNorm1d(hidden_dim)\n",
        "        if self.num_rnn==2:\n",
        "            self.conv_evidence = torch.nn.Conv1d(in_channels=embedding_dim,\n",
        "                                                 out_channels=hidden_dim,\n",
        "                                                 kernel_size=1)\n",
        "            self.batchn_evidence = torch.nn.BatchNorm1d(hidden_dim)\n",
        "\n",
        "        self.end_init()\n",
        "\n",
        "\n",
        "    def enc_f(self, vec, length):\n",
        "        return vec\n",
        "\n",
        "    def get_encodings(self, claim, evidence):\n",
        "        enc_claim, enc_evidence = super(RNN_AVGEnc_SkipC,self).get_encodings(claim, evidence)\n",
        "\n",
        "        claim, lens_claim = torch.nn.utils.rnn.pad_packed_sequence(claim,\n",
        "                                                       batch_first=True,\n",
        "                                                       padding_value=0.0,\n",
        "                                                       total_length=self.max_tokens)\n",
        "        evidence, lens_evidence = torch.nn.utils.rnn.pad_packed_sequence(evidence,\n",
        "                                                          batch_first=True,\n",
        "                                                          padding_value=0.0,\n",
        "                                                          total_length=self.max_tokens)\n",
        "\n",
        "        claim = self.conv_claim(claim.movedim(1,2))\n",
        "        claim = self.batchn_claim(claim).movedim(1,2)\n",
        "        if self.num_rnn==2:\n",
        "            evidence = self.conv_evidence(evidence.movedim(1,2))\n",
        "            evidence = self.batchn_evidence(evidence).movedim(1,2)\n",
        "        elif self.num_rnn==1:\n",
        "            evidence = self.conv_claim(evidence.movedim(1,2))\n",
        "            evidence = self.batchn_claim(evidence).movedim(1,2)\n",
        "\n",
        "        enc_claim = enc_claim + claim\n",
        "        enc_evidence = enc_evidence + evidence\n",
        "\n",
        "        enc_claim = torch.stack([torch.mean(vec[:lens_claim[idx],:], dim=0) for idx,vec in enumerate(enc_claim)], dim=0)\n",
        "        enc_evidence = torch.stack([torch.mean(vec[:lens_evidence[idx],:], dim=0) for idx,vec in enumerate(enc_evidence)], dim=0)\n",
        "\n",
        "        return enc_claim, enc_evidence"
      ],
      "execution_count": null,
      "outputs": []
    },
    {
      "cell_type": "code",
      "metadata": {
        "id": "S2QtYmh6AimE"
      },
      "source": [
        "model_avgenc_skipc = RNN_AVGEnc_SkipC(embedding_dim = embedding_dim,\n",
        "                                      hidden_dim=128,\n",
        "                                      max_tokens=max_tokens,\n",
        "                                      output_dim=2,\n",
        "                                      merging_strategy='concat',\n",
        "                                      compute_cosine_similarity=True,\n",
        "                                      dropout=0.2,\n",
        "                                      bidirectional=True,\n",
        "                                      device=device)"
      ],
      "execution_count": null,
      "outputs": []
    },
    {
      "cell_type": "code",
      "metadata": {
        "id": "FuMcPSmoA4vr"
      },
      "source": [
        "optimizer = torch.optim.Adam(model_avgenc_skipc.parameters(), amsgrad=True, lr=0.001, weight_decay=1e-5)\n",
        "lr_scheduler = torch.optim.lr_scheduler.ReduceLROnPlateau(optimizer, factor=0.5, patience=5, threshold=1e-3)\n",
        "\n",
        "avgenc_skipc_train = Train(model = model_avgenc_skipc,\n",
        "                           loss_function = loss_function,\n",
        "                           optimizer = optimizer,\n",
        "                           lr_scheduler = lr_scheduler,\n",
        "                           lr_scheduler_metric = True)\n",
        "\n",
        "avgenc_skipc_train(20, train_batches, val_batches)"
      ],
      "execution_count": null,
      "outputs": []
    },
    {
      "cell_type": "code",
      "metadata": {
        "id": "HDNg6s_LBFvT"
      },
      "source": [
        "avgenc_skipc_train.display_results()"
      ],
      "execution_count": null,
      "outputs": []
    },
    {
      "cell_type": "markdown",
      "metadata": {
        "id": "tJ8N789O5Fgf"
      },
      "source": [
        "#### RNN's last state + Bag of Vectors"
      ]
    },
    {
      "cell_type": "code",
      "metadata": {
        "id": "hl3vMvjq5F7y"
      },
      "source": [
        "class RNN_LSEnc_BoV(RNN_LSEnc):\n",
        "    \"\"\"\n",
        "    Like RNN_LSEnc but the Bag of Vectors gets concatenated to the RNNs output.\n",
        "    \"\"\"\n",
        "    def __init__(self, embedding_dim, hidden_dim, max_tokens, output_dim, merging_strategy, compute_cosine_similarity=False, dropout=0.0,\n",
        "                 num_rnn=2, feature_extractor_type='lstm', bidirectional=False, num_layers=1, device=torch.device('cpu')):\n",
        "        super(RNN_LSEnc_BoV,self).__init__(embedding_dim=embedding_dim,\n",
        "                                           hidden_dim=hidden_dim,\n",
        "                                           max_tokens=max_tokens,\n",
        "                                           output_dim=output_dim,\n",
        "                                           merging_strategy=merging_strategy,\n",
        "                                           compute_cosine_similarity=compute_cosine_similarity,\n",
        "                                           num_features=hidden_dim+embedding_dim, #HIGHLIGHT\n",
        "                                           dropout=dropout,\n",
        "                                           num_rnn=num_rnn,\n",
        "                                           feature_extractor_type=feature_extractor_type,\n",
        "                                           bidirectional=bidirectional,\n",
        "                                           num_layers=num_layers,\n",
        "                                           device=device)\n",
        "\n",
        "        self.end_init()\n",
        "\n",
        "    def get_encodings(self, claim, evidence):\n",
        "        enc_claim, enc_evidence = super(RNN_LSEnc_BoV,self).get_encodings(claim, evidence)\n",
        "\n",
        "        claim, lens_claim = torch.nn.utils.rnn.pad_packed_sequence(claim,\n",
        "                                                                batch_first=True,\n",
        "                                                                padding_value=0.0,\n",
        "                                                                total_length=self.max_tokens)\n",
        "        evidence, lens_evidence = torch.nn.utils.rnn.pad_packed_sequence(evidence,\n",
        "                                                                        batch_first=True,\n",
        "                                                                        padding_value=0.0,\n",
        "                                                                        total_length=self.max_tokens)\n",
        "\n",
        "        claim = torch.stack([torch.mean(vec[:lens_claim[idx],:], dim=0) for idx,vec in enumerate(claim)], dim=0)\n",
        "        evidence = torch.stack([torch.mean(vec[:lens_evidence[idx],:], dim=0) for idx,vec in enumerate(evidence)], dim=0)\n",
        "\n",
        "        enc_claim = torch.cat([enc_claim, claim], dim=1)\n",
        "        enc_evidence =  torch.cat([enc_evidence, evidence], dim=1)\n",
        "\n",
        "        return enc_claim, enc_evidence"
      ],
      "execution_count": null,
      "outputs": []
    },
    {
      "cell_type": "code",
      "metadata": {
        "id": "38Dxbs_O6PGI"
      },
      "source": [
        "model_lsenc_bov = RNN_LSEnc_BoV(embedding_dim = embedding_dim,\n",
        "                                hidden_dim=64,\n",
        "                                max_tokens=max_tokens,\n",
        "                                output_dim=2,\n",
        "                                merging_strategy='concat',\n",
        "                                compute_cosine_similarity=True,\n",
        "                                dropout=0.0,\n",
        "                                device=device)"
      ],
      "execution_count": null,
      "outputs": []
    },
    {
      "cell_type": "code",
      "metadata": {
        "id": "8m_MPTqB6PSA"
      },
      "source": [
        "optimizer = torch.optim.Adam(model_lsenc_bov.parameters(), amsgrad=True, lr=0.001, weight_decay=1e-5)\n",
        "lr_scheduler = torch.optim.lr_scheduler.ReduceLROnPlateau(optimizer, factor=0.5, patience=3, threshold=1e-3)\n",
        "\n",
        "lsenc_bov_train = Train(model = model_lsenc_bov,\n",
        "                        loss_function = loss_function,\n",
        "                        optimizer = optimizer,\n",
        "                        lr_scheduler = lr_scheduler,\n",
        "                        lr_scheduler_metric = True)\n",
        "\n",
        "lsenc_bov_train(20, train_batches, val_batches)"
      ],
      "execution_count": null,
      "outputs": []
    },
    {
      "cell_type": "code",
      "metadata": {
        "id": "HeK0OHb06Pbd"
      },
      "source": [
        "lsenc_bov_train.display_results()"
      ],
      "execution_count": null,
      "outputs": []
    },
    {
      "cell_type": "markdown",
      "metadata": {
        "id": "U9YXCBwjUo5A"
      },
      "source": [
        "#### RNN's last state + MLP"
      ]
    },
    {
      "cell_type": "code",
      "metadata": {
        "id": "mlqakbtNUpAD"
      },
      "source": [
        "class RNN_LSEnc_MLP(RNN_LSEnc):\n",
        "    \"\"\"\n",
        "    Like RNN_LSEnc but the RNNs' output is passed through a FC layer and its dimension\n",
        "    is brough back to be the same as the one of the input's embeddings dimension.\n",
        "    \"\"\"\n",
        "    def __init__(self, embedding_dim, hidden_dim, max_tokens, output_dim, merging_strategy, compute_cosine_similarity=False, dropout=0.0,\n",
        "                 num_rnn=2, num_mlp=2, feature_extractor_type='lstm', bidirectional=False, num_layers=1, device=torch.device('cpu')):\n",
        "        \n",
        "        if num_mlp not in [1,2]:\n",
        "            raise ValueError('num_mlp must be either 1 or 2, it is {} instead'.format(num_mlp))\n",
        "        self.num_mlp = num_mlp\n",
        "\n",
        "\n",
        "        super(RNN_LSEnc_MLP,self).__init__(embedding_dim=embedding_dim,\n",
        "                                           hidden_dim=hidden_dim,\n",
        "                                           max_tokens=max_tokens,\n",
        "                                           output_dim=output_dim,\n",
        "                                           merging_strategy=merging_strategy,\n",
        "                                           compute_cosine_similarity=compute_cosine_similarity,\n",
        "                                           num_features=embedding_dim, #HIGHLIGHT\n",
        "                                           dropout=dropout,\n",
        "                                           num_rnn=num_rnn,\n",
        "                                           feature_extractor_type=feature_extractor_type,\n",
        "                                           bidirectional=bidirectional,\n",
        "                                           num_layers=num_layers,\n",
        "                                           device=device)\n",
        "\n",
        "\n",
        "        self.batchn_claim = torch.nn.GroupNorm(1,hidden_dim)#torch.nn.BatchNorm1d(hidden_dim)\n",
        "        self.mlp_claim = torch.nn.Linear(hidden_dim, embedding_dim)\n",
        "        if self.num_mlp==2:\n",
        "            self.batchn_evidence = torch.nn.GroupNorm(1,hidden_dim)#torch.nn.BatchNorm1d(hidden_dim)\n",
        "            self.mlp_evidence = torch.nn.Linear(hidden_dim, embedding_dim)\n",
        "\n",
        "        self.end_init()\n",
        "\n",
        "    def get_encodings(self, claim, evidence):\n",
        "        enc_claim, enc_evidence = super(RNN_LSEnc_MLP,self).get_encodings(claim, evidence)\n",
        "\n",
        "        claim, lens_claim = torch.nn.utils.rnn.pad_packed_sequence(claim,\n",
        "                                                                batch_first=True,\n",
        "                                                                padding_value=0.0,\n",
        "                                                                total_length=self.max_tokens)\n",
        "        evidence, lens_evidence = torch.nn.utils.rnn.pad_packed_sequence(evidence,\n",
        "                                                                        batch_first=True,\n",
        "                                                                        padding_value=0.0,\n",
        "                                                                        total_length=self.max_tokens)\n",
        "\n",
        "        enc_claim = self.mlp_claim(self.batchn_claim(enc_claim))\n",
        "        if self.num_mlp==2:\n",
        "            enc_evidence = self.mlp_evidence(self.batchn_evidence(enc_evidence))\n",
        "        else:\n",
        "            enc_evidence = self.mlp_claim(self.batchn_claim(enc_evidence))\n",
        "\n",
        "        return enc_claim, enc_evidence"
      ],
      "execution_count": null,
      "outputs": []
    },
    {
      "cell_type": "code",
      "metadata": {
        "id": "ml342DPqWUNw"
      },
      "source": [
        "model_lsenc_mlp = RNN_LSEnc_MLP(embedding_dim = embedding_dim,\n",
        "                                hidden_dim=64,\n",
        "                                max_tokens=max_tokens,\n",
        "                                output_dim=2,\n",
        "                                merging_strategy='concat',\n",
        "                                compute_cosine_similarity=True,\n",
        "                                dropout=0.1,\n",
        "                                device=device)"
      ],
      "execution_count": null,
      "outputs": []
    },
    {
      "cell_type": "code",
      "metadata": {
        "id": "ALIjZIiqWUR2"
      },
      "source": [
        "optimizer = torch.optim.Adam(model_lsenc_mlp.parameters(), amsgrad=True, lr=0.001, weight_decay=1e-5)\n",
        "#optimizer = torch.optim.RMSprop(model_lsenc_mlp.parameters(), lr=0.001, momentum=0.9, weight_decay=1e-5, centered=False)\n",
        "lr_scheduler = torch.optim.lr_scheduler.ReduceLROnPlateau(optimizer, factor=0.5, patience=3, threshold=1e-3)\n",
        "\n",
        "lsenc_mlp_train = Train(model = model_lsenc_mlp,\n",
        "                        loss_function = loss_function,\n",
        "                        optimizer = optimizer,\n",
        "                        lr_scheduler = lr_scheduler,\n",
        "                        lr_scheduler_metric = True)\n",
        "\n",
        "lsenc_mlp_train(20, train_batches, val_batches)"
      ],
      "execution_count": null,
      "outputs": []
    },
    {
      "cell_type": "code",
      "metadata": {
        "id": "H6pvlK_MWUVg"
      },
      "source": [
        "lsenc_mlp_train.display_results()"
      ],
      "execution_count": null,
      "outputs": []
    },
    {
      "cell_type": "markdown",
      "metadata": {
        "id": "S-eiij7XGfAS"
      },
      "source": [
        "# Test\n",
        "The best model found so far it has been observed to be the one which takes as encoding of the sentence the last output of the RNN with skip connections and with the addiction of the cosine similarity between the encodings of the claims and evidences."
      ]
    },
    {
      "cell_type": "code",
      "metadata": {
        "colab": {
          "base_uri": "https://localhost:8080/",
          "height": 159,
          "referenced_widgets": [
            "83b6cbdf9d054ba6b46419df0940296a",
            "913ad7960cae4682b79f763388c04012",
            "fd241428de2049d7915f4cf154272b7e",
            "b2414c8816144a7d8ed4f4968ce410e5",
            "bfb7ff24d11645ee8a5c63959eafeec1",
            "ae97efe95fc24bc0b45ae26c29df63ac",
            "b71d86ed7cc84709b5195240d569e66a",
            "10790c782af349cbb364cd260fb03d88"
          ]
        },
        "id": "GqEGngj2G1dU",
        "outputId": "6086db7a-a5b7-424b-bde0-586e5db6000e"
      },
      "source": [
        "test_evaluation = Train(model = model_lsenc_skipc,\n",
        "                        loss_function = loss_function,\n",
        "                        optimizer=None)\n",
        "\n",
        "loss_test, labels_test, predictions_test, id_claim_test = test_evaluation.evaluate(test_batches)\n",
        "\n",
        "labels_test = labels_test.cpu().detach().numpy()\n",
        "predictions_test = predictions_test.cpu().detach().numpy()\n",
        "id_claim_test = id_claim_test.cpu().detach().numpy()\n",
        "\n",
        "print('Normal measurements:')\n",
        "normal_measurements_dict = test_evaluation.get_measurements(labels_test, predictions_test, 'Test')\n",
        "\n",
        "print('\\nCompound measurements:') \n",
        "grouped_test_labels, test_voting = test_evaluation.get_compound_labels_and_predictions(id_claim_test, labels_test, predictions_test)\n",
        "comp_measurements_dict = test_evaluation.get_measurements(grouped_test_labels, test_voting, 'Test')"
      ],
      "execution_count": null,
      "outputs": [
        {
          "output_type": "display_data",
          "data": {
            "application/vnd.jupyter.widget-view+json": {
              "model_id": "83b6cbdf9d054ba6b46419df0940296a",
              "version_minor": 0,
              "version_major": 2
            },
            "text/plain": [
              "HBox(children=(FloatProgress(value=0.0, max=57.0), HTML(value='')))"
            ]
          },
          "metadata": {
            "tags": []
          }
        },
        {
          "output_type": "stream",
          "text": [
            "\n",
            "Normal measurements:\n",
            "\tTest Acc: 75.35% | Test F1: 0.748 | Test Rec: 0.753 | Test Prec: 0.775\n",
            "\n",
            "Compound measurements:\n",
            "\tTest Acc: 75.28% | Test F1: 0.747 | Test Rec: 0.753 | Test Prec: 0.776\n"
          ],
          "name": "stdout"
        }
      ]
    },
    {
      "cell_type": "markdown",
      "metadata": {
        "id": "qekXMdLSXizM"
      },
      "source": [
        "# Summary\n",
        "\n",
        "The path followed in order to obtain better results can be divided in two directions: improvements on text preprocessing and construction of different NNs' architectures.<br><br>\n",
        "\n",
        "Preprocessing:\n",
        "\n",
        "DataFrame creation:\n",
        "> The first preprocessing step is in the process of the dataframe's creation. Here it has been performed some data cleaning since claim and evidence were not so easy to split from the other columns.<br>\n",
        "The preprocessing in the dataframe creation part is handled as follows:<br>\n",
        "- Deletion of all the quotation marks (\") in order to have an easier split of the data.<br>\n",
        "- Addition of a token identifying the beginning of the evidence<br>\n",
        "- Split of the columns<br>\n",
        "\n",
        "Note: After the dataframe creation, all of the training set's samples are checked in order to find errors in claim and evidence. The found incorrect instances are deleted and the dataframe's indexes are reset. The sentences that are found to be incorrect after the dataframe creation are very little (in the order of 30 instances).<br><br>\n",
        " \n",
        "Pipeline:<br>\n",
        "> Concerning the text preprocessing, it has been constructed a pipeline\n",
        "consisting of different preprocessing functions and then have been selected\n",
        "those which combinations brought the best results.<br>\n",
        "The preprocessing function composing the pipeline are (in order):<br>\n",
        "- Removal of the phonetic alphabet (enclosed between -LSB- and -RSB- tokens)\n",
        "- Convert text to lowercase characters.\n",
        "- Normalization of english contractions using a file<sup>[7]</sup> containing a list of contractions with their respective non-contracted form. An additional double check was done in order to identify the contractions that did not match with the ones in the file (such as: \"Mother's name\", \"It  's\", \"Come  'n\"). Whithout doing so these last words would've been classified as OOVs during the embedding procedure.\n",
        "- Compounded words by hyphen are splitted and the hyphen deleted.\n",
        "- Space added after the following symbols: \", ; .\" only when missing. After that, uncommon symbols are deleted.\n",
        "- Punctuation removal.\n",
        "- The white spaces were normalized and a function of strip was applied.\n",
        "- Tokenization\n",
        "\n",
        ">Other preprocessing steps have been tried but ended up worsening the results and so have been removed from the preprocessing pipeline:\n",
        "- Stemming has been done with porter, lancaster, snowball.<br>\n",
        "- Lemmatization using nltk and spacy, in this last part some tutorials were read in which recommended apply spacy in order to improve the results. In order to run spacy in a reasonable amount of time the lemmatization step has been parallelized.<br>\n",
        "- Spell correction. Unfortunately, the execution time is too long and so it has been discarded.<br>\n",
        "\n",
        "\n",
        "Resampling:\n",
        ">It has also been tried to perform undersampling in order to balance the numbers of SUPPORTED and REFUSED claims.<br>\n",
        "In order to perform undersampling the following methods have been used:\n",
        "- Random: randomly undersample the dataset so that the number of instances belonging to each class are the same (bringing the number of samples of the majority class equal to the minority one).\n",
        "- Proportional: allows to specify the proportion of samples that has to be kept between the classes.\n",
        "- imblearn library functions were tried but no one gave us better results.\n",
        "\n",
        "Encoding:\n",
        ">Labels:<br>\n",
        ">>Since the label only had 2 different values, a binary encoding has been applied.\n",
        "\n",
        ">Claims and evidences:<br>\n",
        ">>For the encoding of claim and evidence the following embedding models have been tried: GloVe, word2vec and Fasttext. With Fasttext there have been issues with Google Colab since it did not allow to download and process the data because of lack of allotted resources, as such the embeddings have been created locally and then uploaded on google drive. The links to dowload them are written in the function that download the embeddings.<br>\n",
        "The embedding model that provided with the best results is Fasttext. <br>\n",
        "\n",
        "<br><br>Architectures:<br>\n",
        "A different number of architectures has been constructed, starting from the ones indicated in the assignment's \"Handling multiple inputs\" section and ending with some additional architecture comprised of mergings of the previous approaches introducing, at times, some tweaks.<br><br>\n",
        "\n",
        "Assignment's architectures:<br>\n",
        "> For starters it has been defined some base architectures to facilitate the construction of the other neural networks (in the section \"Base Architectures\"): in BaseNN are defined the merging strategies of the encodings of claim and evidence and also the last fully connected layer for the classification. In base RNN are defined the forward pass for those architectures that relies on RNNs for feature extraction.<br>\n",
        "The first two models are those that relies on the RNNs for features extraction and are also those that have shown better results.\n",
        "Different kind of RNNs have been tried but through experimentation it has been observed that LSTM is the one that yields better results for this kind of task.<br>\n",
        "The first model uses as claim and evidence sentence's embedding the last output state of the output of the RNNs (also known as many to one approach) while the seconds uses the mean of the output states.<br>\n",
        "Between the two models it has been observed that the one that takes the last state as sentence embedding is the best.<br>\n",
        "For both of the previously mentioned models it has been tried to use just one RNN instead of two to encode both claim and evidence but it has been observed that doing so bring to a slight deterioration of the results<br>\n",
        "The last two model requested by the assignment relies on a fully connected layer and bag of vectors respectively as sentence's embeddings for claim and evidence.\n",
        "Both of the approaches have shown to be rather lacking compared with the first two models which were able to obtain results 10% higher, at least for what concern accuracy and F1-macro.<br><br>\n",
        "\n",
        "Additional architectures:<br>\n",
        ">Some other model that go out of the requirements' scope have been added. These architectures are comprised of tweaks done on the first two RNNs models since are those that showed the best results.<br>\n",
        "Firstly it has been implemented for both the last state and mean models a skip connection layer comprised of a convolutional layer with kernel size of 1x1 which role is to fit the dimension of the input of the RNN to the dimension of the sentence embedding (the output of the RNN). It is worth to say that in case of the last state it is not as easy as the mean case to sum input and output of the RNN since the input is of length max_tokens while the output is a single element. Thus, the input to be summed to the RNN's output has been taken to be the bag of vectors as defined in one of the previous models.<br>\n",
        "Then, in place of using the bag of vector as skip connection for the model that takes the last state as sentence encoding, it has been concatenated to the sentences encodings in the hope of providing more features for the classification phase.<br>\n",
        "Lastly it has been tried to add a fully connected layer right after the RNN bringing back the encoding dimension of the sentence to the encoding dimension of the words used to create such encoding.<br>\n",
        "The best of the additional architectures presented it has been observed to be the one that takes as sentences encoding the RNN's last state with the addition of the skip connection which was able to beat its vanilla counterpart (the one without the skip connection).\n",
        "\n",
        "\n",
        "<br>Some additional notes: it has not been tried to increase the number of layers of the RNNs because of time and computational constraint but, generally speaking, having a deeper network should bring also better results.<br>\n",
        "\n",
        "Regarding the merging strategy, it has been observed that the one that brings better results is the concatenation.<br>\n",
        "The cosine similarity was able to provide for better results.\n"
      ]
    },
    {
      "cell_type": "markdown",
      "metadata": {
        "id": "rddGc451yXdH"
      },
      "source": [
        "# References\n",
        "\n",
        "Preprocessing<br>\n",
        "[1]: Internet, http://bit.ly/38nF7Ih <br>\n",
        "Resampling<br>\n",
        "[2]: Internet, http://bit.ly/2KHJ3vi <br>\n",
        "[3]: Internet, http://bit.ly/3rhII3i <br>\n",
        "[4]: Internet, http://bit.ly/3aE0lUS<br>\n",
        "Encoding<br>\n",
        "[5]: Internet, http://bit.ly/2KOf84v<br>\n",
        "[6]: Internet, http://bit.ly/3asKjNP<br>\n",
        "[7]: Internet, http://bit.ly/3atGZSB<br>"
      ]
    }
  ]
}